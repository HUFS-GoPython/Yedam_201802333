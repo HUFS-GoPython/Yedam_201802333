{
 "cells": [
  {
   "cell_type": "markdown",
   "id": "f21dab76",
   "metadata": {},
   "source": [
    "### 파일과 디렉터리\n",
    "- 디렉터리: 폴더의 다른 말. 파일이 논리적으로 묶인 단위\n",
    "- 파일: 컴퓨터를 실행하는 기본 단위\n",
    "    - 파일명 + 확장자\n",
    "    - 확장자: 파일의 쓰임을 구분하는 글자\n",
    "        - .pdf, .xlsx, .txt, ...\n",
    "    - 종류: 바이너리 파일, 텍스트 파일\n",
    "        - 바이너리: 이진 정보로 저장됨\n",
    "            - 내용을 확인 못 함.\n",
    "            - 해당 확장자를 열 수 있는 프로그램이 필요함.\n",
    "        - 텍스트: 사람이 이해할 수 있는 문자열로 저장됨\n",
    "            - 메모장, html, py\n",
    "            - 변경 기준: 아스키코드, 유니코드\n",
    "            - 인코딩 (encoding)\n",
    "            - utf-8\n",
    "            - cp949"
   ]
  },
  {
   "cell_type": "markdown",
   "id": "1cc77c83",
   "metadata": {},
   "source": [
    "#### 파일 열기\n",
    "- open(파일명, 모드)\n",
    "- 모드\n",
    "    1. 읽기\n",
    "    - r: read (default)\n",
    "    \n",
    "    2.쓰기\n",
    "    - w: write - 파일이 있으면 덮어쓰고, 없으면 생성\n",
    "    - x: 파일이 없을 때만 생성\n",
    "    - a: 있을 때 마지막 라인에 추가\n",
    "    \n",
    "    추가 모드\n",
    "    - b: binary\n",
    "    - t: text\n",
    "    'rb','rt'"
   ]
  },
  {
   "cell_type": "code",
   "execution_count": 31,
   "id": "3287beb4",
   "metadata": {},
   "outputs": [],
   "source": [
    "# 파일 열기\n",
    "file = 'test.txt'\n",
    "f = open(file, 'r')"
   ]
  },
  {
   "cell_type": "code",
   "execution_count": 32,
   "id": "d8eef3db",
   "metadata": {},
   "outputs": [
    {
     "data": {
      "text/plain": [
       "<_io.TextIOWrapper name='test.txt' mode='r' encoding='cp949'>"
      ]
     },
     "execution_count": 32,
     "metadata": {},
     "output_type": "execute_result"
    }
   ],
   "source": [
    "f"
   ]
  },
  {
   "cell_type": "markdown",
   "id": "cb5f7974",
   "metadata": {},
   "source": [
    "#### 파일 읽기\n",
    "- read(): 전체를 하나의 str\n",
    "    - 포인터\n",
    "    - 파일이 엄청 클 때, 전체를 다 읽으면 시간이 오래 걸림 -> 유용\n",
    "- readline(): 한줄만 str\n",
    "- readlines(): 전체를 list, 각 줄이 한 str"
   ]
  },
  {
   "cell_type": "code",
   "execution_count": 33,
   "id": "57a64b30",
   "metadata": {},
   "outputs": [
    {
     "data": {
      "text/plain": [
       "'hello'"
      ]
     },
     "execution_count": 33,
     "metadata": {},
     "output_type": "execute_result"
    }
   ],
   "source": [
    "# 파일 읽기\n",
    "f.read(5)"
   ]
  },
  {
   "cell_type": "code",
   "execution_count": 26,
   "id": "02eaa810",
   "metadata": {},
   "outputs": [],
   "source": [
    "f.close()"
   ]
  },
  {
   "cell_type": "code",
   "execution_count": 34,
   "id": "8c516a37",
   "metadata": {},
   "outputs": [
    {
     "data": {
      "text/plain": [
       "' world\\n'"
      ]
     },
     "execution_count": 34,
     "metadata": {},
     "output_type": "execute_result"
    }
   ],
   "source": [
    "f.readline()"
   ]
  },
  {
   "cell_type": "code",
   "execution_count": 35,
   "id": "8307eb80",
   "metadata": {},
   "outputs": [
    {
     "data": {
      "text/plain": [
       "[\"I'm reading a book.\"]"
      ]
     },
     "execution_count": 35,
     "metadata": {},
     "output_type": "execute_result"
    }
   ],
   "source": [
    "f.readlines()"
   ]
  },
  {
   "cell_type": "code",
   "execution_count": 36,
   "id": "b09b1c9f",
   "metadata": {},
   "outputs": [],
   "source": [
    "f = open(file, 'r')\n",
    "sents = f.readlines()\n",
    "sents = [s.strip() for s in sents] # 텍스트 정제\n",
    "f.close()"
   ]
  },
  {
   "cell_type": "code",
   "execution_count": 37,
   "id": "3f24c821",
   "metadata": {},
   "outputs": [
    {
     "data": {
      "text/plain": [
       "['hello world', \"I'm reading a book.\"]"
      ]
     },
     "execution_count": 37,
     "metadata": {},
     "output_type": "execute_result"
    }
   ],
   "source": [
    "sents"
   ]
  },
  {
   "cell_type": "markdown",
   "id": "f14a23d9",
   "metadata": {},
   "source": [
    "#### 파일 닫기\n",
    "- 파일 여는 즉시 닫기\n",
    "- 자원 해제\n",
    "- 여는 것보다 닫는 것을 더 신경써야 함\n",
    "- 메모리 절약, 에러가 날 수도 있음"
   ]
  },
  {
   "cell_type": "code",
   "execution_count": 38,
   "id": "6fc73826",
   "metadata": {},
   "outputs": [],
   "source": [
    "with open(file, 'r') as f: # file\n",
    "    # open() 적용되는 블럭\n",
    "    content = f.read()\n",
    "# 파일 자동으로 닫힘"
   ]
  },
  {
   "cell_type": "code",
   "execution_count": 39,
   "id": "c5c1e5ea",
   "metadata": {},
   "outputs": [
    {
     "data": {
      "text/plain": [
       "\"hello world\\nI'm reading a book.\""
      ]
     },
     "execution_count": 39,
     "metadata": {},
     "output_type": "execute_result"
    }
   ],
   "source": [
    "content"
   ]
  },
  {
   "cell_type": "code",
   "execution_count": null,
   "id": "b8bdf995",
   "metadata": {},
   "outputs": [],
   "source": [
    "# readline 파일 읽는데, while 사용해서 한줄씩 읽고 strop()해서 리스트에 반환하는 함수 만들기"
   ]
  },
  {
   "cell_type": "code",
   "execution_count": 65,
   "id": "7d40871f",
   "metadata": {},
   "outputs": [],
   "source": [
    "sents = []\n",
    "with open(file, 'r') as f:\n",
    "    while True:\n",
    "        line = f.readline()\n",
    "        if not line:\n",
    "            break\n",
    "        sent = line.strip()\n",
    "        sents.append(sent)"
   ]
  },
  {
   "cell_type": "code",
   "execution_count": 66,
   "id": "e42ebbad",
   "metadata": {},
   "outputs": [
    {
     "data": {
      "text/plain": [
       "['hello world', \"I'm reading a book.\"]"
      ]
     },
     "execution_count": 66,
     "metadata": {},
     "output_type": "execute_result"
    }
   ],
   "source": [
    "sents"
   ]
  },
  {
   "cell_type": "markdown",
   "id": "a52ba6e1",
   "metadata": {},
   "source": [
    "#### 경로가 달라질 때\n",
    "- . : 현재경로\n",
    "- .. : 상위 경로"
   ]
  },
  {
   "cell_type": "code",
   "execution_count": 68,
   "id": "accc5d6c",
   "metadata": {},
   "outputs": [
    {
     "name": "stdout",
     "output_type": "stream",
     "text": [
      "hello world\n",
      "I'm reading a book.\n"
     ]
    }
   ],
   "source": [
    "file = './test.txt'\n",
    "\n",
    "with open(file) as f:\n",
    "    print(f.read())"
   ]
  },
  {
   "cell_type": "markdown",
   "id": "b2324c39",
   "metadata": {},
   "source": [
    "#### 쓰기\n",
    "- 인코딩 유의"
   ]
  },
  {
   "cell_type": "code",
   "execution_count": 71,
   "id": "f3547b0c",
   "metadata": {},
   "outputs": [],
   "source": [
    "with open('test2.txt', 'w', encoding='utf-8') as f:\n",
    "    for i in range(10):\n",
    "        data = f'{i}번째 줄입니다.\\n'\n",
    "        f.write(data)"
   ]
  },
  {
   "cell_type": "code",
   "execution_count": 1,
   "id": "98d6735d",
   "metadata": {},
   "outputs": [],
   "source": [
    "# print\n",
    "file_out = open('test2.txt', 'a', encoding='utf-8')\n",
    "print('한 줄 추가했습니다.', file=file_out)\n",
    "file_out.close() # 닫아주는 것 중요"
   ]
  },
  {
   "cell_type": "markdown",
   "id": "8a3cbd92",
   "metadata": {},
   "source": [
    "#### folder 만들어서 추가하는 방법\n",
    "- 폴더 만들어야 함\n",
    "- 접근"
   ]
  },
  {
   "cell_type": "code",
   "execution_count": 80,
   "id": "09f3a9e9",
   "metadata": {},
   "outputs": [],
   "source": [
    "with open('./abc/test2.txt', 'w', encoding='utf-8') as f:\n",
    "    for i in range(10):\n",
    "        data = f'{i}번째 줄입니다.\\n'\n",
    "        f.write(data)"
   ]
  },
  {
   "cell_type": "code",
   "execution_count": 81,
   "id": "1d0ac3fd",
   "metadata": {},
   "outputs": [],
   "source": [
    "import os"
   ]
  },
  {
   "cell_type": "code",
   "execution_count": 82,
   "id": "f1ae543c",
   "metadata": {},
   "outputs": [
    {
     "ename": "FileExistsError",
     "evalue": "[WinError 183] 파일이 이미 있으므로 만들 수 없습니다: 'abc'",
     "output_type": "error",
     "traceback": [
      "\u001b[1;31m---------------------------------------------------------------------------\u001b[0m",
      "\u001b[1;31mFileExistsError\u001b[0m                           Traceback (most recent call last)",
      "\u001b[1;32m~\\AppData\\Local\\Temp/ipykernel_12368/311805016.py\u001b[0m in \u001b[0;36m<module>\u001b[1;34m\u001b[0m\n\u001b[1;32m----> 1\u001b[1;33m \u001b[0mos\u001b[0m\u001b[1;33m.\u001b[0m\u001b[0mmkdir\u001b[0m\u001b[1;33m(\u001b[0m\u001b[1;34m'abc'\u001b[0m\u001b[1;33m)\u001b[0m\u001b[1;33m\u001b[0m\u001b[1;33m\u001b[0m\u001b[0m\n\u001b[0m",
      "\u001b[1;31mFileExistsError\u001b[0m: [WinError 183] 파일이 이미 있으므로 만들 수 없습니다: 'abc'"
     ]
    }
   ],
   "source": [
    "os.mkdir('abc')"
   ]
  },
  {
   "cell_type": "code",
   "execution_count": 84,
   "id": "93b7386a",
   "metadata": {},
   "outputs": [
    {
     "ename": "IndentationError",
     "evalue": "expected an indented block (Temp/ipykernel_12368/375395202.py, line 11)",
     "output_type": "error",
     "traceback": [
      "\u001b[1;36m  File \u001b[1;32m\"C:\\Users\\jiin\\AppData\\Local\\Temp/ipykernel_12368/375395202.py\"\u001b[1;36m, line \u001b[1;32m11\u001b[0m\n\u001b[1;33m    with open(dir_name, 'w') as f: # 덮어쓸 가능성 배제\u001b[0m\n\u001b[1;37m                                               ^\u001b[0m\n\u001b[1;31mIndentationError\u001b[0m\u001b[1;31m:\u001b[0m expected an indented block\n"
     ]
    }
   ],
   "source": [
    "path = 'abc'\n",
    "# 있는지 확인i하기\n",
    "if not os.isdir('abc'):\n",
    "    os.mkdir('abc')\n",
    "    \n",
    "#dir_name = './abc/test2.txt'\n",
    "dir_name = os.path.join(path, 'test2.txt')\n",
    "\n",
    "# 재확인\n",
    "if not os.path.exists(dir_name):\n",
    "    with open(dir_name, 'w') as f: # 덮어쓸 가능성 배제\n",
    "        # ... "
   ]
  },
  {
   "cell_type": "code",
   "execution_count": 77,
   "id": "f8b857c2",
   "metadata": {},
   "outputs": [
    {
     "ename": "NameError",
     "evalue": "name 'file_name' is not defined",
     "output_type": "error",
     "traceback": [
      "\u001b[1;31m---------------------------------------------------------------------------\u001b[0m",
      "\u001b[1;31mNameError\u001b[0m                                 Traceback (most recent call last)",
      "\u001b[1;32m~\\AppData\\Local\\Temp/ipykernel_12368/1340992224.py\u001b[0m in \u001b[0;36m<module>\u001b[1;34m\u001b[0m\n\u001b[1;32m----> 1\u001b[1;33m \u001b[0mos\u001b[0m\u001b[1;33m.\u001b[0m\u001b[0mremove\u001b[0m\u001b[1;33m(\u001b[0m\u001b[0mfile_name\u001b[0m\u001b[1;33m)\u001b[0m\u001b[1;33m\u001b[0m\u001b[1;33m\u001b[0m\u001b[0m\n\u001b[0m\u001b[0;32m      2\u001b[0m \u001b[0mos\u001b[0m\u001b[1;33m.\u001b[0m\u001b[0mrmdir\u001b[0m\u001b[1;33m(\u001b[0m\u001b[0mdir_name\u001b[0m\u001b[1;33m)\u001b[0m \u001b[1;31m# 폴더 안에 파일이 있으면 삭제 못함\u001b[0m\u001b[1;33m\u001b[0m\u001b[1;33m\u001b[0m\u001b[0m\n",
      "\u001b[1;31mNameError\u001b[0m: name 'file_name' is not defined"
     ]
    }
   ],
   "source": [
    "os.remove(file_name)\n",
    "os.rmdir(dir_name) # 폴더 안에 파일이 있으면 삭제 못함"
   ]
  },
  {
   "cell_type": "code",
   "execution_count": 78,
   "id": "350ad0e1",
   "metadata": {},
   "outputs": [
    {
     "ename": "NameError",
     "evalue": "name 'dir_name' is not defined",
     "output_type": "error",
     "traceback": [
      "\u001b[1;31m---------------------------------------------------------------------------\u001b[0m",
      "\u001b[1;31mNameError\u001b[0m                                 Traceback (most recent call last)",
      "\u001b[1;32m~\\AppData\\Local\\Temp/ipykernel_12368/392147183.py\u001b[0m in \u001b[0;36m<module>\u001b[1;34m\u001b[0m\n\u001b[0;32m      1\u001b[0m \u001b[1;32mimport\u001b[0m \u001b[0mshutil\u001b[0m\u001b[1;33m\u001b[0m\u001b[1;33m\u001b[0m\u001b[0m\n\u001b[1;32m----> 2\u001b[1;33m \u001b[0mshutil\u001b[0m\u001b[1;33m.\u001b[0m\u001b[0mrmtree\u001b[0m\u001b[1;33m(\u001b[0m\u001b[0mdir_name\u001b[0m\u001b[1;33m)\u001b[0m \u001b[1;31m# 강제로 전부 삭제\u001b[0m\u001b[1;33m\u001b[0m\u001b[1;33m\u001b[0m\u001b[0m\n\u001b[0m",
      "\u001b[1;31mNameError\u001b[0m: name 'dir_name' is not defined"
     ]
    }
   ],
   "source": [
    "import shutil\n",
    "shutil.rmtree(dir_name) # 강제로 전부 삭제"
   ]
  },
  {
   "cell_type": "code",
   "execution_count": 79,
   "id": "7b851e25",
   "metadata": {},
   "outputs": [],
   "source": [
    "# folder 새로 만들어서\n",
    "# 파일에 내용 쓰기\n",
    "# 파일 열기"
   ]
  },
  {
   "cell_type": "code",
   "execution_count": 87,
   "id": "6a0ea2ef",
   "metadata": {},
   "outputs": [
    {
     "ename": "AttributeError",
     "evalue": "module 'os' has no attribute 'isdir'",
     "output_type": "error",
     "traceback": [
      "\u001b[1;31m---------------------------------------------------------------------------\u001b[0m",
      "\u001b[1;31mAttributeError\u001b[0m                            Traceback (most recent call last)",
      "\u001b[1;32m~\\AppData\\Local\\Temp/ipykernel_12368/4249706503.py\u001b[0m in \u001b[0;36m<module>\u001b[1;34m\u001b[0m\n\u001b[0;32m      1\u001b[0m \u001b[0mpath\u001b[0m \u001b[1;33m=\u001b[0m \u001b[1;34m'new_file'\u001b[0m\u001b[1;33m\u001b[0m\u001b[1;33m\u001b[0m\u001b[0m\n\u001b[1;32m----> 2\u001b[1;33m \u001b[1;32mif\u001b[0m \u001b[1;32mnot\u001b[0m \u001b[0mos\u001b[0m\u001b[1;33m.\u001b[0m\u001b[0misdir\u001b[0m\u001b[1;33m(\u001b[0m\u001b[1;34m'new_file'\u001b[0m\u001b[1;33m)\u001b[0m\u001b[1;33m:\u001b[0m\u001b[1;33m\u001b[0m\u001b[1;33m\u001b[0m\u001b[0m\n\u001b[0m\u001b[0;32m      3\u001b[0m     \u001b[0mos\u001b[0m\u001b[1;33m.\u001b[0m\u001b[0mmkdir\u001b[0m\u001b[1;33m(\u001b[0m\u001b[1;34m'new_file'\u001b[0m\u001b[1;33m)\u001b[0m\u001b[1;33m\u001b[0m\u001b[1;33m\u001b[0m\u001b[0m\n",
      "\u001b[1;31mAttributeError\u001b[0m: module 'os' has no attribute 'isdir'"
     ]
    }
   ],
   "source": [
    "path = 'new_file'\n",
    "if not os.isdir('new_file'):\n",
    "    os.mkdir('new_file')"
   ]
  },
  {
   "cell_type": "code",
   "execution_count": 88,
   "id": "8832c385",
   "metadata": {},
   "outputs": [
    {
     "data": {
      "text/plain": [
       "'C:\\\\Users\\\\jiin'"
      ]
     },
     "execution_count": 88,
     "metadata": {},
     "output_type": "execute_result"
    }
   ],
   "source": [
    "os.getcwd()"
   ]
  },
  {
   "cell_type": "code",
   "execution_count": 89,
   "id": "6114c50b",
   "metadata": {},
   "outputs": [],
   "source": [
    "os.chdir('..')"
   ]
  },
  {
   "cell_type": "markdown",
   "id": "6ded387b",
   "metadata": {},
   "source": [
    "#### pickle\n",
    "- 객체를 파일로 저장하는 기능 제공\n",
    "- 확장자: .pickle\n",
    "- 바이너리로 써야 함 (wb, rb)\n",
    "- 예약어\n",
    "    - 넘길 때 dump\n",
    "    - 읽을 때 load"
   ]
  },
  {
   "cell_type": "code",
   "execution_count": 98,
   "id": "13684ac8",
   "metadata": {},
   "outputs": [],
   "source": [
    "import pickle"
   ]
  },
  {
   "cell_type": "code",
   "execution_count": 99,
   "id": "4b51a6dc",
   "metadata": {},
   "outputs": [],
   "source": [
    "nums = list(range(10))"
   ]
  },
  {
   "cell_type": "code",
   "execution_count": 100,
   "id": "015f0668",
   "metadata": {},
   "outputs": [
    {
     "ename": "PermissionError",
     "evalue": "[Errno 13] Permission denied: 'test.pickle'",
     "output_type": "error",
     "traceback": [
      "\u001b[1;31m---------------------------------------------------------------------------\u001b[0m",
      "\u001b[1;31mPermissionError\u001b[0m                           Traceback (most recent call last)",
      "\u001b[1;32m~\\AppData\\Local\\Temp/ipykernel_12368/3075016841.py\u001b[0m in \u001b[0;36m<module>\u001b[1;34m\u001b[0m\n\u001b[1;32m----> 1\u001b[1;33m \u001b[1;32mwith\u001b[0m \u001b[0mopen\u001b[0m\u001b[1;33m(\u001b[0m\u001b[1;34m'test.pickle'\u001b[0m\u001b[1;33m,\u001b[0m \u001b[1;34m'wb'\u001b[0m\u001b[1;33m)\u001b[0m \u001b[1;32mas\u001b[0m \u001b[0mf\u001b[0m\u001b[1;33m:\u001b[0m\u001b[1;33m\u001b[0m\u001b[1;33m\u001b[0m\u001b[0m\n\u001b[0m\u001b[0;32m      2\u001b[0m     \u001b[0mpickle\u001b[0m\u001b[1;33m.\u001b[0m\u001b[0mdump\u001b[0m\u001b[1;33m(\u001b[0m\u001b[0mnums\u001b[0m\u001b[1;33m,\u001b[0m \u001b[0mf\u001b[0m\u001b[1;33m)\u001b[0m\u001b[1;33m\u001b[0m\u001b[1;33m\u001b[0m\u001b[0m\n",
      "\u001b[1;31mPermissionError\u001b[0m: [Errno 13] Permission denied: 'test.pickle'"
     ]
    }
   ],
   "source": [
    "with open('test.pickle', 'wb') as f:\n",
    "    pickle.dump(nums, f)"
   ]
  },
  {
   "cell_type": "code",
   "execution_count": 94,
   "id": "0bbf14c0",
   "metadata": {},
   "outputs": [
    {
     "ename": "FileNotFoundError",
     "evalue": "[Errno 2] No such file or directory: 'test.pickle'",
     "output_type": "error",
     "traceback": [
      "\u001b[1;31m---------------------------------------------------------------------------\u001b[0m",
      "\u001b[1;31mFileNotFoundError\u001b[0m                         Traceback (most recent call last)",
      "\u001b[1;32m~\\AppData\\Local\\Temp/ipykernel_12368/649422438.py\u001b[0m in \u001b[0;36m<module>\u001b[1;34m\u001b[0m\n\u001b[1;32m----> 1\u001b[1;33m \u001b[1;32mwith\u001b[0m \u001b[0mopen\u001b[0m\u001b[1;33m(\u001b[0m\u001b[1;34m'test.pickle'\u001b[0m\u001b[1;33m,\u001b[0m \u001b[1;34m'rb'\u001b[0m\u001b[1;33m)\u001b[0m \u001b[1;32mas\u001b[0m \u001b[0mf\u001b[0m\u001b[1;33m:\u001b[0m\u001b[1;33m\u001b[0m\u001b[1;33m\u001b[0m\u001b[0m\n\u001b[0m\u001b[0;32m      2\u001b[0m     \u001b[0mnumber\u001b[0m \u001b[1;33m=\u001b[0m \u001b[0mpickle\u001b[0m\u001b[1;33m.\u001b[0m\u001b[0mdump\u001b[0m\u001b[1;33m(\u001b[0m\u001b[0mnums\u001b[0m\u001b[1;33m,\u001b[0m \u001b[0mf\u001b[0m\u001b[1;33m)\u001b[0m\u001b[1;33m\u001b[0m\u001b[1;33m\u001b[0m\u001b[0m\n",
      "\u001b[1;31mFileNotFoundError\u001b[0m: [Errno 2] No such file or directory: 'test.pickle'"
     ]
    }
   ],
   "source": [
    "with open('test.pickle', 'rb') as f:\n",
    "    number = pickle.dump(nums, f)"
   ]
  },
  {
   "cell_type": "code",
   "execution_count": 95,
   "id": "bb9a775a",
   "metadata": {},
   "outputs": [
    {
     "ename": "NameError",
     "evalue": "name 'number' is not defined",
     "output_type": "error",
     "traceback": [
      "\u001b[1;31m---------------------------------------------------------------------------\u001b[0m",
      "\u001b[1;31mNameError\u001b[0m                                 Traceback (most recent call last)",
      "\u001b[1;32m~\\AppData\\Local\\Temp/ipykernel_12368/3707508766.py\u001b[0m in \u001b[0;36m<module>\u001b[1;34m\u001b[0m\n\u001b[1;32m----> 1\u001b[1;33m \u001b[0mnumber\u001b[0m\u001b[1;33m\u001b[0m\u001b[1;33m\u001b[0m\u001b[0m\n\u001b[0m",
      "\u001b[1;31mNameError\u001b[0m: name 'number' is not defined"
     ]
    }
   ],
   "source": [
    "number"
   ]
  },
  {
   "cell_type": "code",
   "execution_count": 96,
   "id": "3bf89f5e",
   "metadata": {},
   "outputs": [
    {
     "ename": "NameError",
     "evalue": "name 'Product' is not defined",
     "output_type": "error",
     "traceback": [
      "\u001b[1;31m---------------------------------------------------------------------------\u001b[0m",
      "\u001b[1;31mNameError\u001b[0m                                 Traceback (most recent call last)",
      "\u001b[1;32m~\\AppData\\Local\\Temp/ipykernel_12368/1957804037.py\u001b[0m in \u001b[0;36m<module>\u001b[1;34m\u001b[0m\n\u001b[1;32m----> 1\u001b[1;33m \u001b[0ma\u001b[0m \u001b[1;33m=\u001b[0m \u001b[0mProduct\u001b[0m\u001b[1;33m(\u001b[0m\u001b[1;33m)\u001b[0m\u001b[1;33m\u001b[0m\u001b[1;33m\u001b[0m\u001b[0m\n\u001b[0m",
      "\u001b[1;31mNameError\u001b[0m: name 'Product' is not defined"
     ]
    }
   ],
   "source": [
    "a = Product()"
   ]
  },
  {
   "cell_type": "code",
   "execution_count": null,
   "id": "6cbafe4f",
   "metadata": {},
   "outputs": [],
   "source": []
  }
 ],
 "metadata": {
  "kernelspec": {
   "display_name": "Python 3 (ipykernel)",
   "language": "python",
   "name": "python3"
  },
  "language_info": {
   "codemirror_mode": {
    "name": "ipython",
    "version": 3
   },
   "file_extension": ".py",
   "mimetype": "text/x-python",
   "name": "python",
   "nbconvert_exporter": "python",
   "pygments_lexer": "ipython3",
   "version": "3.9.7"
  }
 },
 "nbformat": 4,
 "nbformat_minor": 5
}
