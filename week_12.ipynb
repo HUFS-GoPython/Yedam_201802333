{
 "cells": [
  {
   "cell_type": "markdown",
   "id": "d5928c8d",
   "metadata": {},
   "source": [
    "### 보완점\n",
    "\n",
    "- 1. AbCustomer -> Customer(상속)\n",
    "- 2. Person <- Customer(person)"
   ]
  },
  {
   "cell_type": "code",
   "execution_count": 1,
   "id": "8634d15b",
   "metadata": {},
   "outputs": [
    {
     "ename": "IndentationError",
     "evalue": "expected an indented block (Temp/ipykernel_7348/2158464381.py, line 18)",
     "output_type": "error",
     "traceback": [
      "\u001b[1;36m  File \u001b[1;32m\"C:\\Users\\jiin\\AppData\\Local\\Temp/ipykernel_7348/2158464381.py\"\u001b[1;36m, line \u001b[1;32m18\u001b[0m\n\u001b[1;33m    class Seller:\u001b[0m\n\u001b[1;37m                 ^\u001b[0m\n\u001b[1;31mIndentationError\u001b[0m\u001b[1;31m:\u001b[0m expected an indented block\n"
     ]
    }
   ],
   "source": [
    "class Customer(Person): # is-a\n",
    "    pass\n",
    "\n",
    "\n",
    "class Store:\n",
    "    def __init__(customer):\n",
    "        self.customer = customer # Customer 타입 # has-a\n",
    "        self.item = item\n",
    "        self.item_list = self.item.name, self.item.price # 딕셔너리로 가져갈 건 아님\n",
    "        \n",
    "class Item:\n",
    "    name\n",
    "    cnt\n",
    "    price\n",
    "    \n",
    "    pass\n",
    "\n",
    "class Seller:"
   ]
  },
  {
   "cell_type": "code",
   "execution_count": 2,
   "id": "556d6d78",
   "metadata": {},
   "outputs": [],
   "source": [
    "# 매직메소드\n",
    "# special method\n",
    "# __<name>__\n",
    "# __str__, __repr__"
   ]
  },
  {
   "cell_type": "code",
   "execution_count": 12,
   "id": "abe805ee",
   "metadata": {},
   "outputs": [],
   "source": [
    "class Customer:\n",
    "    def __init__(self, name):\n",
    "        self.name = name\n",
    "        \n",
    "    def __str__(self):\n",
    "        # print() 함수로 나온 출력값을 변경하는 것\n",
    "        return self.name\n",
    "    \n",
    "    def __repr__(self):\n",
    "        # 설정 안 하면 __str__동일함\n",
    "        # 인스턴스를 출력하는 방식 => 사용자가 이해하는 객체의 모습을 표현\n",
    "        return f'Customer({self.name})' # Customer(객체 이름)\n",
    "        \n",
    "c = Customer('kim')"
   ]
  },
  {
   "cell_type": "code",
   "execution_count": 13,
   "id": "dea971b7",
   "metadata": {},
   "outputs": [
    {
     "data": {
      "text/plain": [
       "Customer(kim)"
      ]
     },
     "execution_count": 13,
     "metadata": {},
     "output_type": "execute_result"
    }
   ],
   "source": [
    "c"
   ]
  },
  {
   "cell_type": "code",
   "execution_count": 5,
   "id": "7f18e807",
   "metadata": {},
   "outputs": [
    {
     "name": "stdout",
     "output_type": "stream",
     "text": [
      "<__main__.Customer object at 0x00000216A35A0670>\n"
     ]
    }
   ],
   "source": [
    "print(c)"
   ]
  },
  {
   "cell_type": "code",
   "execution_count": 14,
   "id": "e9b0fb1d",
   "metadata": {},
   "outputs": [
    {
     "data": {
      "text/plain": [
       "'Customer(kim)'"
      ]
     },
     "execution_count": 14,
     "metadata": {},
     "output_type": "execute_result"
    }
   ],
   "source": [
    "repr(c)"
   ]
  },
  {
   "cell_type": "code",
   "execution_count": 16,
   "id": "db33a9af",
   "metadata": {},
   "outputs": [
    {
     "data": {
      "text/plain": [
       "'kim'"
      ]
     },
     "execution_count": 16,
     "metadata": {},
     "output_type": "execute_result"
    }
   ],
   "source": [
    "str(c)"
   ]
  },
  {
   "cell_type": "markdown",
   "id": "cc682935",
   "metadata": {},
   "source": [
    "### NamedTruple, DataClass\n",
    "- 객체보다 효율적임(간단한 속성만 가진 클래스일 경우 활용)\n",
    "- 딕셔너리의 키처럼 사용 가능하다\n",
    "- 불변객체\n",
    "- dataclass는 python 3.7 이상에서만 가능!"
   ]
  },
  {
   "cell_type": "code",
   "execution_count": 18,
   "id": "2c70dbff",
   "metadata": {},
   "outputs": [
    {
     "data": {
      "text/plain": [
       "('lee', 44)"
      ]
     },
     "execution_count": 18,
     "metadata": {},
     "output_type": "execute_result"
    }
   ],
   "source": [
    "from collections import namedtuple\n",
    "\n",
    "# 형식 : ('클래스 명', '들어갈 변수')\n",
    "# 변수는 공백으로 구분함.\n",
    "Customer = namedtuple('Customer', 'name age')\n",
    "a = Customer('lee', 44)\n",
    "a.name, a.age"
   ]
  },
  {
   "cell_type": "code",
   "execution_count": 20,
   "id": "9e1944a2",
   "metadata": {},
   "outputs": [
    {
     "data": {
      "text/plain": [
       "('hong', 88)"
      ]
     },
     "execution_count": 20,
     "metadata": {},
     "output_type": "execute_result"
    }
   ],
   "source": [
    "from dataclasses import dataclass\n",
    "# 3.7 이상에서만\n",
    "\n",
    "@dataclass\n",
    "class Customer2:\n",
    "    name: str\n",
    "    age: int\n",
    "      \n",
    "b = Customer2('hong', 88)\n",
    "b.name, b.age"
   ]
  },
  {
   "cell_type": "markdown",
   "id": "11f84d4b",
   "metadata": {},
   "source": [
    "## 함수II\n",
    "- *,**\n",
    "\n",
    "- 일급객체\n",
    "- 내부함수, 클로저\n",
    "- 익명함수\n",
    "- 제너레이터\n",
    "- 재귀함수"
   ]
  },
  {
   "cell_type": "markdown",
   "id": "98da8354",
   "metadata": {},
   "source": [
    "### asterisk: *\n",
    "\n",
    "- 기능: 여러 개가 들어왔을 때, 이것을 하나로 묶어주는 역할(패킹)\n",
    "- 무한대로 받기 가능"
   ]
  },
  {
   "cell_type": "code",
   "execution_count": 1,
   "id": "612b66c2",
   "metadata": {},
   "outputs": [
    {
     "name": "stdout",
     "output_type": "stream",
     "text": [
      "1 2 3 4 5 6\n",
      "(1, 2, 3, 4, 5, 6)\n"
     ]
    }
   ],
   "source": [
    "def print_arg(*args): #1. 여러개의 인자 => 패킹\n",
    "    print(*args) #2. 언패킹\n",
    "    print(args)\n",
    "\n",
    "    \n",
    "print_arg(1, 2, 3, 4, 5, 6)"
   ]
  },
  {
   "cell_type": "code",
   "execution_count": 2,
   "id": "aed8ceab",
   "metadata": {},
   "outputs": [
    {
     "name": "stdout",
     "output_type": "stream",
     "text": [
      "1 2\n",
      "hi hello optional\n"
     ]
    }
   ],
   "source": [
    "def print_more(num1, num2, *args):\n",
    "    print(num1, num2)\n",
    "    print(*args, 'optional')\n",
    "    \n",
    "print_more(1, 2, 'hi', 'hello')"
   ]
  },
  {
   "cell_type": "code",
   "execution_count": 3,
   "id": "1d26f2ab",
   "metadata": {},
   "outputs": [
    {
     "name": "stdout",
     "output_type": "stream",
     "text": [
      "0 1 2 3 4 5 6 7 8 9\n"
     ]
    }
   ],
   "source": [
    "empty = list(range(10))\n",
    "print(*empty)"
   ]
  },
  {
   "cell_type": "code",
   "execution_count": 4,
   "id": "516fe706",
   "metadata": {},
   "outputs": [
    {
     "name": "stdout",
     "output_type": "stream",
     "text": [
      "(1, 3, 5)\n",
      "(2, 4, 6)\n"
     ]
    }
   ],
   "source": [
    "# 행렬, 테이블 데이터\n",
    "matrix = [\n",
    "    [1, 2],\n",
    "    [3, 4],\n",
    "    [5, 6]\n",
    "]\n",
    "\n",
    "# 1, 3, 5 / 2, 4, 6 (열만 타고싶다)\n",
    "for item in zip(*matrix):\n",
    "    print(item)"
   ]
  },
  {
   "cell_type": "code",
   "execution_count": 31,
   "id": "6d4dbc5a",
   "metadata": {},
   "outputs": [
    {
     "name": "stdout",
     "output_type": "stream",
     "text": [
      "0\n",
      "1\n",
      "2\n",
      "3\n"
     ]
    }
   ],
   "source": [
    "# 키워드 전용 인수 선언 시 사용\n",
    "def print_data(data, * ,start, end):\n",
    "    for item in data[start:end]:\n",
    "        print(item)\n",
    "        \n",
    "print_data(empty, start=0, end=4)\n",
    "#print_data(empty, 0 ,1)"
   ]
  },
  {
   "cell_type": "markdown",
   "id": "83e3c1a7",
   "metadata": {},
   "source": [
    "## Kargs : **"
   ]
  },
  {
   "cell_type": "code",
   "execution_count": 35,
   "id": "f0f30306",
   "metadata": {},
   "outputs": [
    {
     "name": "stdout",
     "output_type": "stream",
     "text": [
      "{'wine': 'crianza', 'drink': 'water'}\n"
     ]
    }
   ],
   "source": [
    "def print_kargs(**kargs): # 키: 값 => 딕셔너리로 반환\n",
    "    kargs['wine'] = 'crianza' # get()\n",
    "    print(kargs)\n",
    "    #print(**kargs)\n",
    "    \n",
    "print_kargs(wine='crianza', drink = 'water')"
   ]
  },
  {
   "cell_type": "code",
   "execution_count": 36,
   "id": "c53d9660",
   "metadata": {},
   "outputs": [
    {
     "name": "stdout",
     "output_type": "stream",
     "text": [
      "{'wine': 'crianza', 'drink': 'water'}\n",
      "{'wine': 'crianza', 'drink': 'water'}\n",
      "{'wine': 'crianza', 'drink': 'water'}\n"
     ]
    }
   ],
   "source": [
    "for wine in ['cabernet', 'crianza', 'shiraz']:\n",
    "    print_kargs(wine=wine, drink='water')"
   ]
  },
  {
   "cell_type": "code",
   "execution_count": 38,
   "id": "160f3be3",
   "metadata": {},
   "outputs": [
    {
     "name": "stdout",
     "output_type": "stream",
     "text": [
      "1 2\n",
      "18\n",
      "{'num': 4}\n"
     ]
    }
   ],
   "source": [
    "def print_all(num1, num2, *args, **kargs):\n",
    "    print(num1, num2)\n",
    "    print(sum(args))\n",
    "    print(kargs)\n",
    "    \n",
    "print_all(1, 2, 3, 4, 5, 6, num=4)"
   ]
  },
  {
   "cell_type": "code",
   "execution_count": 39,
   "id": "67517a1d",
   "metadata": {},
   "outputs": [],
   "source": [
    "# 딕셔너리 조언\n",
    "a = {1: 'a', 2: 'b'}\n",
    "b = {2: 'c', 3: 'd'}\n",
    "c = {**a, **b}"
   ]
  },
  {
   "cell_type": "code",
   "execution_count": null,
   "id": "f8d11f1f",
   "metadata": {},
   "outputs": [],
   "source": []
  }
 ],
 "metadata": {
  "kernelspec": {
   "display_name": "Python 3 (ipykernel)",
   "language": "python",
   "name": "python3"
  },
  "language_info": {
   "codemirror_mode": {
    "name": "ipython",
    "version": 3
   },
   "file_extension": ".py",
   "mimetype": "text/x-python",
   "name": "python",
   "nbconvert_exporter": "python",
   "pygments_lexer": "ipython3",
   "version": "3.9.7"
  }
 },
 "nbformat": 4,
 "nbformat_minor": 5
}
