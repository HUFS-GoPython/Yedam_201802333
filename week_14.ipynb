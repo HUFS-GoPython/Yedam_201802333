{
 "cells": [
  {
   "cell_type": "markdown",
   "id": "747178b5",
   "metadata": {},
   "source": [
    "### 함수 II\n",
    "- 일급 객체\n",
    "- 중첩 함수\n",
    "    - 클로저\n",
    "    - 데코레이터\n",
    "    - 범위\n",
    "- 익명 함수\n",
    "- 제너레이터\n",
    "- 재귀 함수"
   ]
  },
  {
   "cell_type": "markdown",
   "id": "9ed2fc6d",
   "metadata": {},
   "source": [
    "### 일급 객체\n",
    "- first class object, first class citizen\n",
    "- 파이썬에서는 함수도 일급 객체다.\n",
    "- 일급 객체의 조건\n",
    "    - 함수의 인자로 전달된다.\n",
    "        def fx(func):\n",
    "    - 함수의 반환값이 된다.\n",
    "        def fx(func):\n",
    "            return func\n",
    "    - 수정, 할당이 된다.\n",
    "        var = fx()"
   ]
  },
  {
   "cell_type": "code",
   "execution_count": 1,
   "id": "bb22a6e0",
   "metadata": {},
   "outputs": [
    {
     "name": "stdout",
     "output_type": "stream",
     "text": [
      "42\n"
     ]
    }
   ],
   "source": [
    "def answer():\n",
    "    print(42)\n",
    "    \n",
    "def run_sth(func):\n",
    "    func() # func vs. func() => ()가 붙으면, 실행을 하라는 의미\n",
    "    \n",
    "run_sth(answer) # 함수인 answer이 들어가서, run_sth이 실행됨"
   ]
  },
  {
   "cell_type": "code",
   "execution_count": 2,
   "id": "9bf16bdb",
   "metadata": {},
   "outputs": [
    {
     "name": "stdout",
     "output_type": "stream",
     "text": [
      "8\n"
     ]
    }
   ],
   "source": [
    "def add_args(arg1, arg2):\n",
    "    print(arg1 + arg2)\n",
    "    \n",
    "def run_sth2(func, *args):\n",
    "    func(*args)\n",
    "\n",
    "run_sth2(add_args, 3, 5)"
   ]
  },
  {
   "cell_type": "markdown",
   "id": "a22db4ec",
   "metadata": {},
   "source": [
    "#### 중첩함수\n",
    "- 함수 내에서 또 다른 함수를 정의하는 것\n",
    "- 내부함수 캡슐화\n",
    "    - 메모리 절약(외부함수를 지워도, 내부함수를 돌아가게 할 수 있음)\n",
    "    - 변수가 섞여서 불필요하게 충돌하는 것을 방지함\n",
    "    - 목적에 맞게 변수를 그룹화할 수 있음. 관리, 책임 명확히"
   ]
  },
  {
   "cell_type": "code",
   "execution_count": 3,
   "id": "08b6cd34",
   "metadata": {},
   "outputs": [
    {
     "data": {
      "text/plain": [
       "2"
      ]
     },
     "execution_count": 3,
     "metadata": {},
     "output_type": "execute_result"
    }
   ],
   "source": [
    "#기본 형식\n",
    "\n",
    "def outer(a, b): # 외부함수\n",
    "    def inner(c, d): # 내부함수\n",
    "        return c + d\n",
    "    return inner(a, b)\n",
    "\n",
    "outer(1, 1)"
   ]
  },
  {
   "cell_type": "code",
   "execution_count": 4,
   "id": "3fdf6cce",
   "metadata": {},
   "outputs": [
    {
     "ename": "NameError",
     "evalue": "name 'inner' is not defined",
     "output_type": "error",
     "traceback": [
      "\u001b[1;31m---------------------------------------------------------------------------\u001b[0m",
      "\u001b[1;31mNameError\u001b[0m                                 Traceback (most recent call last)",
      "\u001b[1;32m~\\AppData\\Local\\Temp/ipykernel_19628/1681641107.py\u001b[0m in \u001b[0;36m<module>\u001b[1;34m\u001b[0m\n\u001b[0;32m      1\u001b[0m \u001b[1;31m# 이렇게하면 Error\u001b[0m\u001b[1;33m\u001b[0m\u001b[1;33m\u001b[0m\u001b[0m\n\u001b[0;32m      2\u001b[0m \u001b[1;31m# inner는 안에 있기 때문에, 밖에서 건드릴 수 없는 함수\u001b[0m\u001b[1;33m\u001b[0m\u001b[1;33m\u001b[0m\u001b[0m\n\u001b[1;32m----> 3\u001b[1;33m \u001b[0minner\u001b[0m\u001b[1;33m(\u001b[0m\u001b[1;36m1\u001b[0m\u001b[1;33m,\u001b[0m \u001b[1;36m1\u001b[0m\u001b[1;33m)\u001b[0m\u001b[1;33m\u001b[0m\u001b[1;33m\u001b[0m\u001b[0m\n\u001b[0m",
      "\u001b[1;31mNameError\u001b[0m: name 'inner' is not defined"
     ]
    }
   ],
   "source": [
    "# 이렇게하면 Error \n",
    "# inner는 안에 있기 때문에, 밖에서 건드릴 수 없는 함수\n",
    "inner(1, 1)"
   ]
  },
  {
   "cell_type": "code",
   "execution_count": 5,
   "id": "7dd8e44a",
   "metadata": {},
   "outputs": [],
   "source": [
    "def knight(saying):\n",
    "    def inner():\n",
    "        return f'We are the knights who say: {saying}'\n",
    "    return inner\n",
    "\n",
    "a = knight('hi')\n",
    "b = knight('안녕')"
   ]
  },
  {
   "cell_type": "markdown",
   "id": "14dce22c",
   "metadata": {},
   "source": [
    "- 외부함수의 인자를 \"참조\"할 수 있다.\n",
    "- 수정/활용은 안됨 ex)A_list.append(saying)"
   ]
  },
  {
   "cell_type": "code",
   "execution_count": 6,
   "id": "f1db3dab",
   "metadata": {},
   "outputs": [
    {
     "data": {
      "text/plain": [
       "'We are the knights who say: hi'"
      ]
     },
     "execution_count": 6,
     "metadata": {},
     "output_type": "execute_result"
    }
   ],
   "source": [
    "a()"
   ]
  },
  {
   "cell_type": "code",
   "execution_count": 7,
   "id": "3976b315",
   "metadata": {},
   "outputs": [
    {
     "data": {
      "text/plain": [
       "'We are the knights who say: 안녕'"
      ]
     },
     "execution_count": 7,
     "metadata": {},
     "output_type": "execute_result"
    }
   ],
   "source": [
    "b()"
   ]
  },
  {
   "cell_type": "code",
   "execution_count": 11,
   "id": "cf247408",
   "metadata": {},
   "outputs": [
    {
     "ename": "NameError",
     "evalue": "name 'saying' is not defined",
     "output_type": "error",
     "traceback": [
      "\u001b[1;31m---------------------------------------------------------------------------\u001b[0m",
      "\u001b[1;31mNameError\u001b[0m                                 Traceback (most recent call last)",
      "\u001b[1;32m~\\AppData\\Local\\Temp/ipykernel_19628/3006856483.py\u001b[0m in \u001b[0;36m<module>\u001b[1;34m\u001b[0m\n\u001b[0;32m      1\u001b[0m \u001b[1;32mdef\u001b[0m \u001b[0minner\u001b[0m\u001b[1;33m(\u001b[0m\u001b[1;33m)\u001b[0m\u001b[1;33m:\u001b[0m\u001b[1;33m\u001b[0m\u001b[1;33m\u001b[0m\u001b[0m\n\u001b[0;32m      2\u001b[0m     \u001b[1;32mreturn\u001b[0m \u001b[1;34mf'We are the knights who say: {saying}'\u001b[0m\u001b[1;33m\u001b[0m\u001b[1;33m\u001b[0m\u001b[0m\n\u001b[1;32m----> 3\u001b[1;33m \u001b[0minner\u001b[0m\u001b[1;33m(\u001b[0m\u001b[1;33m)\u001b[0m \u001b[1;31m# 에러\u001b[0m\u001b[1;33m\u001b[0m\u001b[1;33m\u001b[0m\u001b[0m\n\u001b[0m",
      "\u001b[1;32m~\\AppData\\Local\\Temp/ipykernel_19628/3006856483.py\u001b[0m in \u001b[0;36minner\u001b[1;34m()\u001b[0m\n\u001b[0;32m      1\u001b[0m \u001b[1;32mdef\u001b[0m \u001b[0minner\u001b[0m\u001b[1;33m(\u001b[0m\u001b[1;33m)\u001b[0m\u001b[1;33m:\u001b[0m\u001b[1;33m\u001b[0m\u001b[1;33m\u001b[0m\u001b[0m\n\u001b[1;32m----> 2\u001b[1;33m     \u001b[1;32mreturn\u001b[0m \u001b[1;34mf'We are the knights who say: {saying}'\u001b[0m\u001b[1;33m\u001b[0m\u001b[1;33m\u001b[0m\u001b[0m\n\u001b[0m\u001b[0;32m      3\u001b[0m \u001b[0minner\u001b[0m\u001b[1;33m(\u001b[0m\u001b[1;33m)\u001b[0m \u001b[1;31m# 에러\u001b[0m\u001b[1;33m\u001b[0m\u001b[1;33m\u001b[0m\u001b[0m\n",
      "\u001b[1;31mNameError\u001b[0m: name 'saying' is not defined"
     ]
    }
   ],
   "source": [
    "def inner():\n",
    "    return f'We are the knights who say: {saying}'\n",
    "inner() # 에러"
   ]
  },
  {
   "cell_type": "markdown",
   "id": "b189ca8b",
   "metadata": {},
   "source": [
    "#### 클로저 | closure\n",
    "- 조건\n",
    "    1. 중첩함수일 것\n",
    "    2. 내부함수가 외부함수의 상태값을 참조할 것\n",
    "    3. 외부함수의 리턴값이 내부함수일 것\n",
    "    \n",
    "- 외부함수의 상태값을 기억하는 함수(호출 시 사용 가능)"
   ]
  },
  {
   "cell_type": "code",
   "execution_count": 21,
   "id": "828a33ed",
   "metadata": {},
   "outputs": [],
   "source": [
    "def multiply(x):\n",
    "    def inner(y): #1.\n",
    "        return x * y #2.\n",
    "    return inner #3."
   ]
  },
  {
   "cell_type": "code",
   "execution_count": 22,
   "id": "26cce6df",
   "metadata": {},
   "outputs": [],
   "source": [
    "m = multiply(5)\n",
    "n = multiply(6)"
   ]
  },
  {
   "cell_type": "code",
   "execution_count": 23,
   "id": "81526b06",
   "metadata": {},
   "outputs": [
    {
     "data": {
      "text/plain": [
       "(<function __main__.multiply.<locals>.inner(y)>,\n",
       " <function __main__.multiply.<locals>.inner(y)>)"
      ]
     },
     "execution_count": 23,
     "metadata": {},
     "output_type": "execute_result"
    }
   ],
   "source": [
    "m, n"
   ]
  },
  {
   "cell_type": "code",
   "execution_count": 24,
   "id": "470e90e7",
   "metadata": {},
   "outputs": [
    {
     "data": {
      "text/plain": [
       "50"
      ]
     },
     "execution_count": 24,
     "metadata": {},
     "output_type": "execute_result"
    }
   ],
   "source": [
    "m(10)"
   ]
  },
  {
   "cell_type": "code",
   "execution_count": 25,
   "id": "915169b1",
   "metadata": {},
   "outputs": [
    {
     "data": {
      "text/plain": [
       "60"
      ]
     },
     "execution_count": 25,
     "metadata": {},
     "output_type": "execute_result"
    }
   ],
   "source": [
    "n(10)"
   ]
  },
  {
   "cell_type": "code",
   "execution_count": 26,
   "id": "2931dc59",
   "metadata": {},
   "outputs": [],
   "source": [
    "del(multiply) # 메모리에서 multiply 지우기"
   ]
  },
  {
   "cell_type": "code",
   "execution_count": 27,
   "id": "011e8c8f",
   "metadata": {},
   "outputs": [
    {
     "ename": "NameError",
     "evalue": "name 'multiply' is not defined",
     "output_type": "error",
     "traceback": [
      "\u001b[1;31m---------------------------------------------------------------------------\u001b[0m",
      "\u001b[1;31mNameError\u001b[0m                                 Traceback (most recent call last)",
      "\u001b[1;32m~\\AppData\\Local\\Temp/ipykernel_6444/330517852.py\u001b[0m in \u001b[0;36m<module>\u001b[1;34m\u001b[0m\n\u001b[1;32m----> 1\u001b[1;33m \u001b[0mmultiply\u001b[0m\u001b[1;33m\u001b[0m\u001b[1;33m\u001b[0m\u001b[0m\n\u001b[0m",
      "\u001b[1;31mNameError\u001b[0m: name 'multiply' is not defined"
     ]
    }
   ],
   "source": [
    "multiply"
   ]
  },
  {
   "cell_type": "code",
   "execution_count": 13,
   "id": "bec9b164",
   "metadata": {},
   "outputs": [
    {
     "ename": "NameError",
     "evalue": "name 'n' is not defined",
     "output_type": "error",
     "traceback": [
      "\u001b[1;31m---------------------------------------------------------------------------\u001b[0m",
      "\u001b[1;31mNameError\u001b[0m                                 Traceback (most recent call last)",
      "\u001b[1;32m~\\AppData\\Local\\Temp/ipykernel_19628/97051973.py\u001b[0m in \u001b[0;36m<module>\u001b[1;34m\u001b[0m\n\u001b[0;32m      1\u001b[0m \u001b[1;31m# multiply를 지워도 아래 코드는 계속 돌아간다.\u001b[0m\u001b[1;33m\u001b[0m\u001b[1;33m\u001b[0m\u001b[0m\n\u001b[0;32m      2\u001b[0m \u001b[1;31m# 외부함수는 지워졌지만, 객체를 따로 기억한다 -> 메모리 효율적 사용 가능\u001b[0m\u001b[1;33m\u001b[0m\u001b[1;33m\u001b[0m\u001b[0m\n\u001b[1;32m----> 3\u001b[1;33m \u001b[0mn\u001b[0m\u001b[1;33m(\u001b[0m\u001b[1;36m10\u001b[0m\u001b[1;33m)\u001b[0m\u001b[1;33m\u001b[0m\u001b[1;33m\u001b[0m\u001b[0m\n\u001b[0m",
      "\u001b[1;31mNameError\u001b[0m: name 'n' is not defined"
     ]
    }
   ],
   "source": [
    "# multiply를 지워도 아래 코드는 계속 돌아간다. \n",
    "# 외부함수는 지워졌지만, 객체를 따로 기억한다 -> 메모리 효율적 사용 가능\n",
    "n(10)"
   ]
  },
  {
   "cell_type": "markdown",
   "id": "6e30ab27",
   "metadata": {},
   "source": [
    "#### 실습"
   ]
  },
  {
   "cell_type": "code",
   "execution_count": 14,
   "id": "5abba57a",
   "metadata": {},
   "outputs": [
    {
     "data": {
      "text/plain": [
       "81"
      ]
     },
     "execution_count": 14,
     "metadata": {},
     "output_type": "execute_result"
    }
   ],
   "source": [
    "def add(a, b):\n",
    "    return a + b\n",
    "\n",
    "def square(func):\n",
    "    def inner(a, b):\n",
    "        result = func(a, b)\n",
    "        return result * result\n",
    "    return inner\n",
    "\n",
    "fx = square(add)\n",
    "fx(4, 5)"
   ]
  },
  {
   "cell_type": "markdown",
   "id": "973d2a4f",
   "metadata": {},
   "source": [
    "## 데코레이터\n",
    "- 클로저 - 데코레이터 사용이 가능하다.\n",
    "- 메인 함수에 또 다른 함수를 취해 반환할 수 있게 함\n",
    "- 재사용성 높음\n",
    "- 가독성, 직관성 좋다"
   ]
  },
  {
   "cell_type": "code",
   "execution_count": 15,
   "id": "04852034",
   "metadata": {},
   "outputs": [
    {
     "data": {
      "text/plain": [
       "81"
      ]
     },
     "execution_count": 15,
     "metadata": {},
     "output_type": "execute_result"
    }
   ],
   "source": [
    "@square\n",
    "def plus(a, b):\n",
    "    return a + b\n",
    "\n",
    "plus(4, 5)"
   ]
  },
  {
   "cell_type": "markdown",
   "id": "ef3445d0",
   "metadata": {},
   "source": [
    "#### scope | 범위\n",
    "- 전역: global\n",
    "- 지역: local\n",
    "- nonlocal"
   ]
  },
  {
   "cell_type": "code",
   "execution_count": 36,
   "id": "0f0cc6a3",
   "metadata": {},
   "outputs": [],
   "source": [
    "a = 1 #global\n",
    "def add(a, b):\n",
    "    x = 2 # local\n",
    "    return a+b\n",
    "\n",
    "def square(func):\n",
    "    #local\n",
    "    def inner(a, b): #nonlocal\n",
    "        result = func(a, b)\n",
    "        return result * result\n",
    "    return inner"
   ]
  },
  {
   "cell_type": "code",
   "execution_count": 39,
   "id": "4f034500",
   "metadata": {},
   "outputs": [
    {
     "data": {
      "text/plain": [
       "10"
      ]
     },
     "execution_count": 39,
     "metadata": {},
     "output_type": "execute_result"
    }
   ],
   "source": [
    "a = 3 # global\n",
    "\n",
    "def outer(c): # c=9\n",
    "    b = 5 #local\n",
    "    def inner():\n",
    "        # c=9\n",
    "        # c = 999 nonlocal\n",
    "        nonlocal c\n",
    "        c += 1\n",
    "        return c\n",
    "    return inner()\n",
    "\n",
    "outer(9)"
   ]
  },
  {
   "cell_type": "markdown",
   "id": "ce92b77b",
   "metadata": {},
   "source": [
    "#### 실습\n",
    "- fx1: speed, limit 내 속도가 제한속도를 위반하는지 t/f\n",
    "- fx2: 클로저, 초과할 경우 얼마나 초과하는지 프린트하는 함수\n",
    "- 실행은 데코레이터로 "
   ]
  },
  {
   "cell_type": "code",
   "execution_count": 47,
   "id": "1b7cecb9",
   "metadata": {},
   "outputs": [
    {
     "data": {
      "text/plain": [
       "'초과: 20 km/h'"
      ]
     },
     "execution_count": 47,
     "metadata": {},
     "output_type": "execute_result"
    }
   ],
   "source": [
    "def violate(func):\n",
    "    def inner(speed, limit):\n",
    "        if func(speed, limit): #True\n",
    "            return f'초과: {speed - limit} km/h'\n",
    "        else:\n",
    "            return '정상 속도'\n",
    "    return inner\n",
    "\n",
    "@violate\n",
    "def is_speeding(speed, limit):\n",
    "    if speed > limit:\n",
    "        return True\n",
    "    else:\n",
    "        return False\n",
    "\n",
    "is_speeding(120, 100)"
   ]
  },
  {
   "cell_type": "markdown",
   "id": "7e71a0fa",
   "metadata": {},
   "source": [
    "#### 익명함수 | lambda\n",
    "- 이름이 없다.\n",
    "def is_speeding():\n",
    "    return\n",
    "- def, return\n",
    "- is_speeding\n",
    "- 단순한 용도의 함수가 필요한 경우 사용\n",
    "- 잦은 사용은 권하지 않음\n",
    "- lambda x: <x를 요리할 코드>"
   ]
  },
  {
   "cell_type": "code",
   "execution_count": 48,
   "id": "b9454be6",
   "metadata": {},
   "outputs": [
    {
     "data": {
      "text/plain": [
       "3"
      ]
     },
     "execution_count": 48,
     "metadata": {},
     "output_type": "execute_result"
    }
   ],
   "source": [
    "(lambda x: x + 1)(2)"
   ]
  },
  {
   "cell_type": "code",
   "execution_count": 49,
   "id": "19faf8f1",
   "metadata": {},
   "outputs": [
    {
     "data": {
      "text/plain": [
       "3"
      ]
     },
     "execution_count": 49,
     "metadata": {},
     "output_type": "execute_result"
    }
   ],
   "source": [
    "def add_one(x):\n",
    "    return x + 1\n",
    "add_one(2)"
   ]
  },
  {
   "cell_type": "code",
   "execution_count": 16,
   "id": "730ca0cb",
   "metadata": {},
   "outputs": [
    {
     "data": {
      "text/plain": [
       "4"
      ]
     },
     "execution_count": 16,
     "metadata": {},
     "output_type": "execute_result"
    }
   ],
   "source": [
    "f = lambda x: x + 1\n",
    "f(3)\n",
    "\n",
    "# 위의 def와 같은 코드를 한 줄로, 번거로움을 줄일 수 있다"
   ]
  },
  {
   "cell_type": "code",
   "execution_count": 17,
   "id": "37bf6a6b",
   "metadata": {},
   "outputs": [
    {
     "data": {
      "text/plain": [
       "8"
      ]
     },
     "execution_count": 17,
     "metadata": {},
     "output_type": "execute_result"
    }
   ],
   "source": [
    "f = lambda x, y: x + y\n",
    "f(3, 5)\n",
    "\n",
    "# 변수를 여러 개 사용하고 싶으면 ,로 가져가면 됨"
   ]
  },
  {
   "cell_type": "markdown",
   "id": "90b5ed7b",
   "metadata": {},
   "source": [
    "### 실습\n",
    "- 단어가 들어왔을 때 첫글자 대문자로 바꾸고 단어 끝에 !를 붙이도록 람다를 만들자.\n",
    "- 예: hello -> Hello!"
   ]
  },
  {
   "cell_type": "code",
   "execution_count": 19,
   "id": "485eb7b7",
   "metadata": {},
   "outputs": [],
   "source": [
    "f = lambda x: x.capitalize() + '!'"
   ]
  },
  {
   "cell_type": "markdown",
   "id": "d7056d07",
   "metadata": {},
   "source": [
    "#### 제너레이터\n",
    "- return -> yield\n",
    "- 시퀀스를 순회할 때 시퀀스를 생성하는 객체.\n",
    "- 한 번 사용되고 사라짐 => 메모리 효율 좋음"
   ]
  },
  {
   "cell_type": "code",
   "execution_count": 20,
   "id": "873f9a76",
   "metadata": {},
   "outputs": [
    {
     "data": {
      "text/plain": [
       "<generator object print_number at 0x000002AFECD11B30>"
      ]
     },
     "execution_count": 20,
     "metadata": {},
     "output_type": "execute_result"
    }
   ],
   "source": [
    "def print_number(num):\n",
    "    for i in range(num):\n",
    "        yield i\n",
    "        \n",
    "print_number(10)"
   ]
  },
  {
   "cell_type": "code",
   "execution_count": 21,
   "id": "9dee3da3",
   "metadata": {},
   "outputs": [
    {
     "name": "stdout",
     "output_type": "stream",
     "text": [
      "0\n",
      "1\n",
      "2\n",
      "3\n",
      "4\n",
      "5\n",
      "6\n",
      "7\n",
      "8\n",
      "9\n"
     ]
    }
   ],
   "source": [
    "fx = print_number(10)\n",
    "\n",
    "for i in fx:\n",
    "    print(i)"
   ]
  },
  {
   "cell_type": "code",
   "execution_count": 22,
   "id": "4a655ec5",
   "metadata": {},
   "outputs": [],
   "source": [
    "for i in fx: # 이미 메모리에서 사라짐\n",
    "    print(i)"
   ]
  },
  {
   "cell_type": "markdown",
   "id": "9f006591",
   "metadata": {},
   "source": [
    "### 실습\n",
    "range() 구현하기\n",
    "- 제너레이터 사용\n",
    "- def my_range(start, end, step):\n",
    "    yield\n",
    "    \n",
    "ranger = my_range(a, b, c)"
   ]
  },
  {
   "cell_type": "code",
   "execution_count": 23,
   "id": "50818689",
   "metadata": {},
   "outputs": [
    {
     "name": "stdout",
     "output_type": "stream",
     "text": [
      "0\n",
      "1\n",
      "2\n",
      "3\n",
      "4\n",
      "5\n",
      "6\n",
      "7\n",
      "8\n",
      "9\n",
      "10\n"
     ]
    }
   ],
   "source": [
    "def my_range(end, start = 0, step = 1):\n",
    "    i = start\n",
    "    while i < end:\n",
    "        yield i\n",
    "        i += step\n",
    "        \n",
    "ranger = my_range(11)\n",
    "for i in ranger:\n",
    "    print(i)"
   ]
  },
  {
   "cell_type": "code",
   "execution_count": 74,
   "id": "646aca36",
   "metadata": {},
   "outputs": [
    {
     "data": {
      "text/plain": [
       "[0, 1, 2, 3, 4]"
      ]
     },
     "execution_count": 74,
     "metadata": {},
     "output_type": "execute_result"
    }
   ],
   "source": [
    "[i for i in range(5)]"
   ]
  },
  {
   "cell_type": "code",
   "execution_count": 76,
   "id": "1ccf8233",
   "metadata": {},
   "outputs": [],
   "source": [
    "ranger = (i for i in range(5))"
   ]
  },
  {
   "cell_type": "code",
   "execution_count": 78,
   "id": "00b09870",
   "metadata": {},
   "outputs": [],
   "source": [
    "for i in ranger: # 두 번 하면 삭제됨\n",
    "    print(i)"
   ]
  },
  {
   "cell_type": "markdown",
   "id": "0dc7dfc5",
   "metadata": {},
   "source": [
    "#### 재귀함수\n",
    "- 너무 깊으면 예외 발생 => 주의해야함\n",
    "- 자기 자신을 호출하는 함수\n",
    "- [[1, 2, 3], [[[1, 1]], 4, 5]] -> [1,2,3,1,1,4,5]\n",
    "- 차원이 다른 모든 요소를 하나의 리스트에 담고 싶을 때"
   ]
  },
  {
   "cell_type": "code",
   "execution_count": 89,
   "id": "467f7e7d",
   "metadata": {},
   "outputs": [],
   "source": [
    "def flatten(sent):\n",
    "    for word in sent:\n",
    "        if isinstance(word, list):\n",
    "            # true\n",
    "           # for sub_word in flatten(word):\n",
    "            #    yield sub_word\n",
    "            yield from flatten(word)\n",
    "        else:    \n",
    "            # false\n",
    "            yield word"
   ]
  },
  {
   "cell_type": "code",
   "execution_count": 90,
   "id": "2fc10836",
   "metadata": {},
   "outputs": [
    {
     "data": {
      "text/plain": [
       "True"
      ]
     },
     "execution_count": 90,
     "metadata": {},
     "output_type": "execute_result"
    }
   ],
   "source": [
    "isinstance(4, int)"
   ]
  },
  {
   "cell_type": "code",
   "execution_count": 91,
   "id": "e393ea6d",
   "metadata": {},
   "outputs": [
    {
     "data": {
      "text/plain": [
       "<generator object flatten at 0x00000299ECCEE9E0>"
      ]
     },
     "execution_count": 91,
     "metadata": {},
     "output_type": "execute_result"
    }
   ],
   "source": [
    "a = [[1, 2, 3], [[[1, 1]], 4, 5]]\n",
    "flatten(a)"
   ]
  },
  {
   "cell_type": "code",
   "execution_count": 92,
   "id": "f7ddc164",
   "metadata": {},
   "outputs": [
    {
     "name": "stdout",
     "output_type": "stream",
     "text": [
      "1\n",
      "2\n",
      "3\n",
      "1\n",
      "1\n",
      "4\n",
      "5\n"
     ]
    }
   ],
   "source": [
    "for i in flatten(a):\n",
    "    print(i)"
   ]
  },
  {
   "cell_type": "markdown",
   "id": "c64d754b",
   "metadata": {},
   "source": [
    "### 예외 처리 | exception handling\n",
    "- 목적: 프로그램 정상 종료\n",
    "- 예외 발생 시, 사용자에게 알리고 조치 취함\n",
    "- 소프트랜딩"
   ]
  },
  {
   "cell_type": "code",
   "execution_count": 94,
   "id": "bf37b696",
   "metadata": {},
   "outputs": [
    {
     "ename": "ZeroDivisionError",
     "evalue": "division by zero",
     "output_type": "error",
     "traceback": [
      "\u001b[1;31m---------------------------------------------------------------------------\u001b[0m",
      "\u001b[1;31mZeroDivisionError\u001b[0m                         Traceback (most recent call last)",
      "\u001b[1;32m~\\AppData\\Local\\Temp/ipykernel_6444/4214539787.py\u001b[0m in \u001b[0;36m<module>\u001b[1;34m\u001b[0m\n\u001b[0;32m      1\u001b[0m \u001b[1;31m# 예외 종류\u001b[0m\u001b[1;33m\u001b[0m\u001b[1;33m\u001b[0m\u001b[0m\n\u001b[1;32m----> 2\u001b[1;33m \u001b[1;36m10\u001b[0m \u001b[1;33m/\u001b[0m \u001b[1;36m0\u001b[0m\u001b[1;33m\u001b[0m\u001b[1;33m\u001b[0m\u001b[0m\n\u001b[0m",
      "\u001b[1;31mZeroDivisionError\u001b[0m: division by zero"
     ]
    }
   ],
   "source": [
    "# 예외 종류\n",
    "10 / 0"
   ]
  },
  {
   "cell_type": "code",
   "execution_count": 95,
   "id": "ea91cdee",
   "metadata": {},
   "outputs": [
    {
     "ename": "ValueError",
     "evalue": "invalid literal for int() with base 10: 'sssss'",
     "output_type": "error",
     "traceback": [
      "\u001b[1;31m---------------------------------------------------------------------------\u001b[0m",
      "\u001b[1;31mValueError\u001b[0m                                Traceback (most recent call last)",
      "\u001b[1;32m~\\AppData\\Local\\Temp/ipykernel_6444/4283309709.py\u001b[0m in \u001b[0;36m<module>\u001b[1;34m\u001b[0m\n\u001b[1;32m----> 1\u001b[1;33m \u001b[0mint\u001b[0m\u001b[1;33m(\u001b[0m\u001b[1;34m'sssss'\u001b[0m\u001b[1;33m)\u001b[0m\u001b[1;33m\u001b[0m\u001b[1;33m\u001b[0m\u001b[0m\n\u001b[0m",
      "\u001b[1;31mValueError\u001b[0m: invalid literal for int() with base 10: 'sssss'"
     ]
    }
   ],
   "source": [
    "int('sssss')"
   ]
  },
  {
   "cell_type": "code",
   "execution_count": 96,
   "id": "c6b13f66",
   "metadata": {},
   "outputs": [
    {
     "ename": "NameError",
     "evalue": "name 'hello' is not defined",
     "output_type": "error",
     "traceback": [
      "\u001b[1;31m---------------------------------------------------------------------------\u001b[0m",
      "\u001b[1;31mNameError\u001b[0m                                 Traceback (most recent call last)",
      "\u001b[1;32m~\\AppData\\Local\\Temp/ipykernel_6444/1315523702.py\u001b[0m in \u001b[0;36m<module>\u001b[1;34m\u001b[0m\n\u001b[1;32m----> 1\u001b[1;33m \u001b[0mhello\u001b[0m \u001b[1;33m+=\u001b[0m \u001b[1;36m1\u001b[0m\u001b[1;33m\u001b[0m\u001b[1;33m\u001b[0m\u001b[0m\n\u001b[0m",
      "\u001b[1;31mNameError\u001b[0m: name 'hello' is not defined"
     ]
    }
   ],
   "source": [
    "hello += 1"
   ]
  },
  {
   "cell_type": "code",
   "execution_count": 97,
   "id": "365432c2",
   "metadata": {},
   "outputs": [
    {
     "ename": "IndexError",
     "evalue": "string index out of range",
     "output_type": "error",
     "traceback": [
      "\u001b[1;31m---------------------------------------------------------------------------\u001b[0m",
      "\u001b[1;31mIndexError\u001b[0m                                Traceback (most recent call last)",
      "\u001b[1;32m~\\AppData\\Local\\Temp/ipykernel_6444/750764871.py\u001b[0m in \u001b[0;36m<module>\u001b[1;34m\u001b[0m\n\u001b[1;32m----> 1\u001b[1;33m \u001b[1;34m'ssssss'\u001b[0m\u001b[1;33m[\u001b[0m\u001b[1;36m10\u001b[0m\u001b[1;33m]\u001b[0m\u001b[1;33m\u001b[0m\u001b[1;33m\u001b[0m\u001b[0m\n\u001b[0m",
      "\u001b[1;31mIndexError\u001b[0m: string index out of range"
     ]
    }
   ],
   "source": [
    "'ssssss'[10]"
   ]
  },
  {
   "cell_type": "code",
   "execution_count": 98,
   "id": "55763489",
   "metadata": {},
   "outputs": [
    {
     "name": "stdout",
     "output_type": "stream",
     "text": [
      "0으로 나눌 수 없음\n"
     ]
    }
   ],
   "source": [
    "try:\n",
    "    #<에러 발생될 법한 코드 블럭>\n",
    "    10 / 0\n",
    "except ZeroDivisionError:#<에러타입>:\n",
    "    #<처리할 방법>\n",
    "    print('0으로 나눌 수 없음')"
   ]
  },
  {
   "cell_type": "code",
   "execution_count": 100,
   "id": "4cf3032e",
   "metadata": {},
   "outputs": [
    {
     "name": "stdout",
     "output_type": "stream",
     "text": [
      "error\n",
      "10.0\n",
      "5.0\n",
      "3.3333333333333335\n",
      "2.5\n",
      "2.0\n",
      "1.6666666666666667\n",
      "1.4285714285714286\n",
      "1.25\n",
      "1.1111111111111112\n"
     ]
    }
   ],
   "source": [
    "for i in range(10):\n",
    "    try:\n",
    "        print(10 / i)\n",
    "    except ZeroDivisionError:\n",
    "        print('error')"
   ]
  },
  {
   "cell_type": "code",
   "execution_count": 103,
   "id": "a0b025f9",
   "metadata": {},
   "outputs": [
    {
     "name": "stdout",
     "output_type": "stream",
     "text": [
      "인덱스 입력하세요> 8\n",
      "index error\n",
      "인덱스 입력하세요> ddd\n",
      "type error\n",
      "인덱스 입력하세요> q\n"
     ]
    }
   ],
   "source": [
    "word = 'hello'\n",
    "while True:\n",
    "    index = input('인덱스 입력하세요> ')\n",
    "    if index == 'q':\n",
    "        break\n",
    "        \n",
    "    try:\n",
    "        print(word[int(index)])\n",
    "    except IndexError:\n",
    "        print('index error')\n",
    "    except ValueError:\n",
    "        print('type error')"
   ]
  },
  {
   "cell_type": "markdown",
   "id": "42c24a0e",
   "metadata": {},
   "source": [
    "#### 2. 예외 발생시키기\n",
    "프로그램을 강제 종료하고자 할 때 사용함\n",
    "- raise\n",
    "- assert"
   ]
  },
  {
   "cell_type": "markdown",
   "id": "e6b26796",
   "metadata": {},
   "source": [
    "raise ValueError('print ...')"
   ]
  },
  {
   "cell_type": "code",
   "execution_count": 105,
   "id": "2400b81a",
   "metadata": {},
   "outputs": [
    {
     "name": "stdout",
     "output_type": "stream",
     "text": [
      "number>> d\n"
     ]
    },
    {
     "ename": "ValueError",
     "evalue": "숫자가 아닙니다.",
     "output_type": "error",
     "traceback": [
      "\u001b[1;31m---------------------------------------------------------------------------\u001b[0m",
      "\u001b[1;31mValueError\u001b[0m                                Traceback (most recent call last)",
      "\u001b[1;32m~\\AppData\\Local\\Temp/ipykernel_6444/3325604307.py\u001b[0m in \u001b[0;36m<module>\u001b[1;34m\u001b[0m\n\u001b[0;32m      2\u001b[0m     \u001b[0mnu\u001b[0m\u001b[1;33m,\u001b[0m \u001b[1;33m=\u001b[0m \u001b[0minput\u001b[0m\u001b[1;33m(\u001b[0m\u001b[1;34m'number>> '\u001b[0m\u001b[1;33m)\u001b[0m\u001b[1;33m\u001b[0m\u001b[1;33m\u001b[0m\u001b[0m\n\u001b[0;32m      3\u001b[0m     \u001b[1;32mif\u001b[0m \u001b[1;32mnot\u001b[0m \u001b[0mnu\u001b[0m\u001b[1;33m.\u001b[0m\u001b[0misdigit\u001b[0m\u001b[1;33m(\u001b[0m\u001b[1;33m)\u001b[0m\u001b[1;33m:\u001b[0m\u001b[1;33m\u001b[0m\u001b[1;33m\u001b[0m\u001b[0m\n\u001b[1;32m----> 4\u001b[1;33m         \u001b[1;32mraise\u001b[0m \u001b[0mValueError\u001b[0m\u001b[1;33m(\u001b[0m\u001b[1;34m'숫자가 아닙니다.'\u001b[0m\u001b[1;33m)\u001b[0m\u001b[1;33m\u001b[0m\u001b[1;33m\u001b[0m\u001b[0m\n\u001b[0m\u001b[0;32m      5\u001b[0m     \u001b[1;32melse\u001b[0m\u001b[1;33m:\u001b[0m\u001b[1;33m\u001b[0m\u001b[1;33m\u001b[0m\u001b[0m\n\u001b[0;32m      6\u001b[0m         \u001b[0mprint\u001b[0m\u001b[1;33m(\u001b[0m\u001b[0mnum\u001b[0m\u001b[1;33m)\u001b[0m\u001b[1;33m\u001b[0m\u001b[1;33m\u001b[0m\u001b[0m\n",
      "\u001b[1;31mValueError\u001b[0m: 숫자가 아닙니다."
     ]
    }
   ],
   "source": [
    "while True:\n",
    "    nu, = input('number>> ')\n",
    "    if not nu.isdigit():\n",
    "        raise ValueError('숫자가 아닙니다.')\n",
    "    else:\n",
    "        print(num)\n",
    "        break"
   ]
  },
  {
   "cell_type": "markdown",
   "id": "a1f3e6d5",
   "metadata": {},
   "source": [
    "assert <참인 조건, '예외 메시지' # AssertionError"
   ]
  },
  {
   "cell_type": "code",
   "execution_count": 110,
   "id": "fc136086",
   "metadata": {},
   "outputs": [
    {
     "ename": "AssertionError",
     "evalue": "정수 아님",
     "output_type": "error",
     "traceback": [
      "\u001b[1;31m---------------------------------------------------------------------------\u001b[0m",
      "\u001b[1;31mAssertionError\u001b[0m                            Traceback (most recent call last)",
      "\u001b[1;32m~\\AppData\\Local\\Temp/ipykernel_6444/243239802.py\u001b[0m in \u001b[0;36m<module>\u001b[1;34m\u001b[0m\n\u001b[0;32m      3\u001b[0m     \u001b[1;32mreturn\u001b[0m \u001b[0mbin\u001b[0m\u001b[1;33m(\u001b[0m\u001b[0mnum\u001b[0m\u001b[1;33m)\u001b[0m\u001b[1;33m\u001b[0m\u001b[1;33m\u001b[0m\u001b[0m\n\u001b[0;32m      4\u001b[0m \u001b[1;33m\u001b[0m\u001b[0m\n\u001b[1;32m----> 5\u001b[1;33m \u001b[0mget_binary\u001b[0m\u001b[1;33m(\u001b[0m\u001b[1;34m'ee'\u001b[0m\u001b[1;33m)\u001b[0m\u001b[1;33m\u001b[0m\u001b[1;33m\u001b[0m\u001b[0m\n\u001b[0m",
      "\u001b[1;32m~\\AppData\\Local\\Temp/ipykernel_6444/243239802.py\u001b[0m in \u001b[0;36mget_binary\u001b[1;34m(num)\u001b[0m\n\u001b[0;32m      1\u001b[0m \u001b[1;32mdef\u001b[0m \u001b[0mget_binary\u001b[0m\u001b[1;33m(\u001b[0m\u001b[0mnum\u001b[0m\u001b[1;33m)\u001b[0m\u001b[1;33m:\u001b[0m\u001b[1;33m\u001b[0m\u001b[1;33m\u001b[0m\u001b[0m\n\u001b[1;32m----> 2\u001b[1;33m     \u001b[1;32massert\u001b[0m \u001b[0misinstance\u001b[0m\u001b[1;33m(\u001b[0m\u001b[0mnum\u001b[0m\u001b[1;33m,\u001b[0m \u001b[0mint\u001b[0m\u001b[1;33m)\u001b[0m\u001b[1;33m,\u001b[0m \u001b[1;34m'정수 아님'\u001b[0m\u001b[1;33m\u001b[0m\u001b[1;33m\u001b[0m\u001b[0m\n\u001b[0m\u001b[0;32m      3\u001b[0m     \u001b[1;32mreturn\u001b[0m \u001b[0mbin\u001b[0m\u001b[1;33m(\u001b[0m\u001b[0mnum\u001b[0m\u001b[1;33m)\u001b[0m\u001b[1;33m\u001b[0m\u001b[1;33m\u001b[0m\u001b[0m\n\u001b[0;32m      4\u001b[0m \u001b[1;33m\u001b[0m\u001b[0m\n\u001b[0;32m      5\u001b[0m \u001b[0mget_binary\u001b[0m\u001b[1;33m(\u001b[0m\u001b[1;34m'ee'\u001b[0m\u001b[1;33m)\u001b[0m\u001b[1;33m\u001b[0m\u001b[1;33m\u001b[0m\u001b[0m\n",
      "\u001b[1;31mAssertionError\u001b[0m: 정수 아님"
     ]
    }
   ],
   "source": [
    "def get_binary(num):\n",
    "    assert isinstance(num, int), '정수 아님'\n",
    "    return bin(num)\n",
    "\n",
    "get_binary('ee')"
   ]
  },
  {
   "cell_type": "markdown",
   "id": "33ceabcb",
   "metadata": {},
   "source": [
    "#### 예외 정의하기\n",
    "- 사용자 정의 예외\n",
    "- Exception이라는 부모클래스를 상속받는다."
   ]
  },
  {
   "cell_type": "code",
   "execution_count": 111,
   "id": "91c45723",
   "metadata": {},
   "outputs": [],
   "source": [
    "class MyException(Exception):\n",
    "    pass"
   ]
  },
  {
   "cell_type": "code",
   "execution_count": 113,
   "id": "942625be",
   "metadata": {},
   "outputs": [
    {
     "name": "stdout",
     "output_type": "stream",
     "text": [
      "a\n",
      "b\n"
     ]
    },
    {
     "ename": "MyException",
     "evalue": "대문자 안 됨!",
     "output_type": "error",
     "traceback": [
      "\u001b[1;31m---------------------------------------------------------------------------\u001b[0m",
      "\u001b[1;31mMyException\u001b[0m                               Traceback (most recent call last)",
      "\u001b[1;32m~\\AppData\\Local\\Temp/ipykernel_6444/1587679071.py\u001b[0m in \u001b[0;36m<module>\u001b[1;34m\u001b[0m\n\u001b[0;32m      1\u001b[0m \u001b[1;32mfor\u001b[0m \u001b[0mword\u001b[0m \u001b[1;32min\u001b[0m \u001b[1;33m[\u001b[0m\u001b[1;34m'a'\u001b[0m\u001b[1;33m,\u001b[0m \u001b[1;34m'b'\u001b[0m\u001b[1;33m,\u001b[0m \u001b[1;34m'C'\u001b[0m\u001b[1;33m]\u001b[0m\u001b[1;33m:\u001b[0m\u001b[1;33m\u001b[0m\u001b[1;33m\u001b[0m\u001b[0m\n\u001b[0;32m      2\u001b[0m     \u001b[1;32mif\u001b[0m \u001b[0mword\u001b[0m\u001b[1;33m.\u001b[0m\u001b[0misupper\u001b[0m\u001b[1;33m(\u001b[0m\u001b[1;33m)\u001b[0m\u001b[1;33m:\u001b[0m\u001b[1;33m\u001b[0m\u001b[1;33m\u001b[0m\u001b[0m\n\u001b[1;32m----> 3\u001b[1;33m         \u001b[1;32mraise\u001b[0m \u001b[0mMyException\u001b[0m\u001b[1;33m(\u001b[0m\u001b[1;34m'대문자 안 됨!'\u001b[0m\u001b[1;33m)\u001b[0m\u001b[1;33m\u001b[0m\u001b[1;33m\u001b[0m\u001b[0m\n\u001b[0m\u001b[0;32m      4\u001b[0m     \u001b[1;32melse\u001b[0m\u001b[1;33m:\u001b[0m\u001b[1;33m\u001b[0m\u001b[1;33m\u001b[0m\u001b[0m\n\u001b[0;32m      5\u001b[0m         \u001b[0mprint\u001b[0m\u001b[1;33m(\u001b[0m\u001b[0mword\u001b[0m\u001b[1;33m)\u001b[0m\u001b[1;33m\u001b[0m\u001b[1;33m\u001b[0m\u001b[0m\n",
      "\u001b[1;31mMyException\u001b[0m: 대문자 안 됨!"
     ]
    }
   ],
   "source": [
    "for word in ['a', 'b', 'C']:\n",
    "    if word.isupper():\n",
    "        raise MyException('대문자 안 됨!')\n",
    "    else:\n",
    "        print(word)"
   ]
  },
  {
   "cell_type": "code",
   "execution_count": 116,
   "id": "cb494a1f",
   "metadata": {},
   "outputs": [
    {
     "name": "stdout",
     "output_type": "stream",
     "text": [
      "a\n",
      "b\n"
     ]
    },
    {
     "ename": "UppercaseException",
     "evalue": "대문자 안된다구",
     "output_type": "error",
     "traceback": [
      "\u001b[1;31m---------------------------------------------------------------------------\u001b[0m",
      "\u001b[1;31mUppercaseException\u001b[0m                        Traceback (most recent call last)",
      "\u001b[1;32m~\\AppData\\Local\\Temp/ipykernel_6444/583830789.py\u001b[0m in \u001b[0;36m<module>\u001b[1;34m\u001b[0m\n\u001b[0;32m      5\u001b[0m \u001b[1;32mfor\u001b[0m \u001b[0mword\u001b[0m \u001b[1;32min\u001b[0m \u001b[1;33m[\u001b[0m\u001b[1;34m'a'\u001b[0m\u001b[1;33m,\u001b[0m \u001b[1;34m'b'\u001b[0m\u001b[1;33m,\u001b[0m \u001b[1;34m'C'\u001b[0m\u001b[1;33m]\u001b[0m\u001b[1;33m:\u001b[0m\u001b[1;33m\u001b[0m\u001b[1;33m\u001b[0m\u001b[0m\n\u001b[0;32m      6\u001b[0m     \u001b[1;32mif\u001b[0m \u001b[0mword\u001b[0m\u001b[1;33m.\u001b[0m\u001b[0misupper\u001b[0m\u001b[1;33m(\u001b[0m\u001b[1;33m)\u001b[0m\u001b[1;33m:\u001b[0m\u001b[1;33m\u001b[0m\u001b[1;33m\u001b[0m\u001b[0m\n\u001b[1;32m----> 7\u001b[1;33m         \u001b[1;32mraise\u001b[0m \u001b[0mUppercaseException\u001b[0m\u001b[1;33m\u001b[0m\u001b[1;33m\u001b[0m\u001b[0m\n\u001b[0m\u001b[0;32m      8\u001b[0m     \u001b[1;32melse\u001b[0m\u001b[1;33m:\u001b[0m\u001b[1;33m\u001b[0m\u001b[1;33m\u001b[0m\u001b[0m\n\u001b[0;32m      9\u001b[0m         \u001b[0mprint\u001b[0m\u001b[1;33m(\u001b[0m\u001b[0mword\u001b[0m\u001b[1;33m)\u001b[0m\u001b[1;33m\u001b[0m\u001b[1;33m\u001b[0m\u001b[0m\n",
      "\u001b[1;31mUppercaseException\u001b[0m: 대문자 안된다구"
     ]
    }
   ],
   "source": [
    "class UppercaseException(Exception):\n",
    "    def __init__(self):\n",
    "        super().__init__('대문자 안된다구')\n",
    "        \n",
    "for word in ['a', 'b', 'C']:\n",
    "    if word.isupper():\n",
    "        raise UppercaseException\n",
    "    else:\n",
    "        print(word)"
   ]
  },
  {
   "cell_type": "code",
   "execution_count": null,
   "id": "9fa73d53",
   "metadata": {},
   "outputs": [],
   "source": []
  }
 ],
 "metadata": {
  "kernelspec": {
   "display_name": "Python 3 (ipykernel)",
   "language": "python",
   "name": "python3"
  },
  "language_info": {
   "codemirror_mode": {
    "name": "ipython",
    "version": 3
   },
   "file_extension": ".py",
   "mimetype": "text/x-python",
   "name": "python",
   "nbconvert_exporter": "python",
   "pygments_lexer": "ipython3",
   "version": "3.9.7"
  }
 },
 "nbformat": 4,
 "nbformat_minor": 5
}
