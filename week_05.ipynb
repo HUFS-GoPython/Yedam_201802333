{
 "cells": [
  {
   "cell_type": "markdown",
   "id": "8ea59d05",
   "metadata": {},
   "source": [
    "### 반복문\n",
    "- while, for loop\n",
    "- 반복문: 자료구조를 순회할 때 사용\n",
    "- 정해진 동작을 반복해야 할 때 내리는 명령어\n",
    "- for loop: 시작, 종료 그리고 수행명령\n",
    "\n",
    "#### while loop\n",
    "- 어떤 조건이 만족하는 동안 명령 블록을 수행한다.\n",
    "- if + for loop\n",
    "- 해당 조건이 거짓이면 멈춘다. => 언제 멈추는지 그 시점을 정확히 파악해야 함.\n",
    "\n",
    "#### for vs. while\n",
    "- for: 반복 횟수가 정해짐, 정확함, 변하지 않음\n",
    "    - 예: 성적 산출 20명 하기\n",
    "- while: 횟수 정해지지 않음. (중요하지 않음), 어떤 조건을 만족시킬 때 빠져낭게 하는 게 중요할 때 사용\n",
    "    - 예: 가위바위보 이겼을 때 끝내기"
   ]
  },
  {
   "cell_type": "code",
   "execution_count": 6,
   "id": "dcde628e",
   "metadata": {},
   "outputs": [
    {
     "name": "stdout",
     "output_type": "stream",
     "text": [
      "0\n",
      "1\n",
      "2\n",
      "3\n",
      "4\n",
      "5\n",
      "6\n",
      "7\n",
      "8\n",
      "9\n"
     ]
    }
   ],
   "source": [
    "for i in range(10):\n",
    "    print(i)"
   ]
  },
  {
   "cell_type": "code",
   "execution_count": 7,
   "id": "8986a118",
   "metadata": {},
   "outputs": [
    {
     "name": "stdout",
     "output_type": "stream",
     "text": [
      "0\n",
      "1\n",
      "2\n"
     ]
    }
   ],
   "source": [
    "j = 0 # 초기화 블록\n",
    "while j <3:  # 0, 1, 2, False(끝나는 시점)\n",
    "    print(j)  # 0, 1, 2\n",
    "    j += 1 # 변화 블록 1, 2, 3"
   ]
  },
  {
   "cell_type": "code",
   "execution_count": 8,
   "id": "05d53e44",
   "metadata": {},
   "outputs": [
    {
     "name": "stdout",
     "output_type": "stream",
     "text": [
      "1\n",
      "2\n",
      "3\n"
     ]
    }
   ],
   "source": [
    "j = 0 # 초기화 블록\n",
    "while j <3:  # 0, 1, 2, False(끝나는 시점)\n",
    "    j += 1\n",
    "    print(j)  # 0, 1, 2"
   ]
  },
  {
   "cell_type": "code",
   "execution_count": 9,
   "id": "92e6b3f0",
   "metadata": {},
   "outputs": [
    {
     "name": "stdout",
     "output_type": "stream",
     "text": [
      "a\n",
      "b\n",
      "c\n",
      "d\n"
     ]
    }
   ],
   "source": [
    "abcd =['a', 'b', 'c', 'd']\n",
    "for ch in abcd:\n",
    "    print(ch)"
   ]
  },
  {
   "cell_type": "code",
   "execution_count": 10,
   "id": "2820ebbb",
   "metadata": {},
   "outputs": [
    {
     "name": "stdout",
     "output_type": "stream",
     "text": [
      "a\n",
      "b\n",
      "c\n",
      "d\n"
     ]
    }
   ],
   "source": [
    "n = 0\n",
    "while n <len(abcd):\n",
    "    print(abcd[n])\n",
    "    n += 1"
   ]
  },
  {
   "cell_type": "markdown",
   "id": "aa216e28",
   "metadata": {},
   "source": [
    "### 반복문 제어\n",
    "- 되도록 사용하지 않는다. 의도치 않은 오류를 위해\n",
    "- break: 논리적으로 반복을 종료시킬 때\n",
    "- else: 어떤 조건이 완전히 끝났을 때 한번 더 실행함. break시에 실행 안 됨. => 어느 지점에서 종료되었는지 확인할 때\n",
    "- contiune: 특정 조건을 건너뛰고 다음 조건 실행"
   ]
  },
  {
   "cell_type": "code",
   "execution_count": 11,
   "id": "ff9af446",
   "metadata": {},
   "outputs": [
    {
     "name": "stdout",
     "output_type": "stream",
     "text": [
      "0\n",
      "1\n",
      "2\n",
      "3\n",
      "4\n",
      "5\n",
      "6\n"
     ]
    }
   ],
   "source": [
    "j = 0\n",
    "while j < 10:\n",
    "    print(j)\n",
    "    if j == 6: break\n",
    "    j += 1"
   ]
  },
  {
   "cell_type": "code",
   "execution_count": 12,
   "id": "7001ce85",
   "metadata": {},
   "outputs": [
    {
     "name": "stdout",
     "output_type": "stream",
     "text": [
      "0\n",
      "1\n",
      "2\n",
      "3\n",
      "4\n",
      "5\n"
     ]
    }
   ],
   "source": [
    "for i in range(10):\n",
    "    if i == 6: break\n",
    "    print(i)"
   ]
  },
  {
   "cell_type": "code",
   "execution_count": 13,
   "id": "18958567",
   "metadata": {},
   "outputs": [
    {
     "name": "stdout",
     "output_type": "stream",
     "text": [
      "0\n",
      "1\n",
      "2\n",
      "3\n",
      "4\n",
      "5\n",
      "6\n",
      "7\n",
      "8\n",
      "9\n",
      "ended\n"
     ]
    }
   ],
   "source": [
    "j = 0\n",
    "while j < 10:\n",
    "    print(j)\n",
    "    if j == 16: break\n",
    "    j += 1\n",
    "else:\n",
    "    print('ended')"
   ]
  },
  {
   "cell_type": "code",
   "execution_count": 14,
   "id": "12f6d321",
   "metadata": {},
   "outputs": [
    {
     "name": "stdout",
     "output_type": "stream",
     "text": [
      "0\n",
      "1\n",
      "2\n",
      "3\n",
      "4\n",
      "5\n"
     ]
    }
   ],
   "source": [
    "for i in range(10):\n",
    "    if i == 6: break # 6 부터 출력안함\n",
    "    print(i)\n",
    "else:\n",
    "    print('ended')"
   ]
  },
  {
   "cell_type": "code",
   "execution_count": 15,
   "id": "e0652e32",
   "metadata": {},
   "outputs": [
    {
     "name": "stdout",
     "output_type": "stream",
     "text": [
      "0\n",
      "1\n",
      "2\n",
      "3\n",
      "4\n",
      "5\n",
      "7\n",
      "8\n",
      "9\n",
      "ended\n"
     ]
    }
   ],
   "source": [
    "for i in range(10):\n",
    "    if i == 6: continue # 6만 출력 안함\n",
    "    print(i)\n",
    "else:\n",
    "    print('ended')"
   ]
  },
  {
   "cell_type": "markdown",
   "id": "c82c9537",
   "metadata": {},
   "source": [
    "#### gugudan\n",
    "\n",
    "- 변수는 입력을 받아서 사용함.\n",
    "\n",
    "- 1. n단 출력\n",
    "- 2. 1-n단까지 출력\n",
    "- 3. n, m 모두 입력 받아서 출력\n",
    "- 4. 프로그램으로 만들기.\n",
    "    - 메뉴: 1) n 2) 1-n 3) n-m단"
   ]
  },
  {
   "cell_type": "code",
   "execution_count": 16,
   "id": "31c96ce9",
   "metadata": {},
   "outputs": [
    {
     "name": "stdout",
     "output_type": "stream",
     "text": [
      "출력할 단을 입력하세요: \n"
     ]
    },
    {
     "ename": "ValueError",
     "evalue": "invalid literal for int() with base 10: ''",
     "output_type": "error",
     "traceback": [
      "\u001b[1;31m---------------------------------------------------------------------------\u001b[0m",
      "\u001b[1;31mValueError\u001b[0m                                Traceback (most recent call last)",
      "\u001b[1;32m~\\AppData\\Local\\Temp/ipykernel_24256/1473705970.py\u001b[0m in \u001b[0;36m<module>\u001b[1;34m\u001b[0m\n\u001b[0;32m      1\u001b[0m \u001b[1;31m#1번문제\u001b[0m\u001b[1;33m\u001b[0m\u001b[1;33m\u001b[0m\u001b[0m\n\u001b[0;32m      2\u001b[0m \u001b[1;33m\u001b[0m\u001b[0m\n\u001b[1;32m----> 3\u001b[1;33m \u001b[0mn\u001b[0m \u001b[1;33m=\u001b[0m \u001b[0mint\u001b[0m\u001b[1;33m(\u001b[0m\u001b[0minput\u001b[0m\u001b[1;33m(\u001b[0m\u001b[1;34m\"출력할 단을 입력하세요: \"\u001b[0m\u001b[1;33m)\u001b[0m\u001b[1;33m)\u001b[0m\u001b[1;33m\u001b[0m\u001b[1;33m\u001b[0m\u001b[0m\n\u001b[0m\u001b[0;32m      4\u001b[0m \u001b[1;32mfor\u001b[0m \u001b[0mi\u001b[0m \u001b[1;32min\u001b[0m \u001b[0mrange\u001b[0m\u001b[1;33m(\u001b[0m\u001b[1;36m1\u001b[0m\u001b[1;33m,\u001b[0m\u001b[1;36m10\u001b[0m\u001b[1;33m)\u001b[0m\u001b[1;33m:\u001b[0m\u001b[1;33m\u001b[0m\u001b[1;33m\u001b[0m\u001b[0m\n\u001b[0;32m      5\u001b[0m     \u001b[0mprint\u001b[0m\u001b[1;33m(\u001b[0m\u001b[1;34m'%d X %d = %d'\u001b[0m \u001b[1;33m%\u001b[0m\u001b[1;33m(\u001b[0m\u001b[0mn\u001b[0m\u001b[1;33m,\u001b[0m \u001b[0mi\u001b[0m\u001b[1;33m,\u001b[0m \u001b[0mn\u001b[0m\u001b[1;33m*\u001b[0m\u001b[0mi\u001b[0m\u001b[1;33m)\u001b[0m\u001b[1;33m)\u001b[0m\u001b[1;33m\u001b[0m\u001b[1;33m\u001b[0m\u001b[0m\n",
      "\u001b[1;31mValueError\u001b[0m: invalid literal for int() with base 10: ''"
     ]
    }
   ],
   "source": [
    "#1번문제\n",
    "\n",
    "n = int(input(\"출력할 단을 입력하세요: \"))\n",
    "for i in range(1,10):\n",
    "    print('%d X %d = %d' %(n, i, n*i))"
   ]
  },
  {
   "cell_type": "code",
   "execution_count": 17,
   "id": "e42d0a9a",
   "metadata": {},
   "outputs": [
    {
     "name": "stdout",
     "output_type": "stream",
     "text": [
      "출력할 단을 입력하세요: \n"
     ]
    },
    {
     "ename": "ValueError",
     "evalue": "invalid literal for int() with base 10: ''",
     "output_type": "error",
     "traceback": [
      "\u001b[1;31m---------------------------------------------------------------------------\u001b[0m",
      "\u001b[1;31mValueError\u001b[0m                                Traceback (most recent call last)",
      "\u001b[1;32m~\\AppData\\Local\\Temp/ipykernel_24256/3391968864.py\u001b[0m in \u001b[0;36m<module>\u001b[1;34m\u001b[0m\n\u001b[0;32m      1\u001b[0m \u001b[1;31m#2번문제\u001b[0m\u001b[1;33m\u001b[0m\u001b[1;33m\u001b[0m\u001b[0m\n\u001b[0;32m      2\u001b[0m \u001b[1;33m\u001b[0m\u001b[0m\n\u001b[1;32m----> 3\u001b[1;33m \u001b[0mn\u001b[0m \u001b[1;33m=\u001b[0m \u001b[0mint\u001b[0m\u001b[1;33m(\u001b[0m\u001b[0minput\u001b[0m\u001b[1;33m(\u001b[0m\u001b[1;34m\"출력할 단을 입력하세요: \"\u001b[0m\u001b[1;33m)\u001b[0m\u001b[1;33m)\u001b[0m\u001b[1;33m\u001b[0m\u001b[1;33m\u001b[0m\u001b[0m\n\u001b[0m\u001b[0;32m      4\u001b[0m \u001b[1;32mfor\u001b[0m \u001b[0mi\u001b[0m \u001b[1;32min\u001b[0m \u001b[0mrange\u001b[0m\u001b[1;33m(\u001b[0m\u001b[1;36m1\u001b[0m\u001b[1;33m,\u001b[0m\u001b[0mn\u001b[0m\u001b[1;33m+\u001b[0m\u001b[1;36m1\u001b[0m\u001b[1;33m)\u001b[0m\u001b[1;33m:\u001b[0m\u001b[1;33m\u001b[0m\u001b[1;33m\u001b[0m\u001b[0m\n\u001b[0;32m      5\u001b[0m     \u001b[1;32mif\u001b[0m \u001b[0mi\u001b[0m \u001b[1;33m>=\u001b[0m \u001b[1;36m10\u001b[0m\u001b[1;33m:\u001b[0m\u001b[1;33m\u001b[0m\u001b[1;33m\u001b[0m\u001b[0m\n",
      "\u001b[1;31mValueError\u001b[0m: invalid literal for int() with base 10: ''"
     ]
    }
   ],
   "source": [
    "#2번문제\n",
    "\n",
    "n = int(input(\"출력할 단을 입력하세요: \"))\n",
    "for i in range(1,n+1):\n",
    "    if i >= 10:\n",
    "        print()\n",
    "        print('숫자가 \\'10단\\'을 넘습니다.')\n",
    "        break\n",
    "    print('====%s단====' %(i))\n",
    "    for j in range(1, 10):\n",
    "        print('%d X %d = %d' %(i, j, i*j))"
   ]
  },
  {
   "cell_type": "code",
   "execution_count": 18,
   "id": "bb390015",
   "metadata": {},
   "outputs": [
    {
     "name": "stdout",
     "output_type": "stream",
     "text": [
      "구구단이 시작하는 단을 입력하세요: \n"
     ]
    },
    {
     "ename": "ValueError",
     "evalue": "invalid literal for int() with base 10: ''",
     "output_type": "error",
     "traceback": [
      "\u001b[1;31m---------------------------------------------------------------------------\u001b[0m",
      "\u001b[1;31mValueError\u001b[0m                                Traceback (most recent call last)",
      "\u001b[1;32m~\\AppData\\Local\\Temp/ipykernel_24256/693516578.py\u001b[0m in \u001b[0;36m<module>\u001b[1;34m\u001b[0m\n\u001b[0;32m      1\u001b[0m \u001b[1;31m#3번문제\u001b[0m\u001b[1;33m\u001b[0m\u001b[1;33m\u001b[0m\u001b[0m\n\u001b[0;32m      2\u001b[0m \u001b[1;33m\u001b[0m\u001b[0m\n\u001b[1;32m----> 3\u001b[1;33m \u001b[0mdan_start\u001b[0m\u001b[1;33m=\u001b[0m \u001b[0mint\u001b[0m\u001b[1;33m(\u001b[0m\u001b[0minput\u001b[0m\u001b[1;33m(\u001b[0m\u001b[1;34m\"구구단이 시작하는 단을 입력하세요: \"\u001b[0m\u001b[1;33m)\u001b[0m\u001b[1;33m)\u001b[0m\u001b[1;33m\u001b[0m\u001b[1;33m\u001b[0m\u001b[0m\n\u001b[0m\u001b[0;32m      4\u001b[0m \u001b[1;32mif\u001b[0m \u001b[0mdan_start\u001b[0m \u001b[1;33m>\u001b[0m \u001b[1;36m10\u001b[0m \u001b[1;32mor\u001b[0m \u001b[0mdan_start\u001b[0m \u001b[1;33m<=\u001b[0m \u001b[1;36m0\u001b[0m\u001b[1;33m:\u001b[0m\u001b[1;33m\u001b[0m\u001b[1;33m\u001b[0m\u001b[0m\n\u001b[0;32m      5\u001b[0m     \u001b[0mprint\u001b[0m\u001b[1;33m(\u001b[0m\u001b[1;34m'시작하는 단이 1단보다 작거나 10단 보다 큽니다.'\u001b[0m\u001b[1;33m)\u001b[0m\u001b[1;33m\u001b[0m\u001b[1;33m\u001b[0m\u001b[0m\n",
      "\u001b[1;31mValueError\u001b[0m: invalid literal for int() with base 10: ''"
     ]
    }
   ],
   "source": [
    "#3번문제\n",
    "\n",
    "dan_start= int(input(\"구구단이 시작하는 단을 입력하세요: \"))\n",
    "if dan_start > 10 or dan_start <= 0:\n",
    "    print('시작하는 단이 1단보다 작거나 10단 보다 큽니다.')\n",
    "    print()\n",
    "    dan_start = False\n",
    "    \n",
    "dan_end = int(input(\"구구단이 끝나는 단을 입력하세요: \"))\n",
    "if dan_end > 10 or dan_end <= 0:\n",
    "    print('끝나는 단이 1단보다 작거나 10단 보다 큽니다.')\n",
    "    print()\n",
    "    dan_end = False\n",
    "\n",
    "if dan_start > dan_end:\n",
    "    print('시작하는 단이 끝나는 단보다 큽니다.')\n",
    "    \n",
    "    \n",
    "if dan_start <= dan_end and dan_start != False and dan_end != False:\n",
    "    for i in range(dan_start, dan_end+1):\n",
    "        print('====%s단====' %(i))\n",
    "        for j in range(1, 10):\n",
    "            print(f'{i} X {j} = {i*j}')"
   ]
  },
  {
   "cell_type": "code",
   "execution_count": 19,
   "id": "c9844e33",
   "metadata": {},
   "outputs": [
    {
     "name": "stdout",
     "output_type": "stream",
     "text": [
      "1. n단 출력    2. 1-n단 출력    3. n-m단 출력    4. 프로그램 종료\n",
      "원하는 프로그램 번호를 입력하세요: \n"
     ]
    },
    {
     "ename": "ValueError",
     "evalue": "invalid literal for int() with base 10: ''",
     "output_type": "error",
     "traceback": [
      "\u001b[1;31m---------------------------------------------------------------------------\u001b[0m",
      "\u001b[1;31mValueError\u001b[0m                                Traceback (most recent call last)",
      "\u001b[1;32m~\\AppData\\Local\\Temp/ipykernel_24256/3728669727.py\u001b[0m in \u001b[0;36m<module>\u001b[1;34m\u001b[0m\n\u001b[0;32m      4\u001b[0m \u001b[1;32mwhile\u001b[0m \u001b[0mgugu_program\u001b[0m \u001b[1;33m==\u001b[0m \u001b[1;32mTrue\u001b[0m\u001b[1;33m:\u001b[0m\u001b[1;33m\u001b[0m\u001b[1;33m\u001b[0m\u001b[0m\n\u001b[0;32m      5\u001b[0m     \u001b[0mprint\u001b[0m\u001b[1;33m(\u001b[0m\u001b[1;34m\"1. n단 출력    2. 1-n단 출력    3. n-m단 출력    4. 프로그램 종료\"\u001b[0m\u001b[1;33m)\u001b[0m\u001b[1;33m\u001b[0m\u001b[1;33m\u001b[0m\u001b[0m\n\u001b[1;32m----> 6\u001b[1;33m     \u001b[0mmenu_num\u001b[0m\u001b[1;33m=\u001b[0m\u001b[0mint\u001b[0m\u001b[1;33m(\u001b[0m\u001b[0minput\u001b[0m\u001b[1;33m(\u001b[0m\u001b[1;34m\"원하는 프로그램 번호를 입력하세요: \"\u001b[0m\u001b[1;33m)\u001b[0m\u001b[1;33m)\u001b[0m\u001b[1;33m\u001b[0m\u001b[1;33m\u001b[0m\u001b[0m\n\u001b[0m\u001b[0;32m      7\u001b[0m     \u001b[0mprint\u001b[0m\u001b[1;33m(\u001b[0m\u001b[1;33m)\u001b[0m\u001b[1;33m\u001b[0m\u001b[1;33m\u001b[0m\u001b[0m\n\u001b[0;32m      8\u001b[0m     \u001b[1;32mif\u001b[0m \u001b[0mmenu_num\u001b[0m \u001b[1;33m<\u001b[0m \u001b[1;36m1\u001b[0m \u001b[1;32mor\u001b[0m \u001b[0mmenu_num\u001b[0m \u001b[1;33m>\u001b[0m\u001b[1;36m4\u001b[0m\u001b[1;33m:\u001b[0m\u001b[1;33m\u001b[0m\u001b[1;33m\u001b[0m\u001b[0m\n",
      "\u001b[1;31mValueError\u001b[0m: invalid literal for int() with base 10: ''"
     ]
    }
   ],
   "source": [
    "#구구단 프로그램\n",
    "\n",
    "gugu_program = True\n",
    "while gugu_program == True:\n",
    "    print(\"1. n단 출력    2. 1-n단 출력    3. n-m단 출력    4. 프로그램 종료\")\n",
    "    menu_num=int(input(\"원하는 프로그램 번호를 입력하세요: \"))\n",
    "    print()\n",
    "    if menu_num < 1 or menu_num >4:\n",
    "        print(\"프로그램에 없는 값을 입력했습니다.\")\n",
    "        print()\n",
    "\n",
    "    if menu_num == 1:\n",
    "        print('1. n단 출력을 실행했습니다.')\n",
    "        n = int(input(\"출력할 단을 입력하세요: \"))\n",
    "        for i in range(1,10):\n",
    "            print('%d X %d = %d' %(n, i, n*i))\n",
    "        print()\n",
    "        \n",
    "    if menu_num == 2:\n",
    "        print('2. 1-단 출력을 실행했습니다.')\n",
    "        n = int(input(\"출력할 단을 입력하세요: \"))\n",
    "        for i in range(1,n+1):\n",
    "                if i >= 10:\n",
    "                    print()\n",
    "                    print('숫자가 \\'10단\\'을 넘습니다.')\n",
    "                    break\n",
    "                print('====%s단====' %(i))\n",
    "                for j in range(1, 10):\n",
    "                    print('%d X %d = %d' %(i, j, i*j))\n",
    "        print()\n",
    "    if menu_num == 3:\n",
    "        dan_start= int(input(\"구구단이 시작하는 단을 입력하세요: \"))\n",
    "        if dan_start > 10 or dan_start <= 0:\n",
    "            print('시작하는 단이 1단보다 작거나 10단 보다 큽니다.')\n",
    "            print()\n",
    "            dan_start = False\n",
    "\n",
    "        dan_end = int(input(\"구구단이 끝나는 단을 입력하세요: \"))\n",
    "        if dan_end > 10 or dan_end <= 0:\n",
    "            print('끝나는 단이 1단보다 작거나 10단 보다 큽니다.')\n",
    "            print()\n",
    "            dan_end = False\n",
    "\n",
    "        if dan_start > dan_end:\n",
    "            print('시작하는 단이 끝나는 단보다 큽니다.')\n",
    "\n",
    "\n",
    "        if dan_start <= dan_end and dan_start != False and dan_end != False:\n",
    "            for i in range(dan_start, dan_end+1):\n",
    "                print('====%s단====' %(i))\n",
    "                for j in range(1, 10):\n",
    "                    print(f'{i} X {j} = {i*j}')\n",
    "        print()\n",
    "    if menu_num == 4:\n",
    "        print('프로그램을 종료합니다.')\n",
    "        gugu_program = False\n",
    "    \n",
    "        \n"
   ]
  },
  {
   "cell_type": "markdown",
   "id": "030ff449",
   "metadata": {},
   "source": [
    "### NLTK corpus"
   ]
  },
  {
   "cell_type": "code",
   "execution_count": 20,
   "id": "d283414a",
   "metadata": {},
   "outputs": [],
   "source": [
    "# text1 - 9\n",
    "# nltk import"
   ]
  },
  {
   "cell_type": "code",
   "execution_count": 21,
   "id": "ee0e59a6",
   "metadata": {},
   "outputs": [
    {
     "name": "stdout",
     "output_type": "stream",
     "text": [
      "*** Introductory Examples for the NLTK Book ***\n",
      "Loading text1, ..., text9 and sent1, ..., sent9\n",
      "Type the name of the text or sentence to view it.\n",
      "Type: 'texts()' or 'sents()' to list the materials.\n",
      "text1: Moby Dick by Herman Melville 1851\n",
      "text2: Sense and Sensibility by Jane Austen 1811\n",
      "text3: The Book of Genesis\n",
      "text4: Inaugural Address Corpus\n",
      "text5: Chat Corpus\n",
      "text6: Monty Python and the Holy Grail\n",
      "text7: Wall Street Journal\n",
      "text8: Personals Corpus\n",
      "text9: The Man Who Was Thursday by G . K . Chesterton 1908\n"
     ]
    },
    {
     "data": {
      "text/plain": [
       "True"
      ]
     },
     "execution_count": 21,
     "metadata": {},
     "output_type": "execute_result"
    }
   ],
   "source": [
    "import nltk\n",
    "from nltk.book import *\n",
    "nltk.download('book', quiet=True)"
   ]
  },
  {
   "cell_type": "markdown",
   "id": "8b567a08",
   "metadata": {},
   "source": [
    "## text 1 ~9 가져오기(리스트에 전부 쓰는 방법X)\n",
    "- text1(기능이 포함되어 있는 변수) vs.'text1'(str)\n",
    "- text1 - 9를 string으로 가져오기\n",
    "- string에서 기능이 있는 것(fx)으로 바꿔줘야 함\n",
    "    - getatrribute(library, 'string_name')"
   ]
  },
  {
   "cell_type": "code",
   "execution_count": 22,
   "id": "be3a0257",
   "metadata": {},
   "outputs": [
    {
     "data": {
      "text/plain": [
       "['text1',\n",
       " 'text2',\n",
       " 'text3',\n",
       " 'text4',\n",
       " 'text5',\n",
       " 'text6',\n",
       " 'text7',\n",
       " 'text8',\n",
       " 'text9']"
      ]
     },
     "execution_count": 22,
     "metadata": {},
     "output_type": "execute_result"
    }
   ],
   "source": [
    "#1. text 1~9를 str으로 가져오는 작업\n",
    "texts = [f'text{i}' for i in range(1, 10)]\n",
    "texts"
   ]
  },
  {
   "cell_type": "code",
   "execution_count": 23,
   "id": "218c4b8e",
   "metadata": {},
   "outputs": [
    {
     "data": {
      "text/plain": [
       "[<Text: Moby Dick by Herman Melville 1851>,\n",
       " <Text: Sense and Sensibility by Jane Austen 1811>,\n",
       " <Text: The Book of Genesis>,\n",
       " <Text: Inaugural Address Corpus>,\n",
       " <Text: Chat Corpus>,\n",
       " <Text: Monty Python and the Holy Grail>,\n",
       " <Text: Wall Street Journal>,\n",
       " <Text: Personals Corpus>,\n",
       " <Text: The Man Who Was Thursday by G . K . Chesterton 1908>]"
      ]
     },
     "execution_count": 23,
     "metadata": {},
     "output_type": "execute_result"
    }
   ],
   "source": [
    "# 2. str => 기능을 가진 것으로 바꿔주기\n",
    "texts = [getattr(nltk.book, f'text{i}') for i in range(1, 10)]\n",
    "texts"
   ]
  },
  {
   "cell_type": "code",
   "execution_count": 24,
   "id": "6d035dbb",
   "metadata": {},
   "outputs": [
    {
     "data": {
      "text/plain": [
       "<Text: Monty Python and the Holy Grail>"
      ]
     },
     "execution_count": 24,
     "metadata": {},
     "output_type": "execute_result"
    }
   ],
   "source": [
    "texts[5] # text6"
   ]
  },
  {
   "cell_type": "markdown",
   "id": "d03a3384",
   "metadata": {},
   "source": [
    "### NLTK corpus\n",
    "- 코퍼스 + 테마\n",
    "- 소설뿐만 아니라 다양\n",
    "- import하는 방식은 동일\n",
    "- 종류\n",
    "    - brown\n",
    "    - gutenberg: 저작권 만료된 소설을 모아놓은 코퍼스\n",
    "    - inaugural\n",
    "- methods (str으로 반환)\n",
    "    - words(fileid): nltk의 tokens와 같은 기능\n",
    "    - sents(fileid)\n",
    "    - raw(fileid)\n",
    "    - fileids()"
   ]
  },
  {
   "cell_type": "code",
   "execution_count": 25,
   "id": "ba918f35",
   "metadata": {},
   "outputs": [
    {
     "name": "stderr",
     "output_type": "stream",
     "text": [
      "[nltk_data] Downloading package brown to\n",
      "[nltk_data]     C:\\Users\\User\\AppData\\Roaming\\nltk_data...\n",
      "[nltk_data]   Package brown is already up-to-date!\n",
      "[nltk_data] Downloading package gutenberg to\n",
      "[nltk_data]     C:\\Users\\User\\AppData\\Roaming\\nltk_data...\n",
      "[nltk_data]   Package gutenberg is already up-to-date!\n",
      "[nltk_data] Downloading package inaugural to\n",
      "[nltk_data]     C:\\Users\\User\\AppData\\Roaming\\nltk_data...\n",
      "[nltk_data]   Package inaugural is already up-to-date!\n"
     ]
    },
    {
     "data": {
      "text/plain": [
       "True"
      ]
     },
     "execution_count": 25,
     "metadata": {},
     "output_type": "execute_result"
    }
   ],
   "source": [
    "from nltk.corpus import gutenberg\n",
    "nltk.download(['brown', 'gutenberg', 'inaugural'])"
   ]
  },
  {
   "cell_type": "code",
   "execution_count": 26,
   "id": "a23317c5",
   "metadata": {},
   "outputs": [],
   "source": [
    "# gutenberg를 import하는 다른 방식\n",
    "gutenberg = nltk.corpus.gutenberg"
   ]
  },
  {
   "cell_type": "code",
   "execution_count": 27,
   "id": "200eed9f",
   "metadata": {},
   "outputs": [
    {
     "data": {
      "text/plain": [
       "['austen-emma.txt',\n",
       " 'austen-persuasion.txt',\n",
       " 'austen-sense.txt',\n",
       " 'bible-kjv.txt',\n",
       " 'blake-poems.txt',\n",
       " 'bryant-stories.txt',\n",
       " 'burgess-busterbrown.txt',\n",
       " 'carroll-alice.txt',\n",
       " 'chesterton-ball.txt',\n",
       " 'chesterton-brown.txt',\n",
       " 'chesterton-thursday.txt',\n",
       " 'edgeworth-parents.txt',\n",
       " 'melville-moby_dick.txt',\n",
       " 'milton-paradise.txt',\n",
       " 'shakespeare-caesar.txt',\n",
       " 'shakespeare-hamlet.txt',\n",
       " 'shakespeare-macbeth.txt',\n",
       " 'whitman-leaves.txt']"
      ]
     },
     "execution_count": 27,
     "metadata": {},
     "output_type": "execute_result"
    }
   ],
   "source": [
    "gutenberg.fileids()"
   ]
  },
  {
   "cell_type": "code",
   "execution_count": 28,
   "id": "3f65f6d5",
   "metadata": {},
   "outputs": [
    {
     "data": {
      "text/plain": [
       "['[', 'Alice', \"'\", 's', 'Adventures', 'in', ...]"
      ]
     },
     "execution_count": 28,
     "metadata": {},
     "output_type": "execute_result"
    }
   ],
   "source": [
    "# 1개만 가져오고 싶을 때\n",
    "gutenberg.words(fileids='carroll-alice.txt')\n",
    "\n",
    "# 여러 개를 가져오고 싶으면 list 사용\n",
    "gutenberg.words(fileids=['carroll-alice.txt', 'austen-emma.txt'])"
   ]
  },
  {
   "cell_type": "markdown",
   "id": "938aee37",
   "metadata": {},
   "source": [
    "## Quiz\n",
    "- 각 파일마다 word, character, sents 개수 출력하기"
   ]
  },
  {
   "cell_type": "code",
   "execution_count": 29,
   "id": "e39ba6f4",
   "metadata": {},
   "outputs": [
    {
     "name": "stdout",
     "output_type": "stream",
     "text": [
      "austen-emma | 글자 수=887071개, 단어 수=192427개, 문장 수=7752개\n",
      "austen-persuasion | 글자 수=466292개, 단어 수=98171개, 문장 수=3747개\n",
      "austen-sense | 글자 수=673022개, 단어 수=141576개, 문장 수=4999개\n",
      "bible-kjv | 글자 수=4332554개, 단어 수=1010654개, 문장 수=30103개\n",
      "blake-poems | 글자 수=38153개, 단어 수=8354개, 문장 수=438개\n",
      "bryant-stories | 글자 수=249439개, 단어 수=55563개, 문장 수=2863개\n",
      "burgess-busterbrown | 글자 수=84663개, 단어 수=18963개, 문장 수=1054개\n",
      "carroll-alice | 글자 수=144395개, 단어 수=34110개, 문장 수=1703개\n",
      "chesterton-ball | 글자 수=457450개, 단어 수=96996개, 문장 수=4779개\n",
      "chesterton-brown | 글자 수=406629개, 단어 수=86063개, 문장 수=3806개\n",
      "chesterton-thursday | 글자 수=320525개, 단어 수=69213개, 문장 수=3742개\n",
      "edgeworth-parents | 글자 수=935158개, 단어 수=210663개, 문장 수=10230개\n",
      "melville-moby_dick | 글자 수=1242990개, 단어 수=260819개, 문장 수=10059개\n",
      "milton-paradise | 글자 수=468220개, 단어 수=96825개, 문장 수=1851개\n",
      "shakespeare-caesar | 글자 수=112310개, 단어 수=25833개, 문장 수=2163개\n",
      "shakespeare-hamlet | 글자 수=162881개, 단어 수=37360개, 문장 수=3106개\n",
      "shakespeare-macbeth | 글자 수=100351개, 단어 수=23140개, 문장 수=1907개\n",
      "whitman-leaves | 글자 수=711215개, 단어 수=154883개, 문장 수=4250개\n"
     ]
    }
   ],
   "source": [
    "for txt in gutenberg.fileids():\n",
    "    char_num = len(gutenberg.raw(txt))\n",
    "    word_num = len(gutenberg.words(txt))\n",
    "    sent_num = len(gutenberg.sents(txt))\n",
    "    print(f'{txt[:-4:]} | 글자 수={char_num}개, 단어 수={word_num}개, 문장 수={sent_num}개')"
   ]
  },
  {
   "cell_type": "markdown",
   "id": "0690f569",
   "metadata": {},
   "source": [
    "### Gutenberg\n",
    "\n",
    "- 1. shakespeare-caesar의 중복된 단어를 거르고 각 단어의 길이를 출력하시오.\n",
    "- 2. chesterton-thursday에서 길이가 4자 이하인 알파벳 중 ie를 포함하는 단어를 소문자로 출력하고, 개수를 세어라.\n",
    "- 3. bryant-stories에서 ch로 끝나는 단어를 출력하는데, 중복 없이, 첫글자(모두 소문자)와 끝 ch만 남기고 가운데 글자들은 모두 -로 가려라. 예:much -> m-ch"
   ]
  },
  {
   "cell_type": "code",
   "execution_count": 74,
   "id": "2d60f91a",
   "metadata": {},
   "outputs": [
    {
     "name": "stdout",
     "output_type": "stream",
     "text": [
      "[7, 6, 7, 1, 3, 11, 3, 6, 3, 6]\n"
     ]
    }
   ],
   "source": [
    "#1번 문제 (10개만 출력)\n",
    "caesar_word = [word.lower() for word in gutenberg.words(fileids='shakespeare-caesar.txt')]\n",
    "caesar_word_length = [len(word) for word in set(caesar_word)]\n",
    "print(caesar_word_length[:10])"
   ]
  },
  {
   "cell_type": "code",
   "execution_count": 31,
   "id": "489c57e4",
   "metadata": {},
   "outputs": [
    {
     "name": "stdout",
     "output_type": "stream",
     "text": [
      "{'pier', 'tie', 'pie', 'died', 'lie', 'erie', 'die', 'view', 'lies', 'foie', 'tied', 'dies'}\n",
      "12\n"
     ]
    }
   ],
   "source": [
    "#2번 문제\n",
    "\n",
    "thursday_word = set([word.lower() for word in gutenberg.words(fileids='chesterton-thursday.txt') if len(word) <= 4 and  word.isalpha() and 'ie' in word])\n",
    "print(thursday_word)\n",
    "print(len(thursday_word))"
   ]
  },
  {
   "cell_type": "code",
   "execution_count": 32,
   "id": "9c5ce6e2",
   "metadata": {},
   "outputs": [
    {
     "name": "stdout",
     "output_type": "stream",
     "text": [
      "e-ch\n",
      "c---ch\n",
      "s----ch\n",
      "b--ch\n",
      "t--ch\n",
      "t---ch\n",
      "s----ch\n",
      "c--ch\n",
      "p--ch\n",
      "b--ch\n",
      "c--ch\n",
      "r-ch\n",
      "f--ch\n",
      "p--ch\n",
      "s-ch\n",
      "s----ch\n",
      "b---ch\n",
      "w--ch\n",
      "t--ch\n",
      "p--ch\n",
      "m-ch\n",
      "p--ch\n",
      "s----ch\n",
      "l--ch\n",
      "f---ch\n",
      "a-ch\n",
      "w--ch\n",
      "s---ch\n",
      "r--ch\n",
      "p--ch\n",
      "b--ch\n",
      "s---ch\n",
      "32\n"
     ]
    }
   ],
   "source": [
    "#3번 문제\n",
    "\n",
    "stories_word = set([word.lower() for word in (gutenberg.words(fileids='bryant-stories.txt')) if word.endswith('ch')])\n",
    "for word in stories_word:\n",
    "    print(word.replace(word[1:-2], '-' * len(word[1:-2])))\n",
    "print(len(stories_word))"
   ]
  },
  {
   "cell_type": "markdown",
   "id": "d70956ae",
   "metadata": {},
   "source": [
    "#### Brown\n",
    "- categories()"
   ]
  },
  {
   "cell_type": "code",
   "execution_count": 33,
   "id": "a69676cc",
   "metadata": {},
   "outputs": [],
   "source": [
    "brown = nltk.corpus.brown"
   ]
  },
  {
   "cell_type": "code",
   "execution_count": 88,
   "id": "d9533407",
   "metadata": {},
   "outputs": [
    {
     "data": {
      "text/plain": [
       "['adventure',\n",
       " 'belles_lettres',\n",
       " 'editorial',\n",
       " 'fiction',\n",
       " 'government',\n",
       " 'hobbies',\n",
       " 'humor',\n",
       " 'learned',\n",
       " 'lore',\n",
       " 'mystery',\n",
       " 'news',\n",
       " 'religion',\n",
       " 'reviews',\n",
       " 'romance',\n",
       " 'science_fiction']"
      ]
     },
     "execution_count": 88,
     "metadata": {},
     "output_type": "execute_result"
    }
   ],
   "source": [
    "brown.categories()"
   ]
  },
  {
   "cell_type": "code",
   "execution_count": 89,
   "id": "11ad1f59",
   "metadata": {},
   "outputs": [],
   "source": [
    "# gutenberg는 받는 인자가 fileid 밖에 없어서, txt를 그냥 넣어주는 것이 가능\n",
    "# brown은 categories='adventure'와 같이 꼭 categories를 써줘야 함.\n",
    "# brown에는 categories 외에도 fileid도 넣어줄 수 있기 때문이다.\n",
    "\n",
    "fdist = nltk.FreqDist([word.lower() for word in brown.words(categories='adventure')])"
   ]
  },
  {
   "cell_type": "code",
   "execution_count": 90,
   "id": "fccce2c0",
   "metadata": {},
   "outputs": [
    {
     "data": {
      "text/plain": [
       "83"
      ]
     },
     "execution_count": 90,
     "metadata": {},
     "output_type": "execute_result"
    }
   ],
   "source": [
    "fdist['men']"
   ]
  },
  {
   "cell_type": "code",
   "execution_count": 92,
   "id": "f00a6a75",
   "metadata": {},
   "outputs": [
    {
     "name": "stdout",
     "output_type": "stream",
     "text": [
      "can 48\n",
      "could 154\n",
      "will 51\n",
      "would 194\n",
      "may 7\n",
      "might 59\n"
     ]
    }
   ],
   "source": [
    "# 조동사 modal verbs\n",
    "modals = ['can', 'could', 'will', 'would', 'may', 'might']\n",
    "\n",
    "for verb in modals:\n",
    "    print(verb, fdist[verb])"
   ]
  },
  {
   "cell_type": "markdown",
   "id": "088eb3ab",
   "metadata": {},
   "source": [
    "## conditional frequency distribution\n",
    "\n",
    "- 조건에 따른 fdist\n",
    "- brown에서 만든 class"
   ]
  },
  {
   "cell_type": "code",
   "execution_count": 77,
   "id": "ef11fad9",
   "metadata": {},
   "outputs": [],
   "source": [
    "cfd = nltk.ConditionalFreqDist(\n",
    "    # 각 장르에 따른 frequency distribution을 만든다.\n",
    "    (genre, word)\n",
    "    for genre in brown.categories()\n",
    "    for word in brown.words(categories=genre)\n",
    ")"
   ]
  },
  {
   "cell_type": "code",
   "execution_count": 78,
   "id": "4f585c93",
   "metadata": {},
   "outputs": [
    {
     "data": {
      "text/plain": [
       "FreqDist({',': 3899, '.': 3736, 'the': 2758, 'and': 1776, 'to': 1502, 'a': 1335, 'of': 1186, '``': 1045, \"''\": 1044, 'was': 993, ...})"
      ]
     },
     "execution_count": 78,
     "metadata": {},
     "output_type": "execute_result"
    }
   ],
   "source": [
    "# cfd에서 각 장르를 뽑을 수 있음\n",
    "cfd['romance']"
   ]
  },
  {
   "cell_type": "code",
   "execution_count": 79,
   "id": "bd5b84e9",
   "metadata": {},
   "outputs": [
    {
     "data": {
      "text/plain": [
       "[(',', 3899),\n",
       " ('.', 3736),\n",
       " ('the', 2758),\n",
       " ('and', 1776),\n",
       " ('to', 1502),\n",
       " ('a', 1335),\n",
       " ('of', 1186),\n",
       " ('``', 1045),\n",
       " (\"''\", 1044),\n",
       " ('was', 993)]"
      ]
     },
     "execution_count": 79,
     "metadata": {},
     "output_type": "execute_result"
    }
   ],
   "source": [
    "cfd['romance'].most_common(10)"
   ]
  },
  {
   "cell_type": "code",
   "execution_count": 80,
   "id": "b2ecda79",
   "metadata": {},
   "outputs": [
    {
     "data": {
      "text/plain": [
       "32"
      ]
     },
     "execution_count": 80,
     "metadata": {},
     "output_type": "execute_result"
    }
   ],
   "source": [
    "# romance에서 love가 몇 번 나왔나?\n",
    "cfd['romance']['love']"
   ]
  },
  {
   "cell_type": "code",
   "execution_count": 81,
   "id": "be757b9d",
   "metadata": {},
   "outputs": [
    {
     "data": {
      "text/plain": [
       "FreqDist({',': 3899, '.': 3736, 'the': 2758, 'and': 1776, 'to': 1502, 'a': 1335, 'of': 1186, '``': 1045, \"''\": 1044, 'was': 993, ...})"
      ]
     },
     "execution_count": 81,
     "metadata": {},
     "output_type": "execute_result"
    }
   ],
   "source": [
    "cfd['romance']"
   ]
  },
  {
   "cell_type": "code",
   "execution_count": null,
   "id": "3b6fa2bd",
   "metadata": {},
   "outputs": [],
   "source": []
  }
 ],
 "metadata": {
  "kernelspec": {
   "display_name": "Python 3 (ipykernel)",
   "language": "python",
   "name": "python3"
  },
  "language_info": {
   "codemirror_mode": {
    "name": "ipython",
    "version": 3
   },
   "file_extension": ".py",
   "mimetype": "text/x-python",
   "name": "python",
   "nbconvert_exporter": "python",
   "pygments_lexer": "ipython3",
   "version": "3.9.7"
  }
 },
 "nbformat": 4,
 "nbformat_minor": 5
}
