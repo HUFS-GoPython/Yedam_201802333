{
 "cells": [
  {
   "cell_type": "markdown",
   "id": "e3c55603",
   "metadata": {},
   "source": [
    "### 함수\n",
    "\n",
    "1. 정의\n",
    "2. 인수\n",
    "3. 호출 방식"
   ]
  },
  {
   "cell_type": "markdown",
   "id": "274f448f",
   "metadata": {},
   "source": [
    "## 1. 정의\n",
    "- 코드의 덩어리, 코드의 묶음\n",
    "- 간편한 재사용을 위해 사용, 한 줄로 재사용 가능(간편함)\n",
    "- 정의(define) 부분 + 호출(call) 부분\n",
    "    - 정의하기\n",
    "    def 함수이름(매개변수1, 2, 3, ...):\n",
    "        수행문1 (매개변수를 이용)\n",
    "        수행문2\n",
    "        ....\n",
    "        return 반환값\n",
    "   - 호출하기\n",
    "   함수이름(인수1, 2, 3, ...)\n",
    "- 2 * 2 = 4\n",
    "    1. 둘다 없는\n",
    "    2. 둘다 있는\n",
    "    3. 매개변수만 있는 -> 변수 할당할 수 없다.(반환값 X)\n",
    "    4. 반환값만 있는 (매개변수X)"
   ]
  },
  {
   "cell_type": "code",
   "execution_count": 1,
   "id": "35ff859b",
   "metadata": {},
   "outputs": [
    {
     "ename": "NameError",
     "evalue": "name 'x' is not defined",
     "output_type": "error",
     "traceback": [
      "\u001b[1;31m---------------------------------------------------------------------------\u001b[0m",
      "\u001b[1;31mNameError\u001b[0m                                 Traceback (most recent call last)",
      "\u001b[1;32m~\\AppData\\Local\\Temp/ipykernel_3656/3539952671.py\u001b[0m in \u001b[0;36m<module>\u001b[1;34m\u001b[0m\n\u001b[1;32m----> 1\u001b[1;33m \u001b[0my\u001b[0m \u001b[1;33m=\u001b[0m \u001b[0mx\u001b[0m \u001b[1;33m+\u001b[0m \u001b[1;36m1\u001b[0m \u001b[1;31m# x = 매개변수, y = 반환값\u001b[0m\u001b[1;33m\u001b[0m\u001b[1;33m\u001b[0m\u001b[0m\n\u001b[0m",
      "\u001b[1;31mNameError\u001b[0m: name 'x' is not defined"
     ]
    }
   ],
   "source": [
    "y = x + 1 # x = 매개변수, y = 반환값"
   ]
  },
  {
   "cell_type": "code",
   "execution_count": 7,
   "id": "63e91d45",
   "metadata": {},
   "outputs": [
    {
     "name": "stdout",
     "output_type": "stream",
     "text": [
      "quack\n"
     ]
    }
   ],
   "source": [
    "#1. \n",
    "# print는 가능하지만, 어떤 변수로 받아서 사용할 수 없다.\n",
    "def make_a_sound():\n",
    "    print('quack')\n",
    "    # return None\n",
    "make_a_sound()"
   ]
  },
  {
   "cell_type": "code",
   "execution_count": 3,
   "id": "e70d5edb",
   "metadata": {},
   "outputs": [
    {
     "data": {
      "text/plain": [
       "5"
      ]
     },
     "execution_count": 3,
     "metadata": {},
     "output_type": "execute_result"
    }
   ],
   "source": [
    "#2. \n",
    "def ex(x): # 둘다 있는 케이스\n",
    "    y = x +1\n",
    "    return y \n",
    "\n",
    "ex(4)"
   ]
  },
  {
   "cell_type": "code",
   "execution_count": 4,
   "id": "cec32039",
   "metadata": {},
   "outputs": [
    {
     "data": {
      "text/plain": [
       "5"
      ]
     },
     "execution_count": 4,
     "metadata": {},
     "output_type": "execute_result"
    }
   ],
   "source": [
    "# 간단한 경우에 이와 같이 바로 return\n",
    "\n",
    "def ex(x):\n",
    "    return x + 1\n",
    "\n",
    "ex(4)"
   ]
  },
  {
   "cell_type": "code",
   "execution_count": 5,
   "id": "7be7bb48",
   "metadata": {},
   "outputs": [
    {
     "name": "stdout",
     "output_type": "stream",
     "text": [
      "yay\n"
     ]
    }
   ],
   "source": [
    "#3. 매개변수만\n",
    "def make_a_sound(sound):\n",
    "    print(sound)\n",
    "    \n",
    "make_a_sound('yay')"
   ]
  },
  {
   "cell_type": "code",
   "execution_count": 6,
   "id": "c5a7c6e1",
   "metadata": {},
   "outputs": [
    {
     "name": "stdout",
     "output_type": "stream",
     "text": [
      "Splendid\n"
     ]
    }
   ],
   "source": [
    "#4. 반환값만\n",
    "def agree():\n",
    "    return True\n",
    "\n",
    "if agree():\n",
    "    print('Splendid')\n",
    "else:\n",
    "    print('unexpected!')"
   ]
  },
  {
   "cell_type": "markdown",
   "id": "ca436dc4",
   "metadata": {},
   "source": [
    "## 함수이름 짓기\n",
    "    - 소문자만 사용한다, 띄어쓰기는 언더바 사용\n",
    "        - splitWord => X\n",
    "        - split_word => O\n",
    "    - 동작과 관련되어 있기 때문에 \"동사+명사\"의 형태 주로 사용\n",
    "    -  i.e., 클래스는 주로 명사로 짓기 때문에, 함수는 명사로만 사용 X\n",
    "        - def word(): (X)\n",
    "    - 줄임말 쓰지 말 것, calc_xxxx() 와 같은 코더들이 주로쓰는 것은 사용 가능\n",
    "        - splt_word\n",
    "    "
   ]
  },
  {
   "cell_type": "markdown",
   "id": "566d04d2",
   "metadata": {},
   "source": [
    "## 2. 인수\n",
    "- 매개변수 vs. 인수\n",
    "    - 매개변수: 함수 내에서 유효한 변수\n",
    "    - 인수: 실제 매개변수에 대입되는 변수\n",
    "    - \"호출 시에 인수가 매개변수에 복제된다\" yay -> sound\n",
    "    \n",
    "- 위치 인수\n",
    "    - positional argument\n",
    "    - 매개변수를 값에 순서에 상응하게 복제함\n",
    "- 키워드 인수\n",
    "    - keyword argument\n",
    "    - 매개변수 키워드에 맞는 인수로 지정 => 위치 달라도 됨\n",
    "- 디폴트 인수\n",
    "    - default argument\n",
    "    - 매개변수를 정의할 때 값을 미리 지정해놓는 것\n",
    "    - 호출 시에 값이 입력되지 않으면 디폴트값을 사용한다.\n",
    "    - 디폴트값이 언디폴트값 앞에 위치할 수는 없다."
   ]
  },
  {
   "cell_type": "code",
   "execution_count": 7,
   "id": "984a7a41",
   "metadata": {},
   "outputs": [
    {
     "name": "stdout",
     "output_type": "stream",
     "text": [
      "yay\n"
     ]
    }
   ],
   "source": [
    "#3. \n",
    "def make_a_sound(sound): # sound = 매개변수, yay = 인수\n",
    "    print(sound)\n",
    "yay = 'yay'\n",
    "make_a_sound(yay)"
   ]
  },
  {
   "cell_type": "code",
   "execution_count": 8,
   "id": "7ed99251",
   "metadata": {},
   "outputs": [
    {
     "ename": "NameError",
     "evalue": "name 'sound' is not defined",
     "output_type": "error",
     "traceback": [
      "\u001b[1;31m---------------------------------------------------------------------------\u001b[0m",
      "\u001b[1;31mNameError\u001b[0m                                 Traceback (most recent call last)",
      "\u001b[1;32m~\\AppData\\Local\\Temp/ipykernel_6128/2828232891.py\u001b[0m in \u001b[0;36m<module>\u001b[1;34m\u001b[0m\n\u001b[1;32m----> 1\u001b[1;33m \u001b[0msound\u001b[0m \u001b[1;31m# 함수 밖에서 사용 불가\u001b[0m\u001b[1;33m\u001b[0m\u001b[1;33m\u001b[0m\u001b[0m\n\u001b[0m",
      "\u001b[1;31mNameError\u001b[0m: name 'sound' is not defined"
     ]
    }
   ],
   "source": [
    "sound # 함수 밖에서 사용 불가"
   ]
  },
  {
   "cell_type": "code",
   "execution_count": 9,
   "id": "36266f10",
   "metadata": {},
   "outputs": [
    {
     "data": {
      "text/plain": [
       "'yay'"
      ]
     },
     "execution_count": 9,
     "metadata": {},
     "output_type": "execute_result"
    }
   ],
   "source": [
    "# 그렇지만, yay는 유효하다\n",
    "\n",
    "yay = 'yay'\n",
    "yay "
   ]
  },
  {
   "cell_type": "code",
   "execution_count": 10,
   "id": "dd6d8855",
   "metadata": {},
   "outputs": [
    {
     "data": {
      "text/plain": [
       "'black'"
      ]
     },
     "execution_count": 10,
     "metadata": {},
     "output_type": "execute_result"
    }
   ],
   "source": [
    "def commentary(color):\n",
    "    if color == 'g':\n",
    "        return 'green'\n",
    "    else:\n",
    "        return 'black'\n",
    "\n",
    "color = 'white'\n",
    "commentary(color)"
   ]
  },
  {
   "cell_type": "code",
   "execution_count": 11,
   "id": "0dda4ffd",
   "metadata": {},
   "outputs": [
    {
     "name": "stdout",
     "output_type": "stream",
     "text": [
      "green\n",
      "black\n",
      "black\n"
     ]
    }
   ],
   "source": [
    "colors = ['g', 'b', 't']\n",
    "\n",
    "for color in colors:\n",
    "    print(commentary(color))"
   ]
  },
  {
   "cell_type": "code",
   "execution_count": 12,
   "id": "f847eb82",
   "metadata": {},
   "outputs": [
    {
     "data": {
      "text/plain": [
       "{'wine': 'a', 'entree': 'b', 'dessert': 'c'}"
      ]
     },
     "execution_count": 12,
     "metadata": {},
     "output_type": "execute_result"
    }
   ],
   "source": [
    "# 위치인수\n",
    "def menu(wine, entree, dessert):\n",
    "    return {'wine':wine, 'entree':entree, 'dessert':dessert}\n",
    "\n",
    "menu('a', 'b', 'c')"
   ]
  },
  {
   "cell_type": "code",
   "execution_count": 13,
   "id": "110ae760",
   "metadata": {},
   "outputs": [
    {
     "data": {
      "text/plain": [
       "{'wine': 'c', 'entree': 'a', 'dessert': 'b'}"
      ]
     },
     "execution_count": 13,
     "metadata": {},
     "output_type": "execute_result"
    }
   ],
   "source": [
    "# 키워드 인수\n",
    "menu(entree='a', dessert='b', wine = 'c')"
   ]
  },
  {
   "cell_type": "code",
   "execution_count": 14,
   "id": "bf4603ce",
   "metadata": {},
   "outputs": [
    {
     "data": {
      "text/plain": [
       "{'wine': 'rioja', 'entree': 'egg', 'dessert': 'strawberry'}"
      ]
     },
     "execution_count": 14,
     "metadata": {},
     "output_type": "execute_result"
    }
   ],
   "source": [
    "# 디폴트 인수\n",
    "def menu2(wine, entree, dessert='strawberry'):\n",
    "    return {'wine':wine, 'entree':entree, 'dessert':dessert}\n",
    "\n",
    "menu2('rioja', 'egg')"
   ]
  },
  {
   "cell_type": "code",
   "execution_count": 24,
   "id": "2914633f",
   "metadata": {},
   "outputs": [
    {
     "data": {
      "text/plain": [
       "{'wine': 'rioja', 'entree': 'egg', 'dessert': 'kiwi'}"
      ]
     },
     "execution_count": 24,
     "metadata": {},
     "output_type": "execute_result"
    }
   ],
   "source": [
    "menu2('rioja', 'egg', 'kiwi')"
   ]
  },
  {
   "cell_type": "markdown",
   "id": "35c7501d",
   "metadata": {},
   "source": [
    "## 3. 호출방식\n",
    "- 정의 부분은 호출 시 실행된다.\n",
    "- 메모리에 저장되어 있다가, 호출 시에 사용\n",
    "- 매개변수 vs. 인수\n",
    "    - 참조에 의한 호출(call by reference)\n",
    "    - \"매개변수 = 인수\" copy되기 때문에 나타나는 문제점\n",
    "        - 리스트처럼 가변 객체일 때 주소값을 공유하므로 값이 변함."
   ]
  },
  {
   "cell_type": "code",
   "execution_count": 15,
   "id": "42600573",
   "metadata": {},
   "outputs": [
    {
     "name": "stdout",
     "output_type": "stream",
     "text": [
      "2\n",
      "3\n",
      "1\n",
      "4\n"
     ]
    }
   ],
   "source": [
    "def multiply(x, y):\n",
    "    print('1')\n",
    "    return x * y\n",
    "\n",
    "print('2')\n",
    "i = 2\n",
    "j = 4\n",
    "\n",
    "print('3')\n",
    "multiply(i, j) #### i=2, j=4 -> x=i, y=j -> copy\n",
    "\n",
    "print('4')"
   ]
  },
  {
   "cell_type": "code",
   "execution_count": 17,
   "id": "6b567690",
   "metadata": {},
   "outputs": [
    {
     "name": "stdout",
     "output_type": "stream",
     "text": [
      "['a']\n",
      "['a', 'b']\n"
     ]
    }
   ],
   "source": [
    "def buggy(arg, result=[]):\n",
    "    result.append(arg)\n",
    "    print(result)\n",
    "    \n",
    "    \n",
    "a, b = 'a', 'b'\n",
    "buggy(a) # ['a']\n",
    "buggy(b) # 예상된 값: ['b'], 실제 값: ['a', 'b']"
   ]
  },
  {
   "cell_type": "code",
   "execution_count": 18,
   "id": "6818030d",
   "metadata": {},
   "outputs": [
    {
     "name": "stdout",
     "output_type": "stream",
     "text": [
      "['a']\n",
      "['b']\n"
     ]
    }
   ],
   "source": [
    "def buggy(arg, result=[]):\n",
    "    result = [] # 빈 객체를 설정 (reset이 되도록)\n",
    "    result.append(arg)\n",
    "    print(result)\n",
    "    \n",
    "    \n",
    "a, b = 'a', 'b'    \n",
    "buggy(a) # ['a']\n",
    "buggy(b) #['b']"
   ]
  },
  {
   "cell_type": "code",
   "execution_count": 19,
   "id": "a2113261",
   "metadata": {},
   "outputs": [
    {
     "name": "stdout",
     "output_type": "stream",
     "text": [
      "None\n"
     ]
    }
   ],
   "source": [
    "thing = None # None은 True도, False도 아니다\n",
    "\n",
    "if thing: # True\n",
    "    print('True')\n",
    "elif thing == False: # Flase\n",
    "    print('False')\n",
    "else:\n",
    "    print('None')"
   ]
  },
  {
   "cell_type": "code",
   "execution_count": 20,
   "id": "03e7e98a",
   "metadata": {},
   "outputs": [
    {
     "name": "stdout",
     "output_type": "stream",
     "text": [
      "['c', 'a']\n",
      "['c', 'a', 'b']\n"
     ]
    }
   ],
   "source": [
    "# 둘 다 조건식으로 포함하는 함수로 변경하기\n",
    "def nonbuggy(arg, result=None):\n",
    "    # 리스트 없으면 빈리스트 생성하고, 있으면 그거 써라.\n",
    "    if result is None: # == (value), is (id)\n",
    "        result = []\n",
    "\n",
    "    result.append(arg)\n",
    "    print(result)\n",
    "    \n",
    "# \"없는 값, 아무것도 없다\" None\n",
    "empty = ['c']\n",
    "nonbuggy('a' ,empty)\n",
    "nonbuggy('b', empty)"
   ]
  },
  {
   "cell_type": "code",
   "execution_count": 21,
   "id": "ffdfb7b1",
   "metadata": {},
   "outputs": [
    {
     "name": "stdout",
     "output_type": "stream",
     "text": [
      "london\n",
      "london == london?\n"
     ]
    }
   ],
   "source": [
    "def fx():\n",
    "    global city # 전역 변수\n",
    "    city = 'london' # 지역 변수(함수 내부에서만 유용)\n",
    "    print(city)\n",
    "\n",
    "city = 'paris'\n",
    "fx() # coty = london\n",
    "print(city, '== london?')"
   ]
  },
  {
   "cell_type": "code",
   "execution_count": 22,
   "id": "69d9ab95",
   "metadata": {},
   "outputs": [
    {
     "data": {
      "text/plain": [
       "'seoul'"
      ]
     },
     "execution_count": 22,
     "metadata": {},
     "output_type": "execute_result"
    }
   ],
   "source": [
    "city = 'seoul'\n",
    "city"
   ]
  },
  {
   "cell_type": "markdown",
   "id": "a6b51996",
   "metadata": {},
   "source": [
    "## doc string\n",
    "- 함수 설명\n",
    "- 매개변수 타입, 의미, 함수 기능\n",
    "- \"\"\"\n",
    "    독스트링\n",
    "  \"\"\""
   ]
  },
  {
   "cell_type": "code",
   "execution_count": 24,
   "id": "4b3eb2fb",
   "metadata": {},
   "outputs": [
    {
     "name": "stdout",
     "output_type": "stream",
     "text": [
      "['a']\n",
      "['b']\n"
     ]
    }
   ],
   "source": [
    "def buggy(arg):\n",
    "    \"\"\"\n",
    "    arg의 타입: str\n",
    "    꽃 이름을 받는다.\n",
    "    result의 타입은 list\n",
    "    이 함수는 꽃 이름을 리스트에 추가한다.\n",
    "    \"\"\"\n",
    "    result=[]\n",
    "    result.append(arg)\n",
    "    print(result)\n",
    "    \n",
    "    \n",
    "a, b = 'a', 'b'\n",
    "buggy(a) \n",
    "buggy(b) "
   ]
  },
  {
   "cell_type": "code",
   "execution_count": 25,
   "id": "2809beb0",
   "metadata": {},
   "outputs": [
    {
     "name": "stdout",
     "output_type": "stream",
     "text": [
      "Help on function buggy in module __main__:\n",
      "\n",
      "buggy(arg)\n",
      "    arg의 타입: str\n",
      "    꽃 이름을 받는다.\n",
      "    result의 타입은 list\n",
      "    이 함수는 꽃 이름을 리스트에 추가한다.\n",
      "\n"
     ]
    }
   ],
   "source": [
    "# 함수를 사용할 때는 당연히 doc string이 나오지 않으므로\n",
    "# doc string을 확인하는 방법\n",
    "# 이때 buggy 뒤에 ()는 쓰지 않는다.\n",
    "help(buggy)"
   ]
  },
  {
   "cell_type": "code",
   "execution_count": 26,
   "id": "a1a5c888",
   "metadata": {},
   "outputs": [
    {
     "data": {
      "text/plain": [
       "'\\n    arg의 타입: str\\n    꽃 이름을 받는다.\\n    result의 타입은 list\\n    이 함수는 꽃 이름을 리스트에 추가한다.\\n    '"
      ]
     },
     "execution_count": 26,
     "metadata": {},
     "output_type": "execute_result"
    }
   ],
   "source": [
    "# 또다른 방법 - 던더바(__) 사용\n",
    "buggy.__doc__"
   ]
  },
  {
   "cell_type": "markdown",
   "id": "fb43ab69",
   "metadata": {},
   "source": [
    "## Quiz.\n",
    "- 나이 -> 연도\n",
    "- 함수: 입력값=> 나이, 변환=>연도\n",
    "- 나이 = input 받기"
   ]
  },
  {
   "cell_type": "code",
   "execution_count": 30,
   "id": "a98604e7",
   "metadata": {},
   "outputs": [
    {
     "name": "stdout",
     "output_type": "stream",
     "text": [
      "나이를 입력하세요: 24\n",
      "태어난 연도: 1999\n"
     ]
    }
   ],
   "source": [
    "def age_to_year(age):\n",
    "    this_year = 2022 - age + 1\n",
    "    return this_year\n",
    "age = int(input(\"나이를 입력하세요: \"))\n",
    "\n",
    "print(f'태어난 연도: {age_to_year(age)}')"
   ]
  },
  {
   "cell_type": "markdown",
   "id": "7e52b90d",
   "metadata": {},
   "source": [
    "## 브라운 정제하기\n",
    "\n",
    "1. 문장 분절\n",
    "2. 단어 분절\n",
    "    3. 문장부호 제거\n",
    "    4. 하이픈, 's, 'nt, 'd....\n",
    "3. 위의 것을 함수로 만들어라"
   ]
  },
  {
   "cell_type": "code",
   "execution_count": 32,
   "id": "920f39eb",
   "metadata": {},
   "outputs": [
    {
     "name": "stderr",
     "output_type": "stream",
     "text": [
      "[nltk_data] Downloading package brown to\n",
      "[nltk_data]     C:\\Users\\User\\AppData\\Roaming\\nltk_data...\n",
      "[nltk_data]   Package brown is already up-to-date!\n"
     ]
    }
   ],
   "source": [
    "import string #punct\n",
    "import nltk\n",
    "\n",
    "nltk.download('brown')\n",
    "brown = nltk.corpus.brown\n",
    "romance = brown.raw(categories='romance')[:5000]"
   ]
  },
  {
   "cell_type": "markdown",
   "id": "cba2a2bb",
   "metadata": {},
   "source": [
    "## 문장 분절"
   ]
  },
  {
   "cell_type": "code",
   "execution_count": 33,
   "id": "4ba4c574",
   "metadata": {},
   "outputs": [
    {
     "data": {
      "text/plain": [
       "'They/ppss neither/cc liked/vbd nor/cc disliked/vbd the/at Old/jj-tl Man/nn-tl .'"
      ]
     },
     "execution_count": 33,
     "metadata": {},
     "output_type": "execute_result"
    }
   ],
   "source": [
    "# /. => 처리 가능함 -> ! 문장에서 제외\n",
    "# /. => !, ? 처리 가능\n",
    "# \\n\n",
    "\n",
    "\n",
    "sentences = [sent.strip() for sent in romance.split('/.')]\n",
    "sentences = [s for s in sentences if s != '!'] # ! 삭제\n",
    "sentences[0]"
   ]
  },
  {
   "cell_type": "markdown",
   "id": "940ce7b0",
   "metadata": {},
   "source": [
    "#### 단어 분절\n",
    "- sentences -> POS 제거, 단어 분절"
   ]
  },
  {
   "cell_type": "code",
   "execution_count": 34,
   "id": "7fc27b81",
   "metadata": {},
   "outputs": [],
   "source": [
    "# 자주쓰는 기호, 전체에서 쓰려면 대문자로 가져가기\n",
    "SLASH = '/'"
   ]
  },
  {
   "cell_type": "code",
   "execution_count": 36,
   "id": "6a08e5e4",
   "metadata": {},
   "outputs": [
    {
     "data": {
      "text/plain": [
       "['They', 'neither', 'liked', 'nor', 'disliked', 'the', 'Old', 'Man', '.']"
      ]
     },
     "execution_count": 36,
     "metadata": {},
     "output_type": "execute_result"
    }
   ],
   "source": [
    "example = sentences[0]\n",
    "[word[:word.find(SLASH)] if word[:word.find(SLASH)] else word for word in example.split()]"
   ]
  },
  {
   "cell_type": "code",
   "execution_count": 37,
   "id": "7433423a",
   "metadata": {},
   "outputs": [
    {
     "name": "stdout",
     "output_type": "stream",
     "text": [
      "[['They', 'neither', 'liked', 'nor', 'disliked', 'the', 'Old', 'Man', '.'], ['To', 'them', 'he', 'could', 'have', 'been', 'the', 'broken', 'bell', 'in', 'the', 'church', 'tower', 'which', 'rang', 'before', 'and', 'after', 'Mass', ',', 'and', 'at', 'noon', ',', 'and', 'at', 'six', 'each', 'evening', '--', 'its', 'tone', ',', 'repetitive', ',', 'monotonous', ',', 'never', 'breaking', 'the', 'boredom', 'of', 'the', 'streets', '.'], ['The', 'Old', 'Man', 'was', 'unimportant', '.'], ['Yet', 'if', 'he', 'were', 'not', 'there', ',', 'they', 'would', 'have', 'missed', 'him', ',', 'as', 'they', 'would', 'have', 'missed', 'the', 'sounds', 'of', 'bees', 'buzzing', 'against', 'the', 'screen', 'door', 'in', 'early', 'June', ';'], [';'], ['or', 'the', 'smell', 'of', 'thick', 'tomato', 'paste', '--', 'the', 'ripe', 'smell', 'that', 'was', 'both', 'sweet', 'and', 'sour', '--', 'rising', 'up', 'from', 'aluminum', 'trays', 'wrapped', 'in', 'fly-dotted', 'cheesecloth', '.'], ['Or', 'the', 'surging', 'whirling', 'sounds', 'of', 'bats', 'at', 'night', ',', 'when', 'their', 'black', 'bodies', 'dived', 'into', 'the', 'blackness', 'above', 'and', 'below', 'the', 'amber', 'street', 'lights', '.'], ['Or', 'the', 'bay', 'of', 'female', 'dogs', 'in', 'heat', '.'], ['They', 'never', 'called', 'him', 'by', 'name', ',', 'although', 'he', 'had', 'one', '.'], ['Filippo', 'Rossi', ',', \"that's\", 'what', 'he', 'was', 'called', 'in', 'the', 'old', 'country', ';']]\n"
     ]
    }
   ],
   "source": [
    "# 전체 문장에 적용하기\n",
    "\n",
    "sentences_tokens = [[word[:word.find(SLASH)] \\\n",
    "                     if word[:word.find(SLASH)] else word \\\n",
    "                     for word in example.split()] for example in sentences]\n",
    "\n",
    "print(sentences_tokens[:10])"
   ]
  },
  {
   "cell_type": "code",
   "execution_count": 38,
   "id": "da56af71",
   "metadata": {},
   "outputs": [
    {
     "name": "stdout",
     "output_type": "stream",
     "text": [
      "['!', '\"', '#', '$', '%', '&', \"'\", '(', ')', '*', '+', ',', '-', '.', '/', ':', ';', '<', '=', '>', '?', '@', '[', '\\\\', ']', '^', '_', '`', '{', '|', '}', '~']\n"
     ]
    }
   ],
   "source": [
    "# 리스트화 하기\n",
    "\n",
    "punct = list(string.punctuation)\n",
    "print(punct)"
   ]
  },
  {
   "cell_type": "code",
   "execution_count": 39,
   "id": "7d7ca0c4",
   "metadata": {},
   "outputs": [
    {
     "data": {
      "text/plain": [
       "['They', 'neither', 'liked', 'nor', 'disliked', 'the', 'Old', 'Man']"
      ]
     },
     "execution_count": 39,
     "metadata": {},
     "output_type": "execute_result"
    }
   ],
   "source": [
    "# punctuation 골라내는 방법\n",
    "# fly-dotted의 '-', didn't의 '\\'' 살리면서 골라내기\n",
    "# word[0].isalnum() 사용\n",
    "\n",
    "[[word for word in sent \n",
    "  if word[0].isalnum() and word not in punct] \n",
    " for sent in sentences_tokens][0]"
   ]
  },
  {
   "cell_type": "code",
   "execution_count": 40,
   "id": "c62fed1f",
   "metadata": {},
   "outputs": [
    {
     "name": "stdout",
     "output_type": "stream",
     "text": [
      "{'--', '``', \"''\"}\n",
      "['!', '\"', '#', '$', '%', '&', \"'\", '(', ')', '*', '+', ',', '-', '.', '/', ':', ';', '<', '=', '>', '?', '@', '[', '\\\\', ']', '^', '_', '`', '{', '|', '}', '~', '--', '``', \"''\"]\n"
     ]
    }
   ],
   "source": [
    "# punctuation에 없는 punctuation을 잡아서\n",
    "# my_punct로 저장한 뒤 punct에 extend하기\n",
    "\n",
    "my_punct = set([word \n",
    "                for sent in sentences_tokens \n",
    "                for word in sent \n",
    "                if (not word[0].isalnum()) and (word not in punct)])\n",
    "print(my_punct)\n",
    "\n",
    "punct.extend(list(my_punct))\n",
    "print(punct)"
   ]
  },
  {
   "cell_type": "markdown",
   "id": "515b6e31",
   "metadata": {},
   "source": [
    "### 하이픈 fur-piece\n",
    "- split한 뒤에 extend\n",
    "    - 'fur-piece'.split('-')"
   ]
  },
  {
   "cell_type": "markdown",
   "id": "3d009f6a",
   "metadata": {},
   "source": [
    "### apostrophe 's\n",
    "- split으로 X\n",
    "- index로 가져간 뒤에 extend\n",
    "    - word = 'she\\'s'\n",
    "    - index = word.find('\\'')\n",
    "    - word[:index], word[index:]"
   ]
  },
  {
   "cell_type": "markdown",
   "id": "98a5a44e",
   "metadata": {},
   "source": [
    "## Quiz.\n",
    "\n",
    "example = sentences[0]\n",
    "[word[:word.find(SLASH)] if word[:word.find(SLASH)] else word for word in example.split()]\n",
    "\n",
    "- 단어 분절하는 부분을 함수로 만들어보기\n",
    "- 어떤 문장이 들어왔을 때 품사 제거하고, punct제거하고, 토큰 리스트로 반환"
   ]
  },
  {
   "cell_type": "code",
   "execution_count": 41,
   "id": "7bd81e80",
   "metadata": {},
   "outputs": [
    {
     "name": "stdout",
     "output_type": "stream",
     "text": [
      "['Yet', 'if', 'he', 'were', 'not', 'there', 'they', 'would', 'have', 'missed', 'him', 'as', 'they', 'would', 'have', 'missed', 'the', 'sounds', 'of', 'bees', 'buzzing', 'against', 'the', 'screen', 'door', 'in', 'early', 'June']\n"
     ]
    }
   ],
   "source": [
    "def tokenize_word(sent):\n",
    "    token_list = [word[:word.find(SLASH)] \n",
    "                  for word in sent.split() \n",
    "                  if (word[0].isalnum()) and (word not in punct)]\n",
    "    return token_list\n",
    "\n",
    "print(tokenize_word(sentences[3]))"
   ]
  }
 ],
 "metadata": {
  "kernelspec": {
   "display_name": "Python 3 (ipykernel)",
   "language": "python",
   "name": "python3"
  },
  "language_info": {
   "codemirror_mode": {
    "name": "ipython",
    "version": 3
   },
   "file_extension": ".py",
   "mimetype": "text/x-python",
   "name": "python",
   "nbconvert_exporter": "python",
   "pygments_lexer": "ipython3",
   "version": "3.9.7"
  }
 },
 "nbformat": 4,
 "nbformat_minor": 5
}
