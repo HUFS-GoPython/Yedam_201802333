{
 "cells": [
  {
   "cell_type": "markdown",
   "id": "2dbbe1c0",
   "metadata": {},
   "source": [
    "## ch04_ex03\n",
    "\n",
    "## 중첩조건문 | nested conditional\n",
    "- if 블록 안에 또 if 블록이 만들어지는 경우\n",
    "    - 예: if ...\n",
    "            if ....\n",
    "                if ...\n",
    "    - 구분은 들여쓰기로 한다.\n",
    "    - 조건이 여러 개일 경우 사용한다.\n",
    "    - 지양, 더 예쁜 방법을 찾아본다."
   ]
  },
  {
   "cell_type": "code",
   "execution_count": 6,
   "id": "b24a356f",
   "metadata": {},
   "outputs": [
    {
     "name": "stdout",
     "output_type": "stream",
     "text": [
      "Block B\n"
     ]
    }
   ],
   "source": [
    "# 지양해야되는 코드\n",
    "x = 0\n",
    "y = 4\n",
    "\n",
    "if x == y:\n",
    "    print(\"Block A\")\n",
    "else:\n",
    "    if x < y :\n",
    "        print(\"Block B\")\n",
    "    else:\n",
    "        print(\"Block C\")"
   ]
  },
  {
   "cell_type": "code",
   "execution_count": 8,
   "id": "df6b11ba",
   "metadata": {},
   "outputs": [
    {
     "name": "stdout",
     "output_type": "stream",
     "text": [
      "Block B\n"
     ]
    }
   ],
   "source": [
    "# 좋은 코드\n",
    "if x == y:\n",
    "    print(\"Block A\")\n",
    "elif x < y:\n",
    "    print(\"Block B\")\n",
    "else:\n",
    "    print(\"Block C\")"
   ]
  },
  {
   "cell_type": "code",
   "execution_count": 9,
   "id": "58e71c37",
   "metadata": {},
   "outputs": [
    {
     "name": "stdout",
     "output_type": "stream",
     "text": [
      "Block D\n"
     ]
    }
   ],
   "source": [
    "# 0 < x < 10\n",
    "# 지양해야되는 코드\n",
    "if x > 0:\n",
    "    print(\"Block A\")\n",
    "    if x < 10:\n",
    "        print(\"Block B\")\n",
    "    else: \n",
    "        print(\"Block C\")\n",
    "else:\n",
    "    print(\"Block D\")"
   ]
  },
  {
   "cell_type": "code",
   "execution_count": 10,
   "id": "02791838",
   "metadata": {},
   "outputs": [
    {
     "name": "stdout",
     "output_type": "stream",
     "text": [
      "Block B\n",
      "Block B\n"
     ]
    }
   ],
   "source": [
    "# 좋은 코드\n",
    "#방법 1\n",
    "if x > 0 and x < 10: #논리연산자 사용하는 방법\n",
    "    print(\"Block A\")\n",
    "else:\n",
    "    print(\"Block B\")\n",
    "    \n",
    "#방법 2(파이썬만 가능)\n",
    "if 0 < x < 10:\n",
    "    print(\"Block A\")\n",
    "else:\n",
    "    print(\"Block B\")"
   ]
  },
  {
   "cell_type": "markdown",
   "id": "b8fa4200",
   "metadata": {},
   "source": [
    "### 논리연산자\n",
    "- 비교연산 조건을 여러 번 사용하는 경우\n",
    "    - x > 0, x < 10\n",
    "- and, or, not\n",
    "    - A and B: A 그리고 B, A, B 둘다 참일 때 True(&)\n",
    "    - A or B: A 혹은 B, 둘 중 하나만 참이면 True(|)\n",
    "    - not A: A 참이면 False, 거짓이면 True (~)"
   ]
  },
  {
   "cell_type": "markdown",
   "id": "22a71c42",
   "metadata": {},
   "source": [
    "### True/False\n",
    "- A = True\n",
    "- \"만약 A가 참이면, ...\""
   ]
  },
  {
   "cell_type": "code",
   "execution_count": 16,
   "id": "c181bb9d",
   "metadata": {},
   "outputs": [
    {
     "name": "stdout",
     "output_type": "stream",
     "text": [
      "True\n",
      "True\n"
     ]
    }
   ],
   "source": [
    "a = True\n",
    "\n",
    "if a == True: #잘못된 방법\n",
    "    print('True')\n",
    "if a: #옳은 방법\n",
    "    print('True')\n",
    "#  아무것도 안 쓰면 'a가 참일 때'라는 의미를 가짐"
   ]
  },
  {
   "cell_type": "markdown",
   "id": "6938ff11",
   "metadata": {},
   "source": [
    "### in\n",
    "- membership operator\n",
    "- 요소가 안에 포함되어 있는가 or 비슷한 조건문이 여럿일 때\n",
    "- A in B = A가 B에 포함되어 있는가"
   ]
  },
  {
   "cell_type": "code",
   "execution_count": 17,
   "id": "2a1627d1",
   "metadata": {},
   "outputs": [
    {
     "name": "stdout",
     "output_type": "stream",
     "text": [
      "자음\n"
     ]
    }
   ],
   "source": [
    "# ex1. 모음인지 아닌지 판단하라(a, e, i, o, u)\n",
    "letter = 'k'\n",
    "#if letter == 'a' or letter == 'e', .... ==> 지양해야 하는 방법\n",
    "if letter in ['a', 'e', 'i', 'o', 'u']:\n",
    "    print(\"모음\")\n",
    "else: print(\"자음\")"
   ]
  },
  {
   "cell_type": "code",
   "execution_count": 19,
   "id": "c78dacaa",
   "metadata": {},
   "outputs": [
    {
     "name": "stdout",
     "output_type": "stream",
     "text": [
      "yes\n"
     ]
    }
   ],
   "source": [
    "# 단어에 모음이 있냐 없냐\n",
    "word = 'apple'\n",
    "\n",
    "if ('a' or 'e' or 'i' or 'o' or 'u') in word:\n",
    "    print('yes')"
   ]
  },
  {
   "cell_type": "markdown",
   "id": "0ff814cb",
   "metadata": {},
   "source": [
    "### 코끼리연산자\n",
    "- walrus operator\n",
    "- :=\n",
    "- 할당 + 테스트 동시에 하는 기능"
   ]
  },
  {
   "cell_type": "code",
   "execution_count": 24,
   "id": "163787d6",
   "metadata": {},
   "outputs": [
    {
     "name": "stdout",
     "output_type": "stream",
     "text": [
      "blahblahblahblahblahblahblahblahblahblahblahblahblahblahblahblahblahblahblahblahblahblahblahblahblahblahblahblahblahblahblahblahblahblahblahblahblahblahblahblahblahblahblahblahblahblahblahblahblahblah\n"
     ]
    },
    {
     "data": {
      "text/plain": [
       "200"
      ]
     },
     "execution_count": 24,
     "metadata": {},
     "output_type": "execute_result"
    }
   ],
   "source": [
    "tweet_limit = 200\n",
    "\n",
    "#공백 없이 붙인다는 의미\n",
    "\n",
    "tweet_string = 'blah' * 50 # 4 * 50 = 200\n",
    "print(tweet_string)\n",
    "\n",
    "#tweet_string의 길이\n",
    "len(tweet_string)"
   ]
  },
  {
   "cell_type": "code",
   "execution_count": 25,
   "id": "9ca57cc5",
   "metadata": {},
   "outputs": [
    {
     "name": "stdout",
     "output_type": "stream",
     "text": [
      "불가능하다\n"
     ]
    }
   ],
   "source": [
    "# tweet_limit와 tweet_string의 차가 0보다 큰지 확인\n",
    "diff = tweet_limit - len(tweet_string)\n",
    "if diff > 0:\n",
    "    print(\"가능하다\")\n",
    "else: \n",
    "    print(\"불가능하다\")"
   ]
  },
  {
   "cell_type": "code",
   "execution_count": 26,
   "id": "9a80cae9",
   "metadata": {},
   "outputs": [
    {
     "name": "stdout",
     "output_type": "stream",
     "text": [
      "no\n"
     ]
    }
   ],
   "source": [
    "#코끼리 연산자 사용\n",
    "# 한 줄로 줄이기 가능 (할당 + 테스트)\n",
    "\n",
    "if diff := tweet_limit - len(tweet_string) > 0:\n",
    "        print('yes')\n",
    "else: print('no')"
   ]
  },
  {
   "cell_type": "markdown",
   "id": "2b8bae82",
   "metadata": {},
   "source": [
    "### 퀴즈\n",
    "- 윤년을 구해봅시다.\n",
    "    - 연도 입력받는다.\n",
    "    - 4로 나눠지면 윤년\n",
    "    - 100으로 나눠지면 안된다.\n",
    "    - 400으로 나눠지면 윤년\n",
    "- 출력: '{}년은 윤년입니다.'/'-아닙니다.'"
   ]
  },
  {
   "cell_type": "code",
   "execution_count": 29,
   "id": "ab6e51c5",
   "metadata": {},
   "outputs": [
    {
     "name": "stdout",
     "output_type": "stream",
     "text": [
      "연도를 입력하세요: 1999\n",
      "1999년은 윤년이 아닙니다.\n"
     ]
    }
   ],
   "source": [
    "year = int(input(\"연도를 입력하세요: \"))\n",
    "\n",
    "if (year % 4 == 0 and year % 100 != 0) or (year % 400 == 0):\n",
    "    print(f'{year}년은 윤년입니다.')\n",
    "else: \n",
    "    print(f'{year}년은 윤년이 아닙니다.')"
   ]
  },
  {
   "cell_type": "markdown",
   "id": "3c91a49b",
   "metadata": {},
   "source": [
    "# Ch05. 문자열, String\n",
    "\n",
    "## String | 문자열\n",
    "- 시스템에서 가장 작은 단위\n",
    "- 불변적인 성격을 가진다. immutable\n",
    "    - 예: jack -> jeck 으로 중간만 수정하는 것은 불가능\n",
    "    - 아예 다시 할당하는 것은 가능\n",
    "- ', \"으로 선언한다.\n",
    "    - 예: \"25.5\"\n",
    "    - ''', \"\"\"는 주석이다\n",
    "- 형변환은 str()\n",
    "\n",
    "### escape character | 이스케이프문자\n",
    "- 특수한 형태의 문자열. 눈에 보이는 대로 인식되지 않는 문자\n",
    "- \\ + ch\n",
    "- 예: \\n, \\t, \\b, \\', \\\", ...\n",
    "    - \\n 출력하고 싶다? -> \\\\n 혹은 r' ' 로 표현\n",
    "- 다른 스트링을 만드는 것이 아님. 출력의 문제인 것."
   ]
  },
  {
   "cell_type": "code",
   "execution_count": 66,
   "id": "59012503",
   "metadata": {
    "scrolled": true
   },
   "outputs": [
    {
     "name": "stdout",
     "output_type": "stream",
     "text": [
      "hello\n",
      "world\n"
     ]
    }
   ],
   "source": [
    "# \\n 사용\n",
    "sent = 'hello\\nworld'\n",
    "print(sent)"
   ]
  },
  {
   "cell_type": "code",
   "execution_count": 67,
   "id": "54a7a32c",
   "metadata": {},
   "outputs": [
    {
     "name": "stdout",
     "output_type": "stream",
     "text": [
      "hello\tworld\n"
     ]
    }
   ],
   "source": [
    "# \\t 사용\n",
    "sent = 'hello\\tworld'\n",
    "print(sent)"
   ]
  },
  {
   "cell_type": "code",
   "execution_count": 68,
   "id": "37dc1381",
   "metadata": {},
   "outputs": [
    {
     "name": "stdout",
     "output_type": "stream",
     "text": [
      "hello\bworld\n"
     ]
    }
   ],
   "source": [
    "# \\b 사용\n",
    "sent = 'hello\\bworld'\n",
    "print(sent)"
   ]
  },
  {
   "cell_type": "code",
   "execution_count": 69,
   "id": "29f7ff33",
   "metadata": {},
   "outputs": [
    {
     "name": "stdout",
     "output_type": "stream",
     "text": [
      "hello\\nwolrd\n"
     ]
    }
   ],
   "source": [
    "sent = 'hello\\\\nwolrd'\n",
    "print(sent)"
   ]
  },
  {
   "cell_type": "code",
   "execution_count": 70,
   "id": "49bbcc61",
   "metadata": {},
   "outputs": [
    {
     "name": "stdout",
     "output_type": "stream",
     "text": [
      "hello\\nworld\n"
     ]
    }
   ],
   "source": [
    "sent = r'hello\\nworld'\n",
    "print(sent)"
   ]
  },
  {
   "cell_type": "code",
   "execution_count": 71,
   "id": "1ba28542",
   "metadata": {},
   "outputs": [
    {
     "data": {
      "text/plain": [
       "\"I'm a student.\""
      ]
     },
     "execution_count": 71,
     "metadata": {},
     "output_type": "execute_result"
    }
   ],
   "source": [
    "'I\\'m a student.'"
   ]
  },
  {
   "cell_type": "code",
   "execution_count": 72,
   "id": "301ce1f1",
   "metadata": {},
   "outputs": [
    {
     "data": {
      "text/plain": [
       "'hello\\nworld'"
      ]
     },
     "execution_count": 72,
     "metadata": {},
     "output_type": "execute_result"
    }
   ],
   "source": [
    "# 그냥 사용하면, \\n이 보임\n",
    "\n",
    "sent = 'hello\\nworld'\n",
    "sent"
   ]
  },
  {
   "cell_type": "code",
   "execution_count": 73,
   "id": "ce566662",
   "metadata": {},
   "outputs": [
    {
     "name": "stdout",
     "output_type": "stream",
     "text": [
      "hello\n",
      "world\n"
     ]
    }
   ],
   "source": [
    "# 프린트하면 \\n이 안 보임, 줄 바꿈 수행\n",
    "\n",
    "print(sent)"
   ]
  },
  {
   "cell_type": "markdown",
   "id": "3be4e3de",
   "metadata": {},
   "source": [
    "### 연산\n",
    "- cncatenatation\n",
    "    - '' + '' => 공백 없이 결합하는 방법\n",
    "- 곱하기\n",
    "    - \"*5 => 복제"
   ]
  },
  {
   "cell_type": "code",
   "execution_count": 74,
   "id": "b9850bbf",
   "metadata": {},
   "outputs": [
    {
     "data": {
      "text/plain": [
       "'jackjack'"
      ]
     },
     "execution_count": 74,
     "metadata": {},
     "output_type": "execute_result"
    }
   ],
   "source": [
    "# 공백없이 출력\n",
    "\n",
    "name = 'jack'\n",
    "name + name"
   ]
  },
  {
   "cell_type": "code",
   "execution_count": 75,
   "id": "f9bfa89f",
   "metadata": {},
   "outputs": [
    {
     "data": {
      "text/plain": [
       "'jackjackjackjack'"
      ]
     },
     "execution_count": 75,
     "metadata": {},
     "output_type": "execute_result"
    }
   ],
   "source": [
    "# 공백없이 출력\n",
    "name * 4"
   ]
  },
  {
   "cell_type": "code",
   "execution_count": 76,
   "id": "5dd5e32c",
   "metadata": {},
   "outputs": [
    {
     "ename": "TypeError",
     "evalue": "'str' object does not support item assignment",
     "output_type": "error",
     "traceback": [
      "\u001b[1;31m---------------------------------------------------------------------------\u001b[0m",
      "\u001b[1;31mTypeError\u001b[0m                                 Traceback (most recent call last)",
      "\u001b[1;32m~\\AppData\\Local\\Temp/ipykernel_11824/1008261366.py\u001b[0m in \u001b[0;36m<module>\u001b[1;34m\u001b[0m\n\u001b[0;32m      1\u001b[0m \u001b[1;31m# immutable 하다는 것\u001b[0m\u001b[1;33m\u001b[0m\u001b[1;33m\u001b[0m\u001b[0m\n\u001b[0;32m      2\u001b[0m \u001b[1;31m# name의 첫 번째인 'a'를 'e'로 바꾸는 것은 불가능, Type Error\u001b[0m\u001b[1;33m\u001b[0m\u001b[1;33m\u001b[0m\u001b[0m\n\u001b[1;32m----> 3\u001b[1;33m \u001b[0mname\u001b[0m\u001b[1;33m[\u001b[0m\u001b[1;36m1\u001b[0m\u001b[1;33m]\u001b[0m \u001b[1;33m=\u001b[0m \u001b[1;34m'e'\u001b[0m\u001b[1;33m\u001b[0m\u001b[1;33m\u001b[0m\u001b[0m\n\u001b[0m",
      "\u001b[1;31mTypeError\u001b[0m: 'str' object does not support item assignment"
     ]
    }
   ],
   "source": [
    "# immutable 하다는 것\n",
    "# name의 첫 번째인 'a'를 'e'로 바꾸는 것은 불가능, Type Error\n",
    "name[1] = 'e'"
   ]
  },
  {
   "cell_type": "markdown",
   "id": "28a53e42",
   "metadata": {},
   "source": [
    "### 슬라이싱: 추출\n",
    "- 문자열의 일부분을 떼어내는 작업\n",
    "- 대괄호 사용, 그 안에 오프셋을 지정    \n",
    "- 오프셋은 상대적인 주소를 의미\n",
    "- 오프셋은 0부터 시작한다.\n",
    "    0123\n",
    "    jack\n",
    "    -4 -3 -2 -1\n",
    "- 음수도 가능함. -1부터 시작\n",
    "- 오프셋은 [시작:끝:스텝]으로 이루어져 있음. # step의 디폴트 값은 1\n",
    "- 시작은 포함, 끝은 포함하지 않음 (이상 - 미만)"
   ]
  },
  {
   "cell_type": "code",
   "execution_count": 77,
   "id": "3e6b6869",
   "metadata": {},
   "outputs": [
    {
     "data": {
      "text/plain": [
       "'j'"
      ]
     },
     "execution_count": 77,
     "metadata": {},
     "output_type": "execute_result"
    }
   ],
   "source": [
    "name = 'jack'\n",
    "name[0]"
   ]
  },
  {
   "cell_type": "code",
   "execution_count": 78,
   "id": "87d00ce2",
   "metadata": {},
   "outputs": [
    {
     "data": {
      "text/plain": [
       "'k'"
      ]
     },
     "execution_count": 78,
     "metadata": {},
     "output_type": "execute_result"
    }
   ],
   "source": [
    "name = 'jack'\n",
    "name[-1]"
   ]
  },
  {
   "cell_type": "code",
   "execution_count": 79,
   "id": "fb6c11c7",
   "metadata": {},
   "outputs": [
    {
     "data": {
      "text/plain": [
       "'hello\\nworld'"
      ]
     },
     "execution_count": 79,
     "metadata": {},
     "output_type": "execute_result"
    }
   ],
   "source": [
    "sent"
   ]
  },
  {
   "cell_type": "code",
   "execution_count": 84,
   "id": "6bf8d63f",
   "metadata": {},
   "outputs": [
    {
     "data": {
      "text/plain": [
       "'l'"
      ]
     },
     "execution_count": 84,
     "metadata": {},
     "output_type": "execute_result"
    }
   ],
   "source": [
    "sent[3:4]"
   ]
  },
  {
   "cell_type": "code",
   "execution_count": 85,
   "id": "50809111",
   "metadata": {},
   "outputs": [
    {
     "name": "stdout",
     "output_type": "stream",
     "text": [
      "hello\n",
      "\n",
      "hello\n",
      "\n"
     ]
    }
   ],
   "source": [
    "# 처음부터 5까지 출력\n",
    "\n",
    "\n",
    "print(sent[0:6]) # => 지양해야 하는 방법\n",
    "\n",
    "print(sent[:6]) # => 좋은 방법"
   ]
  },
  {
   "cell_type": "code",
   "execution_count": 86,
   "id": "c0431714",
   "metadata": {},
   "outputs": [
    {
     "data": {
      "text/plain": [
       "'hlowrd'"
      ]
     },
     "execution_count": 86,
     "metadata": {},
     "output_type": "execute_result"
    }
   ],
   "source": [
    "# 처음부터 끝까지 2스텝씩 출력\n",
    "sent[:-1:2]# 맨 마지막이 포함되지 않음\n",
    "sent[::2]"
   ]
  },
  {
   "cell_type": "code",
   "execution_count": 87,
   "id": "90a40850",
   "metadata": {},
   "outputs": [
    {
     "name": "stdout",
     "output_type": "stream",
     "text": [
      "dlrow\n",
      "olleh\n",
      "dlrow\n",
      "olleh\n"
     ]
    }
   ],
   "source": [
    "# 모든 글자를 거꾸로 출력하세요\n",
    "print(sent[-1::-1]) # -1을 굳이 쓸 필요가 없음\n",
    "print(sent[::-1])"
   ]
  },
  {
   "cell_type": "code",
   "execution_count": 89,
   "id": "39a8c2fe",
   "metadata": {},
   "outputs": [
    {
     "data": {
      "text/plain": [
       "'benz'"
      ]
     },
     "execution_count": 89,
     "metadata": {},
     "output_type": "execute_result"
    }
   ],
   "source": [
    "# 문자열 뿐만 아니라, 리스트에서도 가능\n",
    "\n",
    "cars = ['benz', 'kia', 'porsche']\n",
    "cars[0]"
   ]
  },
  {
   "cell_type": "markdown",
   "id": "5eb92474",
   "metadata": {},
   "source": [
    "## NLTK\n",
    "- natural language toolkit\n",
    "- 자연어 분석을 위해 교육용으로 배포된 패키지\n",
    "- 텍스트가 정제되어 있고, 내장함수, 기능들이 추가됨\n",
    "    - 토크나이즈, 파싱, 태깅, ..."
   ]
  },
  {
   "cell_type": "code",
   "execution_count": 90,
   "id": "6965b3ad",
   "metadata": {},
   "outputs": [],
   "source": [
    "#!pip install nltk # 설치"
   ]
  },
  {
   "cell_type": "code",
   "execution_count": 91,
   "id": "8ca16929",
   "metadata": {},
   "outputs": [
    {
     "data": {
      "text/plain": [
       "True"
      ]
     },
     "execution_count": 91,
     "metadata": {},
     "output_type": "execute_result"
    }
   ],
   "source": [
    "import nltk # 가져오기\n",
    "nltk.download('book', quiet=True) # 부분적으로 다운받기"
   ]
  },
  {
   "cell_type": "code",
   "execution_count": 92,
   "id": "7cbfb9dd",
   "metadata": {},
   "outputs": [
    {
     "name": "stdout",
     "output_type": "stream",
     "text": [
      "*** Introductory Examples for the NLTK Book ***\n",
      "Loading text1, ..., text9 and sent1, ..., sent9\n",
      "Type the name of the text or sentence to view it.\n",
      "Type: 'texts()' or 'sents()' to list the materials.\n",
      "text1: Moby Dick by Herman Melville 1851\n",
      "text2: Sense and Sensibility by Jane Austen 1811\n",
      "text3: The Book of Genesis\n",
      "text4: Inaugural Address Corpus\n",
      "text5: Chat Corpus\n",
      "text6: Monty Python and the Holy Grail\n",
      "text7: Wall Street Journal\n",
      "text8: Personals Corpus\n",
      "text9: The Man Who Was Thursday by G . K . Chesterton 1908\n"
     ]
    }
   ],
   "source": [
    "from nltk import book # 가져오기"
   ]
  },
  {
   "cell_type": "code",
   "execution_count": 93,
   "id": "61da2544",
   "metadata": {},
   "outputs": [
    {
     "data": {
      "text/plain": [
       "['[',\n",
       " 'Moby',\n",
       " 'Dick',\n",
       " 'by',\n",
       " 'Herman',\n",
       " 'Melville',\n",
       " '1851',\n",
       " ']',\n",
       " 'ETYMOLOGY',\n",
       " '.']"
      ]
     },
     "execution_count": 93,
     "metadata": {},
     "output_type": "execute_result"
    }
   ],
   "source": [
    "moby = book.text1\n",
    "moby.tokens[:10] # 토큰에 접근하는 방법\n",
    "# 토큰: 프로그래밍의 단어 단위 ex) hello world(2개), I'm not a coward. => I'm / I, 'm / I, am'"
   ]
  },
  {
   "cell_type": "code",
   "execution_count": 94,
   "id": "6db800f8",
   "metadata": {},
   "outputs": [
    {
     "data": {
      "text/plain": [
       "260819"
      ]
     },
     "execution_count": 94,
     "metadata": {},
     "output_type": "execute_result"
    }
   ],
   "source": [
    "# 1. 길이 세기\n",
    "len(moby) # 26만 자"
   ]
  },
  {
   "cell_type": "code",
   "execution_count": 96,
   "id": "3e883e90",
   "metadata": {},
   "outputs": [
    {
     "data": {
      "text/plain": [
       "19317"
      ]
     },
     "execution_count": 96,
     "metadata": {},
     "output_type": "execute_result"
    }
   ],
   "source": [
    "#2. 중복 없이 단어 몇 개?\n",
    "len(set(moby)) # 1.9만 자 list -> set으로 형변환"
   ]
  },
  {
   "cell_type": "markdown",
   "id": "91d48368",
   "metadata": {},
   "source": [
    "- list\n",
    "    - ['a', 1, True]\n",
    "    - 순서가 있다\n",
    "    - 중복 허용된다\n",
    "- set\n",
    "    - {'a', 2, True}\n",
    "    - 순서가 없다\n",
    "    - set()\n",
    "    - 수학의 집합 개념"
   ]
  },
  {
   "cell_type": "code",
   "execution_count": 98,
   "id": "b2cc3972",
   "metadata": {},
   "outputs": [
    {
     "data": {
      "text/plain": [
       "['kia', 'hyundai', 'renault', 'benz', 'benz', 'kia']"
      ]
     },
     "execution_count": 98,
     "metadata": {},
     "output_type": "execute_result"
    }
   ],
   "source": [
    "cars = ['kia', 'hyundai', 'renault', 'benz', 'benz', 'kia']\n",
    "cars"
   ]
  },
  {
   "cell_type": "code",
   "execution_count": 99,
   "id": "fda3510d",
   "metadata": {},
   "outputs": [
    {
     "data": {
      "text/plain": [
       "{'benz', 'hyundai', 'kia', 'renault'}"
      ]
     },
     "execution_count": 99,
     "metadata": {},
     "output_type": "execute_result"
    }
   ],
   "source": [
    "# set은 중복을 허용하지 않음\n",
    "set(cars)"
   ]
  },
  {
   "cell_type": "code",
   "execution_count": 101,
   "id": "7f1a6054",
   "metadata": {},
   "outputs": [
    {
     "data": {
      "text/plain": [
       "0.07406285585022564"
      ]
     },
     "execution_count": 101,
     "metadata": {},
     "output_type": "execute_result"
    }
   ],
   "source": [
    "# lexical diversity\n",
    "# 얼마나 다양한 언어를 사용했는지 확인\n",
    "len(set(moby)) / len(moby)"
   ]
  },
  {
   "cell_type": "code",
   "execution_count": 102,
   "id": "572d2ce3",
   "metadata": {},
   "outputs": [
    {
     "data": {
      "text/plain": [
       "['benz', 'benz', 'hyundai', 'kia', 'kia', 'renault']"
      ]
     },
     "execution_count": 102,
     "metadata": {},
     "output_type": "execute_result"
    }
   ],
   "source": [
    "# 정렬\n",
    "sorted(cars) # 오름차순"
   ]
  },
  {
   "cell_type": "code",
   "execution_count": 104,
   "id": "975acf6d",
   "metadata": {},
   "outputs": [
    {
     "data": {
      "text/plain": [
       "['renault', 'kia', 'kia', 'hyundai', 'benz', 'benz']"
      ]
     },
     "execution_count": 104,
     "metadata": {},
     "output_type": "execute_result"
    }
   ],
   "source": [
    "sorted(cars, reverse=True) # 역순"
   ]
  },
  {
   "cell_type": "code",
   "execution_count": 105,
   "id": "c8bf089d",
   "metadata": {},
   "outputs": [
    {
     "data": {
      "text/plain": [
       "['.',\n",
       " '1851',\n",
       " 'Dick',\n",
       " 'ETYMOLOGY',\n",
       " 'Herman',\n",
       " 'Melville',\n",
       " 'Moby',\n",
       " '[',\n",
       " ']',\n",
       " 'by']"
      ]
     },
     "execution_count": 105,
     "metadata": {},
     "output_type": "execute_result"
    }
   ],
   "source": [
    "sorted(moby[:10]) #10개만 뽑아서 정렬"
   ]
  },
  {
   "cell_type": "code",
   "execution_count": 106,
   "id": "2aef2c63",
   "metadata": {},
   "outputs": [
    {
     "data": {
      "text/plain": [
       "['!', '!', '!', '!', '!', '!', '!', '!', '!', '!']"
      ]
     },
     "execution_count": 106,
     "metadata": {},
     "output_type": "execute_result"
    }
   ],
   "source": [
    "sorted(moby)[:10] # 정렬을 먼저하고 10개를 뽑음"
   ]
  },
  {
   "cell_type": "markdown",
   "id": "b4a3d34c",
   "metadata": {},
   "source": [
    "### Quiz 1\n",
    "- text6 가져와서 토큰을 변수에 담고\n",
    "- 중복 없는 단어 셋으로 저장하고 내림차순\n",
    "    - 앞에서 10개 단어 출력\n",
    "    - 단어에 z가 있으면 대문자로 바꾸시오\n",
    "    - z가 없는데 길이가 4자 이상이면 끝 글자를 대문자로 바꿔라."
   ]
  },
  {
   "cell_type": "code",
   "execution_count": 146,
   "id": "d93f179a",
   "metadata": {},
   "outputs": [
    {
     "name": "stdout",
     "output_type": "stream",
     "text": [
      "Zoosh Zoop Zoo Zone Zhiv yourselF yourS youR younG you "
     ]
    }
   ],
   "source": [
    "#Quiz 1\n",
    "\n",
    "text_6 = book.text6.tokens\n",
    "text_6 = sorted(set(text_6), reverse=True)\n",
    "\n",
    "new_text_6 = text_6[:10]\n",
    "\n",
    "for i in range(len(new_text_6)):\n",
    "    word = new_text_6[i]\n",
    "    if 'z' in word:\n",
    "        new_text_6[i] = word.replace('z', 'Z')\n",
    "    elif len(word) >= 4:\n",
    "        new_text_6[i] = word.replace(word[-1], word[-1].upper())\n",
    "\n",
    "for elem in new_text_6:\n",
    "    print(elem, end=\" \")"
   ]
  },
  {
   "cell_type": "markdown",
   "id": "06e50ded",
   "metadata": {},
   "source": [
    "### Quiz 2\n",
    "- 주민번호, 휴대폰 번호, 이메일 주소 입력 받는다.\n",
    "- 주민번호, 휴대폰번호는 숫자만 입력받는다. (-없이)\n",
    "- 이메일주소는 아이디만 입력받는다. (@xx 없이)\n",
    "    - 1. 당신은 {}년 {}월 {}일 출생의 {남성/여성}입니다.\n",
    "    - 2. 휴대폰 번호: 000-0000-0000\n",
    "    - 3. 이메일주소: xxxx@gmail.com"
   ]
  },
  {
   "cell_type": "code",
   "execution_count": 136,
   "id": "bba7a2d2",
   "metadata": {},
   "outputs": [
    {
     "name": "stdout",
     "output_type": "stream",
     "text": [
      "9901011212718\n",
      "01028522418\n",
      "youyedam\n",
      "1. 당신은 1999년 01월 01일 출생의 남성입니다.\n",
      "2. 휴대폰 번호: 010-2852-2418\n",
      "3. 이메일주소: youyedam@gmail.com\n"
     ]
    }
   ],
   "source": [
    "#Quiz 2\n",
    "\n",
    "personal_number = input()\n",
    "phone_number = input()\n",
    "mail_adress = input()\n",
    "\n",
    "if personal_number[6] == '1':\n",
    "    gender = '남성'\n",
    "else:\n",
    "    gender = '여성'\n",
    "    \n",
    "print(f'1. 당신은 19{personal_number[:2]}년 {personal_number[2:4]}월 {personal_number[4:6]}일 출생의 {gender}입니다.')\n",
    "print(f'2. 휴대폰 번호: {phone_number[:3]}-{phone_number[3:7]}-{phone_number[7:11]}')\n",
    "print(f'3. 이메일주소: {mail_adress}@gmail.com')"
   ]
  },
  {
   "cell_type": "code",
   "execution_count": null,
   "id": "e7469af2",
   "metadata": {},
   "outputs": [],
   "source": []
  }
 ],
 "metadata": {
  "kernelspec": {
   "display_name": "Python 3 (ipykernel)",
   "language": "python",
   "name": "python3"
  },
  "language_info": {
   "codemirror_mode": {
    "name": "ipython",
    "version": 3
   },
   "file_extension": ".py",
   "mimetype": "text/x-python",
   "name": "python",
   "nbconvert_exporter": "python",
   "pygments_lexer": "ipython3",
   "version": "3.9.7"
  }
 },
 "nbformat": 4,
 "nbformat_minor": 5
}
