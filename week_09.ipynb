{
 "cells": [
  {
   "cell_type": "markdown",
   "id": "8e1562c3",
   "metadata": {},
   "source": [
    "## Dictionary\n",
    "- 영어 사전\n",
    "    - 단어: 뜻\n",
    "    - 키: 값\n",
    "    - ':'으로 짝 지어져 있는 형태의 자료구조\n",
    "    - 순서가 없다. => 인덱싱이 불가능\n",
    "    - \"키로 값을 찾는다.\"\n",
    "        - 키는 중복되지 않는 고유한 값\n",
    "    - 가변: 수정, 삭제, 추가 가능\n",
    "    - 타입: dict\n",
    "    - 형변환: dict()\n",
    "    - 중괄화 사용 {}, 콤마로 구분함\n",
    "    - 값에 다양한 자료구조가 올 수 있음 (중요)\n",
    "        - a: 1, a: [1, 2, 3, 4]\n",
    "        "
   ]
  },
  {
   "cell_type": "code",
   "execution_count": 1,
   "id": "6ab39cf1",
   "metadata": {},
   "outputs": [
    {
     "data": {
      "text/plain": [
       "set"
      ]
     },
     "execution_count": 1,
     "metadata": {},
     "output_type": "execute_result"
    }
   ],
   "source": [
    "# 빈 딕셔너리 선언\n",
    "empty = dict()\n",
    "empty = {}\n",
    "\n",
    "# set {}\n",
    "empty = {} #dict type\n",
    "empty = set() #set type\n",
    "type(empty)"
   ]
  },
  {
   "cell_type": "code",
   "execution_count": 7,
   "id": "c53cc7ee",
   "metadata": {},
   "outputs": [
    {
     "data": {
      "text/plain": [
       "{1: 'apple', 2: 'banana', 3: 'kiwi'}"
      ]
     },
     "execution_count": 7,
     "metadata": {},
     "output_type": "execute_result"
    }
   ],
   "source": [
    "a = {1, 2, 3} # set\n",
    "a = {1: 'apple', 2: 'banana', 3: 'kiwi'} # dict\n",
    "a"
   ]
  },
  {
   "cell_type": "code",
   "execution_count": 2,
   "id": "34cba04d",
   "metadata": {},
   "outputs": [
    {
     "data": {
      "text/plain": [
       "{'apple': 'a', 'banana': 'b', 'kiwi': 'c'}"
      ]
     },
     "execution_count": 2,
     "metadata": {},
     "output_type": "execute_result"
    }
   ],
   "source": [
    "b = {'': '', '': '', '': ''}\n",
    "# 이 경우 키 값은 '' 안해도 됨\n",
    "b = dict(apple='a', banana='b', kiwi='c')\n",
    "b"
   ]
  },
  {
   "cell_type": "markdown",
   "id": "b81920fb",
   "metadata": {},
   "source": [
    "### 출석부로 딕셔너리 만들기\n",
    "이름, 학번, 학과\n",
    "james 2022201 경제학과\n",
    "laura 202203 스페인어과\n",
    "louis 202202 컴공과"
   ]
  },
  {
   "cell_type": "code",
   "execution_count": 4,
   "id": "13231e38",
   "metadata": {},
   "outputs": [
    {
     "name": "stdout",
     "output_type": "stream",
     "text": [
      "{202201: ['james', '경제학과'], 202202: ['louis', '컴공과'], 202203: ['laura', '스페인어과']}\n"
     ]
    }
   ],
   "source": [
    "attendance = {202201: ['james', '경제학과'], 202202: ['louis', '컴공과'], 202203: ['laura', '스페인어과']}\n",
    "print(attendance)"
   ]
  },
  {
   "cell_type": "markdown",
   "id": "58d6abf5",
   "metadata": {},
   "source": [
    "## 형 변환\n",
    "- key, value 값이 쌍으로 있을 때 가능"
   ]
  },
  {
   "cell_type": "code",
   "execution_count": 5,
   "id": "25e8a6ec",
   "metadata": {},
   "outputs": [
    {
     "data": {
      "text/plain": [
       "{1: 2, 2: 3, 3: 4}"
      ]
     },
     "execution_count": 5,
     "metadata": {},
     "output_type": "execute_result"
    }
   ],
   "source": [
    "# [] 안에 []가 쌍으로 존재할 때\n",
    "# 튜플이어도 가능\n",
    "\n",
    "ex1 = [[1, 2], [2, 3], [3, 4]]\n",
    "dict(ex1)"
   ]
  },
  {
   "cell_type": "code",
   "execution_count": 13,
   "id": "4f1feb0a",
   "metadata": {},
   "outputs": [
    {
     "data": {
      "text/plain": [
       "{1: 2, 2: 3, 3: 4}"
      ]
     },
     "execution_count": 13,
     "metadata": {},
     "output_type": "execute_result"
    }
   ],
   "source": [
    "ex2 = [(1, 2), (2, 3), (3, 4)]\n",
    "dict(ex2)"
   ]
  },
  {
   "cell_type": "code",
   "execution_count": 6,
   "id": "58c48127",
   "metadata": {},
   "outputs": [
    {
     "data": {
      "text/plain": [
       "{'a': 'b', 'b': 'c', 'c': 'd'}"
      ]
     },
     "execution_count": 6,
     "metadata": {},
     "output_type": "execute_result"
    }
   ],
   "source": [
    "ex3 = ['ab', 'bc', 'cd']\n",
    "dict(ex3)\n",
    "# 두 자리 까지 가능,세 자리가 되는 순간 오류"
   ]
  },
  {
   "cell_type": "code",
   "execution_count": 7,
   "id": "f1ee1e2a",
   "metadata": {},
   "outputs": [
    {
     "data": {
      "text/plain": [
       "{1: 3, 2: 3}"
      ]
     },
     "execution_count": 7,
     "metadata": {},
     "output_type": "execute_result"
    }
   ],
   "source": [
    "# 만약 키가 똑같다면, 마지막 것을 기준\n",
    "\n",
    "ex4 = [[1, 2], [2, 3], [1, 3]]\n",
    "dict(ex4)"
   ]
  },
  {
   "cell_type": "code",
   "execution_count": 8,
   "id": "2f90c60c",
   "metadata": {},
   "outputs": [],
   "source": [
    "pythons = {\n",
    "    'Champan': 'Graham',\n",
    "    'Cleese': 'John',\n",
    "    'Idle': 'Eric',\n",
    "    'Jones': 'Terry',\n",
    "    'Palin': 'Michael'\n",
    "}"
   ]
  },
  {
   "cell_type": "code",
   "execution_count": 10,
   "id": "823cbd63",
   "metadata": {},
   "outputs": [
    {
     "data": {
      "text/plain": [
       "'Eric'"
      ]
     },
     "execution_count": 10,
     "metadata": {},
     "output_type": "execute_result"
    }
   ],
   "source": [
    "# 조회(key로 value를 찾음)\n",
    "# 없는 값이면 예외 발생\n",
    "\n",
    "pythons['Idle']"
   ]
  },
  {
   "cell_type": "code",
   "execution_count": 11,
   "id": "51cc0814",
   "metadata": {},
   "outputs": [],
   "source": [
    "pythons['Hwa'] = 'Chloe' # 추가"
   ]
  },
  {
   "cell_type": "code",
   "execution_count": 12,
   "id": "087f0ff2",
   "metadata": {},
   "outputs": [
    {
     "data": {
      "text/plain": [
       "{'Champan': 'Graham',\n",
       " 'Cleese': 'John',\n",
       " 'Idle': 'James',\n",
       " 'Jones': 'Terry',\n",
       " 'Palin': 'Michael',\n",
       " 'Hwa': 'Chloe'}"
      ]
     },
     "execution_count": 12,
     "metadata": {},
     "output_type": "execute_result"
    }
   ],
   "source": [
    "pythons['Idle'] = 'James' # 변경\n",
    "pythons"
   ]
  },
  {
   "cell_type": "code",
   "execution_count": 30,
   "id": "356defcc",
   "metadata": {},
   "outputs": [
    {
     "data": {
      "text/plain": [
       "True"
      ]
     },
     "execution_count": 30,
     "metadata": {},
     "output_type": "execute_result"
    }
   ],
   "source": [
    "# 예외 없이 하는 방법\n",
    "\n",
    "# 1. 값이 있는 지 없는 지 확인\n",
    "'Hwa' in pythons \n",
    "\n",
    "# 2. get()\n",
    "pythons.get('Lee', 0) # 있으면 key 반환, 없는 키는 None 반환, 원하는 반환 값 설정 가능"
   ]
  },
  {
   "cell_type": "markdown",
   "id": "990d50a7",
   "metadata": {},
   "source": [
    "### 전체 조회\n",
    "- keys()\n",
    "- values()\n",
    "- items()"
   ]
  },
  {
   "cell_type": "code",
   "execution_count": 32,
   "id": "b157537d",
   "metadata": {},
   "outputs": [
    {
     "data": {
      "text/plain": [
       "dict_keys(['Champan', 'Cleese', 'Idle', 'Jones', 'Palin', 'Hwa'])"
      ]
     },
     "execution_count": 32,
     "metadata": {},
     "output_type": "execute_result"
    }
   ],
   "source": [
    "pythons.keys()"
   ]
  },
  {
   "cell_type": "code",
   "execution_count": 33,
   "id": "db9bc5ac",
   "metadata": {},
   "outputs": [
    {
     "data": {
      "text/plain": [
       "dict_values(['Graham', 'John', 'James', 'Terry', 'Michael', 'Chloe'])"
      ]
     },
     "execution_count": 33,
     "metadata": {},
     "output_type": "execute_result"
    }
   ],
   "source": [
    "pythons.values()"
   ]
  },
  {
   "cell_type": "code",
   "execution_count": 34,
   "id": "0d969ebc",
   "metadata": {},
   "outputs": [
    {
     "data": {
      "text/plain": [
       "dict_items([('Champan', 'Graham'), ('Cleese', 'John'), ('Idle', 'James'), ('Jones', 'Terry'), ('Palin', 'Michael'), ('Hwa', 'Chloe')])"
      ]
     },
     "execution_count": 34,
     "metadata": {},
     "output_type": "execute_result"
    }
   ],
   "source": [
    "pythons.items() # (키, 값) 튜플 형태로 => 순회 할 때 많이 사용"
   ]
  },
  {
   "cell_type": "code",
   "execution_count": 36,
   "id": "570a22e8",
   "metadata": {},
   "outputs": [
    {
     "data": {
      "text/plain": [
       "['Champan', 'Cleese', 'Idle', 'Jones', 'Palin', 'Hwa']"
      ]
     },
     "execution_count": 36,
     "metadata": {},
     "output_type": "execute_result"
    }
   ],
   "source": [
    "list(pythons.keys()) # 리스트로 사용하고 싶을 경우 리스트로 형 변환 해야 함"
   ]
  },
  {
   "cell_type": "code",
   "execution_count": 37,
   "id": "516ed59e",
   "metadata": {},
   "outputs": [
    {
     "name": "stdout",
     "output_type": "stream",
     "text": [
      "Champan = Graham\n",
      "Cleese = John\n",
      "Idle = James\n",
      "Jones = Terry\n",
      "Palin = Michael\n",
      "Hwa = Chloe\n"
     ]
    }
   ],
   "source": [
    "for k, v in pythons.items():\n",
    "    print(f'{k} = {v}')"
   ]
  },
  {
   "cell_type": "code",
   "execution_count": 38,
   "id": "b75192cd",
   "metadata": {},
   "outputs": [
    {
     "data": {
      "text/plain": [
       "[('Champan', 'Graham'),\n",
       " ('Cleese', 'John'),\n",
       " ('Idle', 'James'),\n",
       " ('Jones', 'Terry'),\n",
       " ('Palin', 'Michael'),\n",
       " ('Hwa', 'Chloe')]"
      ]
     },
     "execution_count": 38,
     "metadata": {},
     "output_type": "execute_result"
    }
   ],
   "source": [
    "[(k, v) for k, v in pythons.items()]"
   ]
  },
  {
   "cell_type": "code",
   "execution_count": 42,
   "id": "2dad0723",
   "metadata": {},
   "outputs": [
    {
     "data": {
      "text/plain": [
       "['Champan', 'Cleese', 'Idle', 'Jones', 'Palin', 'Hwa']"
      ]
     },
     "execution_count": 42,
     "metadata": {},
     "output_type": "execute_result"
    }
   ],
   "source": [
    "[k[0] for k in pythons.items()] #0=key, 1=value"
   ]
  },
  {
   "cell_type": "code",
   "execution_count": 43,
   "id": "fa042a94",
   "metadata": {},
   "outputs": [
    {
     "data": {
      "text/plain": [
       "['Champan', 'Cleese', 'Idle', 'Jones', 'Palin', 'Hwa']"
      ]
     },
     "execution_count": 43,
     "metadata": {},
     "output_type": "execute_result"
    }
   ],
   "source": [
    "[k for k in pythons] # keys"
   ]
  },
  {
   "cell_type": "markdown",
   "id": "9a6d704b",
   "metadata": {},
   "source": [
    "### ex\n",
    "animal: num_leg 딕셔너리 만드시오."
   ]
  },
  {
   "cell_type": "code",
   "execution_count": 15,
   "id": "ac18d3ec",
   "metadata": {},
   "outputs": [],
   "source": [
    "animal = 'cat snake monkey ant spider'.split()\n",
    "legs = 4, 0, 2, 4, 8"
   ]
  },
  {
   "cell_type": "code",
   "execution_count": 16,
   "id": "60bc927a",
   "metadata": {},
   "outputs": [
    {
     "name": "stdout",
     "output_type": "stream",
     "text": [
      "{'cat': 4, 'snake': 0, 'monkey': 2, 'ant': 4, 'spider': 8}\n",
      "{'cat': 4, 'snake': 0, 'monkey': 2, 'ant': 4, 'spider': 8}\n"
     ]
    }
   ],
   "source": [
    "# 방법1\n",
    "print(dict([(key, value) for key, value in zip(animal, legs)]))\n",
    "\n",
    "# 방법2\n",
    "num_leg = {}\n",
    "for k, v in zip(animal, legs):\n",
    "    num_leg[k] = v \n",
    "print(num_leg)"
   ]
  },
  {
   "cell_type": "markdown",
   "id": "98a07ce7",
   "metadata": {},
   "source": [
    "#### Q. pythons에서 성:이름, 성 첫 글자만, 이름은 글자 개수로 이뤄진 튜플 (성, 이름) 리스트로 반환하기\n",
    "     dict comprehension 쓰지 말기\n",
    "     \n",
    "[(). ()] => items()"
   ]
  },
  {
   "cell_type": "code",
   "execution_count": 63,
   "id": "b1b3913c",
   "metadata": {},
   "outputs": [
    {
     "data": {
      "text/plain": [
       "[('C', 6), ('C', 4), ('I', 5), ('J', 5), ('P', 7), ('H', 5)]"
      ]
     },
     "execution_count": 63,
     "metadata": {},
     "output_type": "execute_result"
    }
   ],
   "source": [
    "# 방법1\n",
    "[(k[0], len(v)) for k, v in pythons.items()]"
   ]
  },
  {
   "cell_type": "code",
   "execution_count": 13,
   "id": "5146bb0c",
   "metadata": {},
   "outputs": [
    {
     "data": {
      "text/plain": [
       "[('C', 6), ('C', 4), ('I', 5), ('J', 5), ('P', 7), ('H', 5)]"
      ]
     },
     "execution_count": 13,
     "metadata": {},
     "output_type": "execute_result"
    }
   ],
   "source": [
    "# 방법2\n",
    "[(k[0][0], len(k[1]))for k in pythons.items()]"
   ]
  },
  {
   "cell_type": "markdown",
   "id": "2791d341",
   "metadata": {},
   "source": [
    "### 값 수정, 삭제, 복제, 비교"
   ]
  },
  {
   "cell_type": "code",
   "execution_count": 65,
   "id": "a0706fbb",
   "metadata": {},
   "outputs": [
    {
     "data": {
      "text/plain": [
       "{'Champan': 'Graham',\n",
       " 'Cleese': 'John',\n",
       " 'Idle': 'James',\n",
       " 'Jones': 'Terry',\n",
       " 'Palin': 'Michael',\n",
       " 'Hwa': 'Chloe'}"
      ]
     },
     "execution_count": 65,
     "metadata": {},
     "output_type": "execute_result"
    }
   ],
   "source": [
    "pythons"
   ]
  },
  {
   "cell_type": "code",
   "execution_count": 66,
   "id": "8446c895",
   "metadata": {},
   "outputs": [
    {
     "data": {
      "text/plain": [
       "{'Marx': 'Groucho', 'Hpward': 'Moe'}"
      ]
     },
     "execution_count": 66,
     "metadata": {},
     "output_type": "execute_result"
    }
   ],
   "source": [
    "others = {\n",
    "    'Marx': 'Groucho',\n",
    "    'Hpward': 'Moe'\n",
    "}\n",
    "\n",
    "others"
   ]
  },
  {
   "cell_type": "code",
   "execution_count": 69,
   "id": "49d4e08b",
   "metadata": {},
   "outputs": [],
   "source": [
    "pythons.update(others) # 리스트의 append"
   ]
  },
  {
   "cell_type": "code",
   "execution_count": 71,
   "id": "cf8264bb",
   "metadata": {},
   "outputs": [
    {
     "data": {
      "text/plain": [
       "{'Champan': 'Graham',\n",
       " 'Cleese': 'John',\n",
       " 'Idle': 'James',\n",
       " 'Jones': 'Terry',\n",
       " 'Palin': 'Michael',\n",
       " 'Hwa': 'Chloe',\n",
       " 'Marx': 'Groucho',\n",
       " 'Hpward': 'Moe'}"
      ]
     },
     "execution_count": 71,
     "metadata": {},
     "output_type": "execute_result"
    }
   ],
   "source": [
    "pythons # 마지막에 업데이트"
   ]
  },
  {
   "cell_type": "code",
   "execution_count": 74,
   "id": "cc633263",
   "metadata": {},
   "outputs": [
    {
     "data": {
      "text/plain": [
       "{'Marx': 'Groucho',\n",
       " 'Hpward': 'Moe',\n",
       " 'Champan': 'Graham',\n",
       " 'Cleese': 'John',\n",
       " 'Idle': 'James',\n",
       " 'Jones': 'Terry',\n",
       " 'Palin': 'Michael',\n",
       " 'Hwa': 'Chloe'}"
      ]
     },
     "execution_count": 74,
     "metadata": {},
     "output_type": "execute_result"
    }
   ],
   "source": [
    "# py3 에서만 가능\n",
    "{**others, **pythons} # 앞 부분에 업데이트"
   ]
  },
  {
   "cell_type": "code",
   "execution_count": 75,
   "id": "e2b44056",
   "metadata": {},
   "outputs": [],
   "source": [
    "# 삭제\n",
    "del pythons['Hwa']"
   ]
  },
  {
   "cell_type": "code",
   "execution_count": 76,
   "id": "7601112e",
   "metadata": {},
   "outputs": [
    {
     "data": {
      "text/plain": [
       "{'Champan': 'Graham',\n",
       " 'Cleese': 'John',\n",
       " 'Idle': 'James',\n",
       " 'Jones': 'Terry',\n",
       " 'Palin': 'Michael',\n",
       " 'Marx': 'Groucho',\n",
       " 'Hpward': 'Moe'}"
      ]
     },
     "execution_count": 76,
     "metadata": {},
     "output_type": "execute_result"
    }
   ],
   "source": [
    "pythons"
   ]
  },
  {
   "cell_type": "code",
   "execution_count": 77,
   "id": "7d92cfec",
   "metadata": {},
   "outputs": [
    {
     "ename": "KeyError",
     "evalue": "'Lee'",
     "output_type": "error",
     "traceback": [
      "\u001b[1;31m---------------------------------------------------------------------------\u001b[0m",
      "\u001b[1;31mKeyError\u001b[0m                                  Traceback (most recent call last)",
      "\u001b[1;32m~\\AppData\\Local\\Temp/ipykernel_9560/2522327117.py\u001b[0m in \u001b[0;36m<module>\u001b[1;34m\u001b[0m\n\u001b[1;32m----> 1\u001b[1;33m \u001b[1;32mdel\u001b[0m \u001b[0mpythons\u001b[0m\u001b[1;33m[\u001b[0m\u001b[1;34m'Lee'\u001b[0m\u001b[1;33m]\u001b[0m\u001b[1;33m\u001b[0m\u001b[1;33m\u001b[0m\u001b[0m\n\u001b[0m",
      "\u001b[1;31mKeyError\u001b[0m: 'Lee'"
     ]
    }
   ],
   "source": [
    "del pythons['Lee'] # 없는 것 삭제는 예외 발생"
   ]
  },
  {
   "cell_type": "code",
   "execution_count": 84,
   "id": "4d2b1e1c",
   "metadata": {},
   "outputs": [
    {
     "ename": "KeyError",
     "evalue": "'Marx'",
     "output_type": "error",
     "traceback": [
      "\u001b[1;31m---------------------------------------------------------------------------\u001b[0m",
      "\u001b[1;31mKeyError\u001b[0m                                  Traceback (most recent call last)",
      "\u001b[1;32m~\\AppData\\Local\\Temp/ipykernel_9560/1860358132.py\u001b[0m in \u001b[0;36m<module>\u001b[1;34m\u001b[0m\n\u001b[1;32m----> 1\u001b[1;33m \u001b[0mpythons\u001b[0m\u001b[1;33m.\u001b[0m\u001b[0mpop\u001b[0m\u001b[1;33m(\u001b[0m\u001b[1;34m'Marx'\u001b[0m\u001b[1;33m)\u001b[0m \u001b[1;31m# 있으면 그 값 뽑아냄\u001b[0m\u001b[1;33m\u001b[0m\u001b[1;33m\u001b[0m\u001b[0m\n\u001b[0m",
      "\u001b[1;31mKeyError\u001b[0m: 'Marx'"
     ]
    }
   ],
   "source": [
    "pythons.pop('Marx') # 있으면 그 값 뽑아냄"
   ]
  },
  {
   "cell_type": "code",
   "execution_count": 81,
   "id": "3631b426",
   "metadata": {},
   "outputs": [
    {
     "data": {
      "text/plain": [
       "0"
      ]
     },
     "execution_count": 81,
     "metadata": {},
     "output_type": "execute_result"
    }
   ],
   "source": [
    "pythons.pop('Lee', 0) # 없으면 예외는 나지만, 예외시 출력 값을 지정할 수 있다."
   ]
  },
  {
   "cell_type": "code",
   "execution_count": 82,
   "id": "2da0b966",
   "metadata": {},
   "outputs": [],
   "source": [
    "# 전체 삭제\n",
    "pythons.clear()\n",
    "pythons = {}"
   ]
  },
  {
   "cell_type": "code",
   "execution_count": 83,
   "id": "cba0acd3",
   "metadata": {},
   "outputs": [
    {
     "data": {
      "text/plain": [
       "{}"
      ]
     },
     "execution_count": 83,
     "metadata": {},
     "output_type": "execute_result"
    }
   ],
   "source": [
    "pythons"
   ]
  },
  {
   "cell_type": "markdown",
   "id": "a3dffa20",
   "metadata": {},
   "source": [
    "### 복제\n",
    "- 할당: b = a\n",
    "- 얕은 복사: c = a.copy()\n",
    "- 깊은 복사: deepcopy"
   ]
  },
  {
   "cell_type": "code",
   "execution_count": 20,
   "id": "9561cf25",
   "metadata": {},
   "outputs": [
    {
     "data": {
      "text/plain": [
       "({1: 45, 2: 2, 3: 3}, {1: 45, 2: 2, 3: 3})"
      ]
     },
     "execution_count": 20,
     "metadata": {},
     "output_type": "execute_result"
    }
   ],
   "source": [
    "# 할당\n",
    "a = {1:1, 2:2, 3:3}\n",
    "b = a\n",
    "a[1] = 45\n",
    "a, b\n",
    "\n",
    "# 할당의 문제: b도 값이 변함. (가변객체이기 때문)"
   ]
  },
  {
   "cell_type": "code",
   "execution_count": 21,
   "id": "f8a4a720",
   "metadata": {},
   "outputs": [
    {
     "data": {
      "text/plain": [
       "({1: 45, 2: 22, 3: 3}, {1: 45, 2: 2, 3: 3})"
      ]
     },
     "execution_count": 21,
     "metadata": {},
     "output_type": "execute_result"
    }
   ],
   "source": [
    "# 얕은 복사\n",
    "c = a.copy()\n",
    "a[2] = 22\n",
    "a, c"
   ]
  },
  {
   "cell_type": "code",
   "execution_count": 22,
   "id": "9c1befbd",
   "metadata": {},
   "outputs": [
    {
     "data": {
      "text/plain": [
       "({1: [100, 2, 3], 2: [2, 3, 4]}, {1: [100, 2, 3], 2: [2, 3, 4]})"
      ]
     },
     "execution_count": 22,
     "metadata": {},
     "output_type": "execute_result"
    }
   ],
   "source": [
    "a = {1: [1, 2, 3], 2: [2, 3, 4]}\n",
    "d = a.copy()\n",
    "a[1][0] = 100\n",
    "a, d\n",
    "# 가변객체에 대해서 또 참조가 되는 문제"
   ]
  },
  {
   "cell_type": "code",
   "execution_count": 24,
   "id": "c432114e",
   "metadata": {},
   "outputs": [
    {
     "data": {
      "text/plain": [
       "({1: [100, 999, 3], 2: [2, 3, 4]}, {1: [100, 999, 3], 2: [2, 3, 4]})"
      ]
     },
     "execution_count": 24,
     "metadata": {},
     "output_type": "execute_result"
    }
   ],
   "source": [
    "# 깊은 복사\n",
    "import copy\n",
    "e = copy.deepcopy(a)\n",
    "a[1][1] = 999\n",
    "a, e\n",
    "# 변하지 않음."
   ]
  },
  {
   "cell_type": "markdown",
   "id": "45304652",
   "metadata": {},
   "source": [
    "### 비교\n",
    " - 같다, 다르다만 된다."
   ]
  },
  {
   "cell_type": "code",
   "execution_count": 25,
   "id": "b18b0e69",
   "metadata": {},
   "outputs": [
    {
     "data": {
      "text/plain": [
       "True"
      ]
     },
     "execution_count": 25,
     "metadata": {},
     "output_type": "execute_result"
    }
   ],
   "source": [
    "a != b"
   ]
  },
  {
   "cell_type": "markdown",
   "id": "592a8b8f",
   "metadata": {},
   "source": [
    "### EX\n",
    "1. 두 리스트로 하나의 딕셔너리 생성\n",
    "2. 명왕성=pluto 추가하기\n",
    "3. '성'으로 끝나지 않는 키 삭제하기\n",
    "    del dict1['태양'] (x)\n",
    "4. sorted 이용해서 값 정렬하기 i) key, ii) value 기준"
   ]
  },
  {
   "cell_type": "code",
   "execution_count": 31,
   "id": "a7eb8695",
   "metadata": {},
   "outputs": [],
   "source": [
    "solar_kr = '태양 수성 금성 지구 화성 목성 토성 천왕성 해왕성'.split()\n",
    "solar_eng = 'Sun mercury venus earth mars jupiter saturn uranus neptune'.split()"
   ]
  },
  {
   "cell_type": "code",
   "execution_count": 36,
   "id": "544e62ae",
   "metadata": {},
   "outputs": [
    {
     "name": "stdout",
     "output_type": "stream",
     "text": [
      "['금성', '명왕성', '목성', '수성', '천왕성', '토성', '해왕성', '화성']\n",
      "['jupiter', 'mars', 'mercury', 'neptune', 'pluto', 'saturn', 'uranus', 'venus']\n"
     ]
    }
   ],
   "source": [
    "# for문 사용\n",
    "\n",
    "# 1.\n",
    "solar_dict = {}\n",
    "for k, v in zip(solar_kr, solar_eng):\n",
    "     solar_dict[k] = v\n",
    "\n",
    "# 2.\n",
    "# 넣을 것이 하나일 때는 update를 가져갈 필요가 없음.\n",
    "# solar_dict.update({'명왕성':'pluto'})\n",
    "solar_dict['명왕성'] = 'pluto'\n",
    "\n",
    "# 3.\n",
    "for key in list(solar_dict):\n",
    "    if not key.endswith('성'):\n",
    "        del solar_dict[key]\n",
    "\n",
    "# 4.\n",
    "# key 기준\n",
    "print(sorted(solar_dict.keys()))\n",
    "# value 기준\n",
    "print(sorted(solar_dict.values()))"
   ]
  },
  {
   "cell_type": "code",
   "execution_count": 37,
   "id": "90100a30",
   "metadata": {},
   "outputs": [
    {
     "name": "stdout",
     "output_type": "stream",
     "text": [
      "['금성', '명왕성', '목성', '수성', '천왕성', '토성', '해왕성', '화성']\n",
      "['jupiter', 'mars', 'mercury', 'neptune', 'pluto', 'saturn', 'uranus', 'venus']\n"
     ]
    }
   ],
   "source": [
    "# 리스트 컴프리헨션 사용\n",
    "\n",
    "# 1.\n",
    "solar_dict = {}\n",
    "for k, v in zip(solar_kr, solar_eng):\n",
    "     solar_dict[k] = v\n",
    "\n",
    "# 2.\n",
    "solar_dict['명왕성'] = 'pluto'\n",
    "\n",
    "# 3.\n",
    "solar_dict = dict([(key, value) \n",
    "                   for key, value in solar_dict.items() \n",
    "                   if key.endswith('성')])\n",
    "\n",
    "# 4.\n",
    "# key 기준\n",
    "print(sorted(solar_dict.keys()))\n",
    "# value 기준\n",
    "print(sorted(solar_dict.values()))"
   ]
  },
  {
   "cell_type": "markdown",
   "id": "b3eaec7b",
   "metadata": {},
   "source": [
    "## 딕셔너리 컴프리헨션"
   ]
  },
  {
   "cell_type": "code",
   "execution_count": 38,
   "id": "79bb6252",
   "metadata": {},
   "outputs": [
    {
     "data": {
      "text/plain": [
       "{'a': 1, 'p': 2, 'l': 1, 'e': 1}"
      ]
     },
     "execution_count": 38,
     "metadata": {},
     "output_type": "execute_result"
    }
   ],
   "source": [
    "letter = 'apple'\n",
    "#a: 1, p: 2, ...\n",
    "{ch: letter.count(ch) for ch in letter}"
   ]
  },
  {
   "cell_type": "code",
   "execution_count": 39,
   "id": "5edb4d95",
   "metadata": {},
   "outputs": [],
   "source": [
    "# 단어의 모음세기\n",
    "vowels = 'aeiou'\n",
    "word = 'onomatopoeia'\n",
    "\n",
    "# word 순회\n",
    "# vowels 순회"
   ]
  },
  {
   "cell_type": "code",
   "execution_count": 40,
   "id": "32bb45b3",
   "metadata": {},
   "outputs": [
    {
     "data": {
      "text/plain": [
       "{'a': 2, 'e': 1, 'i': 1, 'o': 4}"
      ]
     },
     "execution_count": 40,
     "metadata": {},
     "output_type": "execute_result"
    }
   ],
   "source": [
    "# word 순회\n",
    "{v: word.count(v) for v in vowels if v in word}"
   ]
  },
  {
   "cell_type": "code",
   "execution_count": 41,
   "id": "84c8a120",
   "metadata": {},
   "outputs": [
    {
     "data": {
      "text/plain": [
       "{'i': 1, 'e': 1, 'a': 2, 'o': 4}"
      ]
     },
     "execution_count": 41,
     "metadata": {},
     "output_type": "execute_result"
    }
   ],
   "source": [
    "# vowels 순회\n",
    "{w: word.count(w) for w in set(word) if w in vowels}"
   ]
  },
  {
   "cell_type": "markdown",
   "id": "e1156d25",
   "metadata": {},
   "source": [
    "### sorting"
   ]
  },
  {
   "cell_type": "code",
   "execution_count": 42,
   "id": "42349c39",
   "metadata": {},
   "outputs": [
    {
     "data": {
      "text/plain": [
       "['금성', '명왕성', '목성', '수성', '천왕성', '토성', '해왕성', '화성']"
      ]
     },
     "execution_count": 42,
     "metadata": {},
     "output_type": "execute_result"
    }
   ],
   "source": [
    "# 그냥 sorted를 하면 key만 가져감\n",
    "\n",
    "sorted(solar_dict)"
   ]
  },
  {
   "cell_type": "code",
   "execution_count": 44,
   "id": "0185a455",
   "metadata": {},
   "outputs": [
    {
     "data": {
      "text/plain": [
       "[('금성', 'venus'),\n",
       " ('명왕성', 'pluto'),\n",
       " ('목성', 'jupiter'),\n",
       " ('수성', 'mercury'),\n",
       " ('천왕성', 'uranus'),\n",
       " ('토성', 'saturn'),\n",
       " ('해왕성', 'neptune'),\n",
       " ('화성', 'mars')]"
      ]
     },
     "execution_count": 44,
     "metadata": {},
     "output_type": "execute_result"
    }
   ],
   "source": [
    "def fx(x):\n",
    "    # 0은 key 기준, 1은 value 기준\n",
    "    return x[0] \n",
    "\n",
    "\n",
    "# 첫 번째는 한글기준, 두 번째는 영어 기준으로 정렬하고 싶을 때?\n",
    "# 나만의 함수를 정의해서 key에 넣음\n",
    "sorted(solar_dict.items(), key=fx)"
   ]
  },
  {
   "cell_type": "code",
   "execution_count": 43,
   "id": "22016a94",
   "metadata": {},
   "outputs": [
    {
     "data": {
      "text/plain": [
       "[('금성', 'venus'),\n",
       " ('명왕성', 'pluto'),\n",
       " ('목성', 'jupiter'),\n",
       " ('수성', 'mercury'),\n",
       " ('천왕성', 'uranus'),\n",
       " ('토성', 'saturn'),\n",
       " ('해왕성', 'neptune'),\n",
       " ('화성', 'mars')]"
      ]
     },
     "execution_count": 43,
     "metadata": {},
     "output_type": "execute_result"
    }
   ],
   "source": [
    "# 익명함수 lamda\n",
    "sorted(solar_dict.items(), key=lambda x: x[0])"
   ]
  },
  {
   "cell_type": "markdown",
   "id": "65702347",
   "metadata": {},
   "source": [
    "## Set\n",
    "- \"중복이 없다\"\n",
    "- 수학의 집합 => 교집합, 합집합, 차집합, ...\n",
    "- bag, 인덱싱도 없다."
   ]
  },
  {
   "cell_type": "code",
   "execution_count": 45,
   "id": "e670524c",
   "metadata": {},
   "outputs": [
    {
     "data": {
      "text/plain": [
       "set()"
      ]
     },
     "execution_count": 45,
     "metadata": {},
     "output_type": "execute_result"
    }
   ],
   "source": [
    "empty = set()\n",
    "empty"
   ]
  },
  {
   "cell_type": "code",
   "execution_count": 46,
   "id": "1d04eace",
   "metadata": {},
   "outputs": [
    {
     "data": {
      "text/plain": [
       "{1, 2, 3}"
      ]
     },
     "execution_count": 46,
     "metadata": {},
     "output_type": "execute_result"
    }
   ],
   "source": [
    "a = {1, 2, 3}\n",
    "a"
   ]
  },
  {
   "cell_type": "code",
   "execution_count": 51,
   "id": "236800db",
   "metadata": {},
   "outputs": [
    {
     "data": {
      "text/plain": [
       "{1, 2, 3}"
      ]
     },
     "execution_count": 51,
     "metadata": {},
     "output_type": "execute_result"
    }
   ],
   "source": [
    "# 시퀀스이기 때문에 튜플이나 리스트로 묶어주고 넣어야 함.\n",
    "a = set((1, 2, 3)) # 선언, 형 변환\n",
    "a"
   ]
  },
  {
   "cell_type": "code",
   "execution_count": 52,
   "id": "01c47caa",
   "metadata": {},
   "outputs": [
    {
     "data": {
      "text/plain": [
       "{1, 2, 3, 4}"
      ]
     },
     "execution_count": 52,
     "metadata": {},
     "output_type": "execute_result"
    }
   ],
   "source": [
    "# 추가\n",
    "a.add(4)\n",
    "a"
   ]
  },
  {
   "cell_type": "code",
   "execution_count": 53,
   "id": "a2e3a0e5",
   "metadata": {},
   "outputs": [
    {
     "data": {
      "text/plain": [
       "{1, 2, 3}"
      ]
     },
     "execution_count": 53,
     "metadata": {},
     "output_type": "execute_result"
    }
   ],
   "source": [
    "# 삭제\n",
    "a.remove(4)\n",
    "a"
   ]
  },
  {
   "cell_type": "code",
   "execution_count": 54,
   "id": "fb0afb61",
   "metadata": {},
   "outputs": [],
   "source": [
    "drinks = {\n",
    "    'martini': {'vodka', 'vermouth'},\n",
    "    'black russian': {'vodka', 'kahlua'},\n",
    "    'white russian': {'cream', 'kahlua', 'vodka'},\n",
    "    'manhattan': {'rye', 'vermouth', 'bitters'},\n",
    "    'screwdriver': {'orange juice', 'vodka'}\n",
    "}\n",
    "\n",
    "# vodka가 포함된 술 출력하기\n",
    "# vodka는 있지만 cream, vermouth 없는 술 출력하기"
   ]
  },
  {
   "cell_type": "code",
   "execution_count": 233,
   "id": "f9da5467",
   "metadata": {},
   "outputs": [
    {
     "name": "stdout",
     "output_type": "stream",
     "text": [
      "martini\n",
      "black russian\n",
      "white russian\n",
      "screwdriver\n"
     ]
    }
   ],
   "source": [
    "# vodka가 포함된 술 출력하기\n",
    "for k, v in drinks.items():\n",
    "    if 'vodka' in v:\n",
    "        print(k)"
   ]
  },
  {
   "cell_type": "code",
   "execution_count": 55,
   "id": "9ee31f16",
   "metadata": {},
   "outputs": [
    {
     "name": "stdout",
     "output_type": "stream",
     "text": [
      "black russian\n",
      "screwdriver\n"
     ]
    }
   ],
   "source": [
    "# vodka는 있지만 cream, vermouth 없는 술 출력하기\n",
    "for k, v in drinks.items():\n",
    "    # if 'vodka' in v and 'cream' not in v and 'vermouth' not in v:\n",
    "    if 'vodka' in v and not('cream' in v or 'vermouth' in v):\n",
    "        print(k)"
   ]
  },
  {
   "cell_type": "code",
   "execution_count": 59,
   "id": "222088f3",
   "metadata": {},
   "outputs": [
    {
     "name": "stdout",
     "output_type": "stream",
     "text": [
      "{2, 3}\n",
      "{2, 3}\n",
      "{1, 2, 3, 4}\n",
      "{1, 2, 3, 4}\n",
      "{1}\n",
      "{4}\n",
      "{1} {4}\n"
     ]
    }
   ],
   "source": [
    "a = {1, 2, 3}\n",
    "b = {2, 3, 4}\n",
    "\n",
    "# 교집합 | intersection\n",
    "print(a.intersection(b))\n",
    "print(a & b)\n",
    "\n",
    "# 합집합 | union\n",
    "print(a.union(b))\n",
    "print(a | b)\n",
    "\n",
    "# 차집합 | difference\n",
    "print(a.difference(b))\n",
    "print(b.difference(a))\n",
    "print(a - b, b- a)\n"
   ]
  },
  {
   "cell_type": "code",
   "execution_count": 61,
   "id": "dfd28882",
   "metadata": {},
   "outputs": [
    {
     "name": "stdout",
     "output_type": "stream",
     "text": [
      "black russian\n",
      "screwdriver\n",
      "black russian\n",
      "screwdriver\n"
     ]
    }
   ],
   "source": [
    "# set을 활용해서 바꾸기\n",
    "# 1번 방법\n",
    "for k, v in drinks.items():\n",
    "    if ('vodka' in v) and not('cream' in v or 'vermouth' in v):\n",
    "        print(k)\n",
    "        \n",
    "# 2번 방법\n",
    "for k, v in drinks.items():\n",
    "    if {'vodka'} & v and not  {'cream', 'vermouth'} & v:\n",
    "        print(k)"
   ]
  },
  {
   "cell_type": "code",
   "execution_count": 62,
   "id": "9a590238",
   "metadata": {},
   "outputs": [
    {
     "data": {
      "text/plain": [
       "{0, 1, 2, 3, 4}"
      ]
     },
     "execution_count": 62,
     "metadata": {},
     "output_type": "execute_result"
    }
   ],
   "source": [
    "{s for s in range(5)} # 셋 컴프리헨션"
   ]
  },
  {
   "cell_type": "code",
   "execution_count": 63,
   "id": "1d61d5a2",
   "metadata": {},
   "outputs": [
    {
     "data": {
      "text/plain": [
       "frozenset({1, 2})"
      ]
     },
     "execution_count": 63,
     "metadata": {},
     "output_type": "execute_result"
    }
   ],
   "source": [
    "# frozenset => 가변객체를 불변객체로 바꿈\n",
    "set([1, 2])\n",
    "frozenset([1, 2])"
   ]
  },
  {
   "cell_type": "markdown",
   "id": "831cf9d6",
   "metadata": {},
   "source": [
    "### Project\n",
    "- 태스크를 해결\n",
    "- 수업 30분 동안 랜덤으로 코드 설명을 시킬 것 => 이해못하거나 성의 없거나 하면 점수X\n",
    "- 제출: 수요일 자정 "
   ]
  },
  {
   "cell_type": "code",
   "execution_count": 254,
   "id": "8d64847d",
   "metadata": {},
   "outputs": [
    {
     "name": "stdout",
     "output_type": "stream",
     "text": [
      "Requirement already satisfied: pylint in c:\\users\\jiin\\anaconda3\\lib\\site-packages (2.9.6)\n",
      "Requirement already satisfied: colorama in c:\\users\\jiin\\anaconda3\\lib\\site-packages (from pylint) (0.4.4)\n",
      "Requirement already satisfied: toml>=0.7.1 in c:\\users\\jiin\\anaconda3\\lib\\site-packages (from pylint) (0.10.2)\n",
      "Requirement already satisfied: isort<6,>=4.2.5 in c:\\users\\jiin\\anaconda3\\lib\\site-packages (from pylint) (5.9.3)\n",
      "Requirement already satisfied: astroid<2.7,>=2.6.5 in c:\\users\\jiin\\anaconda3\\lib\\site-packages (from pylint) (2.6.6)\n",
      "Requirement already satisfied: mccabe<0.7,>=0.6 in c:\\users\\jiin\\anaconda3\\lib\\site-packages (from pylint) (0.6.1)\n",
      "Requirement already satisfied: wrapt<1.13,>=1.11 in c:\\users\\jiin\\anaconda3\\lib\\site-packages (from astroid<2.7,>=2.6.5->pylint) (1.12.1)\n",
      "Requirement already satisfied: lazy-object-proxy>=1.4.0 in c:\\users\\jiin\\anaconda3\\lib\\site-packages (from astroid<2.7,>=2.6.5->pylint) (1.6.0)\n",
      "Requirement already satisfied: setuptools>=20.0 in c:\\users\\jiin\\anaconda3\\lib\\site-packages (from astroid<2.7,>=2.6.5->pylint) (58.0.4)\n",
      "************* Module example.py\n",
      "example.py:1:0: F0001: No module named example.py (fatal)\n",
      "Requirement already satisfied: pydocstyle in c:\\users\\jiin\\anaconda3\\lib\\site-packages (6.1.1)\n",
      "Requirement already satisfied: snowballstemmer in c:\\users\\jiin\\anaconda3\\lib\\site-packages (from pydocstyle) (2.1.0)\n"
     ]
    },
    {
     "name": "stderr",
     "output_type": "stream",
     "text": [
      "WARNING: Error in file example.py: [Errno 2] No such file or directory: 'example.py'\n"
     ]
    }
   ],
   "source": [
    "!pip install pylint\n",
    "!pylint example.py\n",
    "\n",
    "!pip install pydocstyle\n",
    "!pydocstyle example.py"
   ]
  },
  {
   "cell_type": "code",
   "execution_count": null,
   "id": "8f98898a",
   "metadata": {},
   "outputs": [],
   "source": []
  }
 ],
 "metadata": {
  "kernelspec": {
   "display_name": "Python 3 (ipykernel)",
   "language": "python",
   "name": "python3"
  },
  "language_info": {
   "codemirror_mode": {
    "name": "ipython",
    "version": 3
   },
   "file_extension": ".py",
   "mimetype": "text/x-python",
   "name": "python",
   "nbconvert_exporter": "python",
   "pygments_lexer": "ipython3",
   "version": "3.9.7"
  }
 },
 "nbformat": 4,
 "nbformat_minor": 5
}
