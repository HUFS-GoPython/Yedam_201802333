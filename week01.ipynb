{
 "cells": [
  {
   "cell_type": "markdown",
   "id": "12b1523f",
   "metadata": {},
   "source": [
    "# week_01\n",
    "\n",
    "# Markdown이란?\n",
    "\n",
    "- Markdown:일반 텍스트 문서의 양식을 편집하는 문법\n",
    "- Header(제목) : \"# + text\"\n",
    "         \"#\"의 개수로 Header의 크기를 조절 (1~6개)\n",
    "- \"-, +, -\"으로 점 표시 가능\n",
    "- run : Shift + Enter\n",
    "- \"M\"을 눌러 Markdown 셀로, \"Y\"를 눌러 Code 셀로 변환 가능\n",
    "\n",
    "# 프로그래밍이란?\n",
    "\n",
    "- programming : 프로그래밍 언어를 사용하여 프로그램을 개발하는 것\n",
    "- prgram : 일련의 작업을 자동화하는 것\n",
    "- python : 프로그래밍 언어 중 하나, 인간이 컴퓨터에게 작업을 명령하기 위해 컴퓨터가 이해할 수 있는 언어"
   ]
  },
  {
   "cell_type": "markdown",
   "id": "64e34cd5",
   "metadata": {},
   "source": [
    "# Ch2. Data : Types, Values, Variables, and Names"
   ]
  },
  {
   "cell_type": "code",
   "execution_count": 1,
   "id": "9e2a0eaa",
   "metadata": {},
   "outputs": [],
   "source": [
    "a = 2"
   ]
  },
  {
   "cell_type": "markdown",
   "id": "094b1ca1",
   "metadata": {},
   "source": [
    "- 변수(Variables) : 특정 값을 저장하는 공간 \"a\"\n",
    "- 값(Values) : \"2\"\n",
    "- 할당하다(Assign) : 변수에 값을 넣는 과정 \"a = 2\"\n",
    "    - 같다(Equal) : \"a == 2\", \"True or false\"\n",
    "- 자료형(Type) : 데이터의 형태"
   ]
  },
  {
   "cell_type": "code",
   "execution_count": 2,
   "id": "19bdaaf2",
   "metadata": {},
   "outputs": [
    {
     "data": {
      "text/plain": [
       "2"
      ]
     },
     "execution_count": 2,
     "metadata": {},
     "output_type": "execute_result"
    }
   ],
   "source": [
    "a"
   ]
  },
  {
   "cell_type": "code",
   "execution_count": 3,
   "id": "a95d205d",
   "metadata": {},
   "outputs": [
    {
     "data": {
      "text/plain": [
       "True"
      ]
     },
     "execution_count": 3,
     "metadata": {},
     "output_type": "execute_result"
    }
   ],
   "source": [
    "a == 2"
   ]
  },
  {
   "cell_type": "markdown",
   "id": "7af0596a",
   "metadata": {},
   "source": [
    "# 변수의 타입\n",
    "\n",
    "- boolean(True or False) - bool\n",
    "- integer(정수) -int\n",
    "- floating point(부동 소수점) - float\n",
    "- string(문자열 : 'text') - str"
   ]
  },
  {
   "cell_type": "code",
   "execution_count": 4,
   "id": "d68e406a",
   "metadata": {},
   "outputs": [
    {
     "data": {
      "text/plain": [
       "4"
      ]
     },
     "execution_count": 4,
     "metadata": {},
     "output_type": "execute_result"
    }
   ],
   "source": [
    "num = 4\n",
    "4"
   ]
  },
  {
   "cell_type": "code",
   "execution_count": 5,
   "id": "c9919d6d",
   "metadata": {},
   "outputs": [
    {
     "name": "stdout",
     "output_type": "stream",
     "text": [
      "4\n"
     ]
    }
   ],
   "source": [
    "print(num)"
   ]
  },
  {
   "cell_type": "code",
   "execution_count": 6,
   "id": "1bb3a530",
   "metadata": {},
   "outputs": [
    {
     "data": {
      "text/plain": [
       "int"
      ]
     },
     "execution_count": 6,
     "metadata": {},
     "output_type": "execute_result"
    }
   ],
   "source": [
    "type(num)"
   ]
  },
  {
   "cell_type": "code",
   "execution_count": 7,
   "id": "2f8c05a4",
   "metadata": {},
   "outputs": [
    {
     "data": {
      "text/plain": [
       "float"
      ]
     },
     "execution_count": 7,
     "metadata": {},
     "output_type": "execute_result"
    }
   ],
   "source": [
    "type(1.0)"
   ]
  },
  {
   "cell_type": "code",
   "execution_count": 8,
   "id": "72144920",
   "metadata": {},
   "outputs": [
    {
     "data": {
      "text/plain": [
       "bool"
      ]
     },
     "execution_count": 8,
     "metadata": {},
     "output_type": "execute_result"
    }
   ],
   "source": [
    "type(a==2)"
   ]
  },
  {
   "cell_type": "code",
   "execution_count": 9,
   "id": "964ee215",
   "metadata": {},
   "outputs": [
    {
     "name": "stdout",
     "output_type": "stream",
     "text": [
      "my name\n"
     ]
    }
   ],
   "source": [
    "name = 'my name'\n",
    "print(name)"
   ]
  },
  {
   "cell_type": "code",
   "execution_count": 10,
   "id": "ba99cecf",
   "metadata": {},
   "outputs": [
    {
     "data": {
      "text/plain": [
       "str"
      ]
     },
     "execution_count": 10,
     "metadata": {},
     "output_type": "execute_result"
    }
   ],
   "source": [
    "type(name)"
   ]
  },
  {
   "cell_type": "code",
   "execution_count": 11,
   "id": "bb1e7567",
   "metadata": {},
   "outputs": [
    {
     "ename": "NameError",
     "evalue": "name 'my_name' is not defined",
     "output_type": "error",
     "traceback": [
      "\u001b[1;31m---------------------------------------------------------------------------\u001b[0m",
      "\u001b[1;31mNameError\u001b[0m                                 Traceback (most recent call last)",
      "\u001b[1;32m~\\AppData\\Local\\Temp/ipykernel_18680/1131143263.py\u001b[0m in \u001b[0;36m<module>\u001b[1;34m\u001b[0m\n\u001b[1;32m----> 1\u001b[1;33m \u001b[0mmy_name\u001b[0m \u001b[1;31m# 변수명으로 인식이 없는 변수 -> 에러\u001b[0m\u001b[1;33m\u001b[0m\u001b[1;33m\u001b[0m\u001b[0m\n\u001b[0m",
      "\u001b[1;31mNameError\u001b[0m: name 'my_name' is not defined"
     ]
    }
   ],
   "source": [
    "my_name # 변수명으로 인식이 없는 변수 -> 에러"
   ]
  },
  {
   "cell_type": "code",
   "execution_count": 12,
   "id": "d60b2e8c",
   "metadata": {},
   "outputs": [
    {
     "name": "stdout",
     "output_type": "stream",
     "text": [
      "I'm sam\n",
      "I'm Sam\n"
     ]
    }
   ],
   "source": [
    "# single quote 안에 single quite를 문자로 인식\n",
    "# I'm Sam\n",
    "\n",
    "# 1. \\ 사용\n",
    "print('I\\'m sam')\n",
    "\n",
    "# 2. \"\" 사용\n",
    "print(\"I'm Sam\")"
   ]
  },
  {
   "cell_type": "markdown",
   "id": "2879a2f6",
   "metadata": {},
   "source": [
    "# 변수명 정하기\n",
    "\n",
    "- 소문자,대문자, 숫자, 언더바를 사용한다.\n",
    "- 변수명으로 사용할 수 없는 케이스\n",
    "    1. 숫자로 시작할 수 없다.\n",
    "    2. 예약어는 사용할 수 없다.\n"
   ]
  },
  {
   "cell_type": "code",
   "execution_count": 13,
   "id": "6a048aa3",
   "metadata": {},
   "outputs": [
    {
     "name": "stdout",
     "output_type": "stream",
     "text": [
      "juliette,jessica,laura\n"
     ]
    }
   ],
   "source": [
    "name = 'juliette'\n",
    "name1 = 'jessica'\n",
    "my_name = 'laura'\n",
    "# myName : 카멜표기법\n",
    "print(name, name1, my_name, sep=',')"
   ]
  },
  {
   "cell_type": "code",
   "execution_count": 14,
   "id": "ac0016af",
   "metadata": {},
   "outputs": [
    {
     "data": {
      "text/plain": [
       "'Lee'"
      ]
     },
     "execution_count": 14,
     "metadata": {},
     "output_type": "execute_result"
    }
   ],
   "source": [
    "name = 'Lee'\n",
    "name"
   ]
  },
  {
   "cell_type": "code",
   "execution_count": 15,
   "id": "0c94d883",
   "metadata": {},
   "outputs": [
    {
     "ename": "SyntaxError",
     "evalue": "invalid syntax (Temp/ipykernel_18680/859792170.py, line 1)",
     "output_type": "error",
     "traceback": [
      "\u001b[1;36m  File \u001b[1;32m\"C:\\Users\\User\\AppData\\Local\\Temp/ipykernel_18680/859792170.py\"\u001b[1;36m, line \u001b[1;32m1\u001b[0m\n\u001b[1;33m    3name = 'kim'\u001b[0m\n\u001b[1;37m     ^\u001b[0m\n\u001b[1;31mSyntaxError\u001b[0m\u001b[1;31m:\u001b[0m invalid syntax\n"
     ]
    }
   ],
   "source": [
    "3name = 'kim' \n",
    "# 숫자는 변수명 맨 앞에 올 수 없다."
   ]
  },
  {
   "cell_type": "code",
   "execution_count": 16,
   "id": "e0bf5d75",
   "metadata": {},
   "outputs": [
    {
     "ename": "SyntaxError",
     "evalue": "invalid syntax (Temp/ipykernel_18680/2839726190.py, line 1)",
     "output_type": "error",
     "traceback": [
      "\u001b[1;36m  File \u001b[1;32m\"C:\\Users\\User\\AppData\\Local\\Temp/ipykernel_18680/2839726190.py\"\u001b[1;36m, line \u001b[1;32m1\u001b[0m\n\u001b[1;33m    def = 'hwang'\u001b[0m\n\u001b[1;37m        ^\u001b[0m\n\u001b[1;31mSyntaxError\u001b[0m\u001b[1;31m:\u001b[0m invalid syntax\n"
     ]
    }
   ],
   "source": [
    "def = 'hwang'\n",
    "# 예약어는 변수명으로 사용할 수 없다."
   ]
  },
  {
   "cell_type": "markdown",
   "id": "c16de206",
   "metadata": {},
   "source": [
    "- 주의할 점 (특별한 용도가 있어서 일반적으로 사용하지 않는 변수명 타입)\n",
    "    1. 언더바로 시작하는 변수명 ex) _name\n",
    "    2. 언더바가 2개 있는 변수명 ex) name\n",
    "    3. 대문자로 시작하는 변수명 ex) Car\n",
    "    4. 전체가 대문자인 변수명 ex) CAR"
   ]
  },
  {
   "cell_type": "code",
   "execution_count": 17,
   "id": "e4b3a2e2",
   "metadata": {},
   "outputs": [],
   "source": [
    "# number != Number\n",
    "word1 = 'number'\n",
    "word2 = 'Number'"
   ]
  },
  {
   "cell_type": "code",
   "execution_count": 18,
   "id": "5a952baa",
   "metadata": {},
   "outputs": [
    {
     "data": {
      "text/plain": [
       "False"
      ]
     },
     "execution_count": 18,
     "metadata": {},
     "output_type": "execute_result"
    }
   ],
   "source": [
    "word1 == word2 #대소문자 구분한다."
   ]
  },
  {
   "cell_type": "code",
   "execution_count": 19,
   "id": "1bc28b02",
   "metadata": {},
   "outputs": [
    {
     "data": {
      "text/plain": [
       "True"
      ]
     },
     "execution_count": 19,
     "metadata": {},
     "output_type": "execute_result"
    }
   ],
   "source": [
    "word1 != word2"
   ]
  },
  {
   "cell_type": "code",
   "execution_count": 21,
   "id": "cd0853cf",
   "metadata": {},
   "outputs": [
    {
     "name": "stdout",
     "output_type": "stream",
     "text": [
      "\n",
      "Here is a list of the Python keywords.  Enter any keyword to get more help.\n",
      "\n",
      "False               break               for                 not\n",
      "None                class               from                or\n",
      "True                continue            global              pass\n",
      "__peg_parser__      def                 if                  raise\n",
      "and                 del                 import              return\n",
      "as                  elif                in                  try\n",
      "assert              else                is                  while\n",
      "async               except              lambda              with\n",
      "await               finally             nonlocal            yield\n",
      "\n"
     ]
    }
   ],
   "source": [
    "help(\"keywords\") #예약어"
   ]
  },
  {
   "cell_type": "markdown",
   "id": "31d383dc",
   "metadata": {},
   "source": [
    "# 할당하기\n",
    "\n",
    "- 수학에서 =가 양변이 같음을 의미하지만, 프로그램에서는 할당을 의미\n",
    "- 오른쪽에 있는 모든 것은 값을 가져아한다. (\"초기화\")\n",
    "- 같은 변수에 다른 값을 넣을 수 있다.\n",
    "- 변수 타입은 따로 지정하지 않는다."
   ]
  },
  {
   "cell_type": "code",
   "execution_count": 22,
   "id": "2edf8e10",
   "metadata": {},
   "outputs": [],
   "source": [
    "car = 'hyundai'"
   ]
  },
  {
   "cell_type": "code",
   "execution_count": 24,
   "id": "0d4fa941",
   "metadata": {},
   "outputs": [],
   "source": [
    "kia = 'kia' # 값을 초기화 해주는 것 => 가능\n",
    "truck = kia # 없는 값 => 불가능"
   ]
  },
  {
   "cell_type": "code",
   "execution_count": 25,
   "id": "2fd614a8",
   "metadata": {},
   "outputs": [
    {
     "name": "stdout",
     "output_type": "stream",
     "text": [
      "2 12\n"
     ]
    }
   ],
   "source": [
    "x = 2\n",
    "y = x + 10 # name 'x' is not defined\n",
    "print(x,y)"
   ]
  },
  {
   "cell_type": "code",
   "execution_count": 26,
   "id": "340f8ac7",
   "metadata": {},
   "outputs": [
    {
     "data": {
      "text/plain": [
       "str"
      ]
     },
     "execution_count": 26,
     "metadata": {},
     "output_type": "execute_result"
    }
   ],
   "source": [
    "type(car)"
   ]
  },
  {
   "cell_type": "code",
   "execution_count": 27,
   "id": "a463272e",
   "metadata": {},
   "outputs": [],
   "source": [
    "# str car = 'kia'\n",
    "car = 'kia'"
   ]
  },
  {
   "cell_type": "code",
   "execution_count": 28,
   "id": "a5d62db8",
   "metadata": {},
   "outputs": [
    {
     "data": {
      "text/plain": [
       "'kia'"
      ]
     },
     "execution_count": 28,
     "metadata": {},
     "output_type": "execute_result"
    }
   ],
   "source": [
    "car #hyundai가 아닌 kia로 나옴, 변수명 헷갈리지 않게 설정하기"
   ]
  },
  {
   "cell_type": "code",
   "execution_count": 29,
   "id": "f3f0fd82",
   "metadata": {},
   "outputs": [
    {
     "data": {
      "text/plain": [
       "4"
      ]
     },
     "execution_count": 29,
     "metadata": {},
     "output_type": "execute_result"
    }
   ],
   "source": [
    "name = 'kim'\n",
    "name = 'lee'\n",
    "name = 'park'\n",
    "name = 4\n",
    "name # 변수명 동일하게 사용하지 않기, 마지막 값 출력"
   ]
  },
  {
   "cell_type": "markdown",
   "id": "f58d9c68",
   "metadata": {},
   "source": [
    "# 연습문제\n",
    "\n",
    "1. 정수 99를 변수 prince에 할당하고 출력해보기\n",
    "2. 값 5는 어떤 타입인가?\n",
    "3. 값 2.0은 어떤 타입인가?\n",
    "4. 표현식 5.0 + 2.0은 어떤 타입인가?"
   ]
  },
  {
   "cell_type": "code",
   "execution_count": 30,
   "id": "8d035a04",
   "metadata": {},
   "outputs": [
    {
     "name": "stdout",
     "output_type": "stream",
     "text": [
      "99\n"
     ]
    }
   ],
   "source": [
    "1.\n",
    "prince = 99\n",
    "print(prince)"
   ]
  },
  {
   "cell_type": "code",
   "execution_count": 31,
   "id": "80d531b4",
   "metadata": {},
   "outputs": [
    {
     "data": {
      "text/plain": [
       "int"
      ]
     },
     "execution_count": 31,
     "metadata": {},
     "output_type": "execute_result"
    }
   ],
   "source": [
    "2.\n",
    "type(5)"
   ]
  },
  {
   "cell_type": "code",
   "execution_count": 32,
   "id": "4d0a8152",
   "metadata": {},
   "outputs": [
    {
     "data": {
      "text/plain": [
       "float"
      ]
     },
     "execution_count": 32,
     "metadata": {},
     "output_type": "execute_result"
    }
   ],
   "source": [
    "3.\n",
    "type(2.0)"
   ]
  },
  {
   "cell_type": "code",
   "execution_count": 33,
   "id": "3168442c",
   "metadata": {},
   "outputs": [
    {
     "data": {
      "text/plain": [
       "float"
      ]
     },
     "execution_count": 33,
     "metadata": {},
     "output_type": "execute_result"
    }
   ],
   "source": [
    "type(5.0 + 2.0)"
   ]
  },
  {
   "cell_type": "code",
   "execution_count": null,
   "id": "5fd2164e",
   "metadata": {},
   "outputs": [],
   "source": []
  }
 ],
 "metadata": {
  "kernelspec": {
   "display_name": "Python 3 (ipykernel)",
   "language": "python",
   "name": "python3"
  },
  "language_info": {
   "codemirror_mode": {
    "name": "ipython",
    "version": 3
   },
   "file_extension": ".py",
   "mimetype": "text/x-python",
   "name": "python",
   "nbconvert_exporter": "python",
   "pygments_lexer": "ipython3",
   "version": "3.9.7"
  }
 },
 "nbformat": 4,
 "nbformat_minor": 5
}
