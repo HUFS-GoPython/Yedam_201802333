{
 "cells": [
  {
   "cell_type": "markdown",
   "id": "c17f0809",
   "metadata": {},
   "source": [
    "## Ch02. Variable\n",
    "- string (문자열)\n",
    "- float (소수)\n",
    "- integer (정수)\n",
    "- boolean (참과 거짓)"
   ]
  },
  {
   "cell_type": "code",
   "execution_count": 31,
   "id": "5ab755e2",
   "metadata": {
    "scrolled": true
   },
   "outputs": [
    {
     "data": {
      "text/plain": [
       "2"
      ]
     },
     "execution_count": 31,
     "metadata": {},
     "output_type": "execute_result"
    }
   ],
   "source": [
    "# 여러 이름 동시에 할당\n",
    "two = deux = dos = 2 # dos -> deux -> two (역순으로 값이 할당됨.)\n",
    "two"
   ]
  },
  {
   "cell_type": "code",
   "execution_count": 32,
   "id": "bd9487b5",
   "metadata": {},
   "outputs": [
    {
     "name": "stdout",
     "output_type": "stream",
     "text": [
      "4 2\n"
     ]
    }
   ],
   "source": [
    "# 하나의 변수에 다른 값을 할당해도 불변객체이므로 나머지 값은 바뀌지 않는다.\n",
    "two = 4\n",
    "print(two, deux)\n",
    "# two != deux"
   ]
  },
  {
   "cell_type": "code",
   "execution_count": 33,
   "id": "f16f9824",
   "metadata": {},
   "outputs": [
    {
     "data": {
      "text/plain": [
       "(2032790825360, 2032790825296)"
      ]
     },
     "execution_count": 33,
     "metadata": {},
     "output_type": "execute_result"
    }
   ],
   "source": [
    "id(two), id(deux)\n",
    "#id(변수가 저장된 메모리 주소를 찾는 함수)\n",
    "# id의 값이 달라짐"
   ]
  },
  {
   "cell_type": "code",
   "execution_count": 15,
   "id": "6deb2c01",
   "metadata": {},
   "outputs": [
    {
     "data": {
      "text/plain": [
       "([1, 2, 3], [1, 2, 3])"
      ]
     },
     "execution_count": 15,
     "metadata": {},
     "output_type": "execute_result"
    }
   ],
   "source": [
    "#리스트는 가변 객체\n",
    "p = [1, 2, 3]\n",
    "q = p\n",
    "p, q"
   ]
  },
  {
   "cell_type": "code",
   "execution_count": 16,
   "id": "1268fb51",
   "metadata": {},
   "outputs": [
    {
     "data": {
      "text/plain": [
       "(2032870913216, 2032870913216)"
      ]
     },
     "execution_count": 16,
     "metadata": {},
     "output_type": "execute_result"
    }
   ],
   "source": [
    "id(p), id(q)"
   ]
  },
  {
   "cell_type": "code",
   "execution_count": 18,
   "id": "ae5462f6",
   "metadata": {},
   "outputs": [
    {
     "data": {
      "text/plain": [
       "([9, 2, 3], [9, 2, 3])"
      ]
     },
     "execution_count": 18,
     "metadata": {},
     "output_type": "execute_result"
    }
   ],
   "source": [
    "p[0] = 9\n",
    "p, q\n",
    "# q의 값이 자동으로 바뀜"
   ]
  },
  {
   "cell_type": "code",
   "execution_count": 19,
   "id": "db38f3eb",
   "metadata": {},
   "outputs": [
    {
     "data": {
      "text/plain": [
       "(2032870913216, 2032870913216)"
      ]
     },
     "execution_count": 19,
     "metadata": {},
     "output_type": "execute_result"
    }
   ],
   "source": [
    "id(p), id(q)\n",
    "# id의 값도 동일"
   ]
  },
  {
   "cell_type": "markdown",
   "id": "495cf312",
   "metadata": {},
   "source": [
    "### ID 함수에 관하여\n",
    "- 변수에는 공간이 위치하는 곳인 주소가 있다. 그것을 id함수로 찾는다. 즉, id()는 변수가 저장된 메모리 주소를 찾는 함수 \n",
    "- 주소는 때에 따라, 컴퓨터에 따라 다 달라짐. 불변 객체가 변할 때, 메모리 주소가 바뀌는 것만 알고 있으면 됨."
   ]
  },
  {
   "cell_type": "markdown",
   "id": "ce71fc09",
   "metadata": {},
   "source": [
    "### 좋은 변수명\n",
    "- 간결하고 명확한 이름\n",
    "- 의미가 담겨야 함.\n",
    "a,b,c, ... <- 지양해야함.\n",
    "- 코드에는 의미가 담기고 주석에는 의도가 담긴다.\n",
    "    - 예: the number of students\n",
    "    n < the_nuber_of_students(너무 긺, 오타가 생길 가능성이 큼) < num_students\n",
    "    - 카멜표기법: numStudents(낙타 등 모양과 비슷)"
   ]
  },
  {
   "cell_type": "markdown",
   "id": "d79ed0b0",
   "metadata": {},
   "source": [
    "### 자료형 변환, 형 변환\n",
    "- 정수 -> 실수, 실수 -> 정수\n",
    "- str(<변환할 값>), int(), float(),bool()"
   ]
  },
  {
   "cell_type": "code",
   "execution_count": 12,
   "id": "243bf1e4",
   "metadata": {},
   "outputs": [
    {
     "data": {
      "text/plain": [
       "True"
      ]
     },
     "execution_count": 12,
     "metadata": {},
     "output_type": "execute_result"
    }
   ],
   "source": [
    "a = 10\n",
    "#str\n",
    "str(a)\n",
    "\n",
    "#float\n",
    "float(a)\n",
    "\n",
    "#bool\n",
    "bool(a) # 어떤 값이 False로 변환이 되는지 기억"
   ]
  },
  {
   "cell_type": "markdown",
   "id": "cb3b31cb",
   "metadata": {},
   "source": [
    "- 주의할 점1: float -> int"
   ]
  },
  {
   "cell_type": "code",
   "execution_count": 25,
   "id": "f8f23ded",
   "metadata": {},
   "outputs": [
    {
     "data": {
      "text/plain": [
       "10"
      ]
     },
     "execution_count": 25,
     "metadata": {},
     "output_type": "execute_result"
    }
   ],
   "source": [
    "x = 10.7 # 소수점 내림\n",
    "int(x)"
   ]
  },
  {
   "cell_type": "code",
   "execution_count": 28,
   "id": "090fc2f0",
   "metadata": {},
   "outputs": [
    {
     "name": "stdout",
     "output_type": "stream",
     "text": [
      "30\n",
      "29\n"
     ]
    }
   ],
   "source": [
    "y = 19.8\n",
    "\n",
    "print(int(x + y)) # 10.7 + 19.8 을 int로 변환\n",
    "print(int(x) + int(y)) # 10 + 19\n",
    "#결과 값이 달라진다."
   ]
  },
  {
   "cell_type": "markdown",
   "id": "1b4d1cec",
   "metadata": {},
   "source": [
    "- 주의할 점2:str -> int/float"
   ]
  },
  {
   "cell_type": "code",
   "execution_count": 15,
   "id": "37ae4caa",
   "metadata": {},
   "outputs": [
    {
     "data": {
      "text/plain": [
       "(10, 10.0)"
      ]
     },
     "execution_count": 15,
     "metadata": {},
     "output_type": "execute_result"
    }
   ],
   "source": [
    "i = '10'\n",
    "int(i), float(i)"
   ]
  },
  {
   "cell_type": "code",
   "execution_count": 16,
   "id": "d2c0a996",
   "metadata": {},
   "outputs": [
    {
     "ename": "ValueError",
     "evalue": "invalid literal for int() with base 10: '10.7'",
     "output_type": "error",
     "traceback": [
      "\u001b[1;31m---------------------------------------------------------------------------\u001b[0m",
      "\u001b[1;31mValueError\u001b[0m                                Traceback (most recent call last)",
      "\u001b[1;32m~\\AppData\\Local\\Temp/ipykernel_4288/1630938160.py\u001b[0m in \u001b[0;36m<module>\u001b[1;34m\u001b[0m\n\u001b[0;32m      1\u001b[0m \u001b[0mj\u001b[0m \u001b[1;33m=\u001b[0m \u001b[1;34m'10.7'\u001b[0m\u001b[1;33m\u001b[0m\u001b[1;33m\u001b[0m\u001b[0m\n\u001b[1;32m----> 2\u001b[1;33m \u001b[0mint\u001b[0m\u001b[1;33m(\u001b[0m\u001b[0mj\u001b[0m\u001b[1;33m)\u001b[0m\u001b[1;33m\u001b[0m\u001b[1;33m\u001b[0m\u001b[0m\n\u001b[0m",
      "\u001b[1;31mValueError\u001b[0m: invalid literal for int() with base 10: '10.7'"
     ]
    }
   ],
   "source": [
    "j = '10.7'\n",
    "int(j)\n",
    "#int와 맞지않는 것을 바꾸려 하면 에러가 난다."
   ]
  },
  {
   "cell_type": "markdown",
   "id": "65370a46",
   "metadata": {},
   "source": [
    "### 꿀팁: print()"
   ]
  },
  {
   "cell_type": "code",
   "execution_count": 35,
   "id": "8079ee9b",
   "metadata": {},
   "outputs": [
    {
     "name": "stdout",
     "output_type": "stream",
     "text": [
      "dogcatlion\n",
      "dog cat lion\n"
     ]
    }
   ],
   "source": [
    "dog = 'dog'\n",
    "cat = 'cat'\n",
    "lion = 'lion'\n",
    "\n",
    "print(dog + cat + lion) # space X, \\n\n",
    "print(dog, cat, lion) # space O, \\n "
   ]
  },
  {
   "cell_type": "code",
   "execution_count": 41,
   "id": "e627022a",
   "metadata": {},
   "outputs": [
    {
     "name": "stdout",
     "output_type": "stream",
     "text": [
      "dog cat lion\n",
      "dog/cat/lion\n",
      "\n",
      "EOL\n"
     ]
    }
   ],
   "source": [
    "print(dog, cat, lion, sep=' ', end='\\n') #default\n",
    "#sep의 디폴트는 띄어쓰기, end의 디폴트는 개행\n",
    "print(dog, cat, lion, sep='/', end='\\n\\n')\n",
    "print('EOL')"
   ]
  },
  {
   "cell_type": "code",
   "execution_count": 43,
   "id": "0a29d2c5",
   "metadata": {},
   "outputs": [
    {
     "name": "stdout",
     "output_type": "stream",
     "text": [
      "My favorite animal is  dog\n",
      "My favorite animal is dog.\n"
     ]
    }
   ],
   "source": [
    "#1\n",
    "print(\"My favorite animal is \", dog)\n",
    "#2\n",
    "print(f\"My favorite animal is {dog}.\")"
   ]
  },
  {
   "cell_type": "markdown",
   "id": "3c6f59dd",
   "metadata": {},
   "source": [
    "코드 줄이 짧을 때 ;(semicolon)을 이용해 한 줄로 쓸 수 있다."
   ]
  },
  {
   "cell_type": "code",
   "execution_count": 24,
   "id": "c36b2939",
   "metadata": {},
   "outputs": [
    {
     "name": "stdout",
     "output_type": "stream",
     "text": [
      "dog\n"
     ]
    }
   ],
   "source": [
    "dog = 'dog'; cat = 'cat'; lion = 'lion'\n",
    "print(dog)"
   ]
  },
  {
   "cell_type": "markdown",
   "id": "44ff107e",
   "metadata": {},
   "source": [
    "## input() 함수\n",
    "- console에서 사용자가 입력하는 값을 받을 수 있는 함수\n",
    "- 입력 받는 값은 문자열로 인식이 된다.\n",
    "- 숫자일 경우 형 변환을 해야 한다."
   ]
  },
  {
   "cell_type": "code",
   "execution_count": 32,
   "id": "d4ab13ce",
   "metadata": {},
   "outputs": [
    {
     "name": "stdout",
     "output_type": "stream",
     "text": [
      "Hello? Hi\n"
     ]
    },
    {
     "data": {
      "text/plain": [
       "' Hi'"
      ]
     },
     "execution_count": 32,
     "metadata": {},
     "output_type": "execute_result"
    }
   ],
   "source": [
    "input(\"Hello?\")"
   ]
  },
  {
   "cell_type": "code",
   "execution_count": 31,
   "id": "dfcdee31",
   "metadata": {},
   "outputs": [
    {
     "name": "stdout",
     "output_type": "stream",
     "text": [
      "나이가 어떻게 되나요? 55\n"
     ]
    },
    {
     "data": {
      "text/plain": [
       "55"
      ]
     },
     "execution_count": 31,
     "metadata": {},
     "output_type": "execute_result"
    }
   ],
   "source": [
    "int(input('나이가 어떻게 되나요?'))"
   ]
  },
  {
   "cell_type": "markdown",
   "id": "7f9f6932",
   "metadata": {},
   "source": [
    "- 변수에 할당하는 방법"
   ]
  },
  {
   "cell_type": "code",
   "execution_count": 39,
   "id": "336e546b",
   "metadata": {},
   "outputs": [
    {
     "name": "stdout",
     "output_type": "stream",
     "text": [
      "나이가 어떻게 되나요?15\n"
     ]
    }
   ],
   "source": [
    "#1.\n",
    "age = int(input('나이가 어떻게 되나요?'))\n",
    "# 숫자로 형 변환"
   ]
  },
  {
   "cell_type": "code",
   "execution_count": 40,
   "id": "5bbbd0d9",
   "metadata": {},
   "outputs": [
    {
     "data": {
      "text/plain": [
       "15"
      ]
     },
     "execution_count": 40,
     "metadata": {},
     "output_type": "execute_result"
    }
   ],
   "source": [
    "age"
   ]
  },
  {
   "cell_type": "code",
   "execution_count": 44,
   "id": "2f4db958",
   "metadata": {},
   "outputs": [
    {
     "name": "stdout",
     "output_type": "stream",
     "text": [
      "나이가?\n",
      "88\n"
     ]
    }
   ],
   "source": [
    "#2.\n",
    "print(\"나이가?\")\n",
    "age=input()\n",
    "# 숫자로 형 변환하지 않음"
   ]
  },
  {
   "cell_type": "code",
   "execution_count": 43,
   "id": "2449f8ba",
   "metadata": {
    "scrolled": false
   },
   "outputs": [
    {
     "data": {
      "text/plain": [
       "'88'"
      ]
     },
     "execution_count": 43,
     "metadata": {},
     "output_type": "execute_result"
    }
   ],
   "source": [
    "age"
   ]
  },
  {
   "cell_type": "markdown",
   "id": "7dd9d01e",
   "metadata": {},
   "source": [
    "## Quiz 1\n",
    "- 섭씨를 입력 받아서 화씨로 변환하기\n",
    "- '섭씨 * 1.8 + 32 = 화씨'"
   ]
  },
  {
   "cell_type": "code",
   "execution_count": 45,
   "id": "a4d70893",
   "metadata": {},
   "outputs": [
    {
     "name": "stdout",
     "output_type": "stream",
     "text": [
      "섭씨를 입력하세요. 100\n",
      "화씨 = 212.0\n"
     ]
    }
   ],
   "source": [
    "celsius = float(input(\"섭씨를 입력하세요. \"))\n",
    "fahrenheit = celsius * 1.8 + 32\n",
    "print(f'화씨 = {fahrenheit}')"
   ]
  },
  {
   "cell_type": "markdown",
   "id": "4bbc2093",
   "metadata": {},
   "source": [
    "### Quiz 2\n",
    "- 택배 정보 입력 받고, 총 합계 계산하기\n",
    "- 출력값:\n",
    "    - '==택배 정보=='\n",
    "    - 수취인 성명: <이름>\n",
    "    - 수취인 주소: <주소>\n",
    "    - 배송비: 3000원\n",
    "    - 물건 비용: <가격>원\n",
    "    - 총 합계: < 가격>원\n",
    "- 물건 비용 = 무게(g) * 5\n",
    "- 합계 = 배송비 + 물건 비용\n",
    "\n",
    "입력값: 이름, 주소, 무게"
   ]
  },
  {
   "cell_type": "code",
   "execution_count": 53,
   "id": "90c0383f",
   "metadata": {},
   "outputs": [
    {
     "name": "stdout",
     "output_type": "stream",
     "text": [
      "이름을 입력하세요: 유예담\n",
      "주소를 입력하세요: 서울시\n",
      "무게를 입력하세요: 200\n",
      "수취인 성명: <유예담>\n",
      "수취인 주소: <서울시>\n",
      "물건 비용은 1000원 입니다.\n",
      "총 합계는 4000원 입니다.\n"
     ]
    }
   ],
   "source": [
    "name = input(\"이름을 입력하세요: \")\n",
    "address = input(\"주소를 입력하세요: \")\n",
    "weight = float(input(\"무게를 입력하세요: \"))\n",
    "\n",
    "\n",
    "delivery_cost = 3000\n",
    "item_cost = weight * 5\n",
    "item_cost = int(item_cost)\n",
    "total_cost = delivery_cost + item_cost\n",
    "\n",
    "\n",
    "print(f'수취인 성명: <{name}>')\n",
    "print(f'수취인 주소: <{address}>')\n",
    "print(f'물건 비용은 {item_cost}원 입니다.')\n",
    "print(f'총 합계는 {total_cost}원 입니다.')"
   ]
  },
  {
   "cell_type": "markdown",
   "id": "f9f32e9b",
   "metadata": {},
   "source": [
    "## Ch03. Numbers\n",
    "\n",
    "### boolean\n",
    "\n",
    "- 형 변환할 때 True, False인지 기억하라\n",
    "    - \", Nonem 0, ...\n",
    "- 조건식에서 많이 쓴다. 예: 만약 이 조건이 Ture라면, ..."
   ]
  },
  {
   "cell_type": "code",
   "execution_count": 55,
   "id": "2ede0fa9",
   "metadata": {},
   "outputs": [
    {
     "data": {
      "text/plain": [
       "True"
      ]
     },
     "execution_count": 55,
     "metadata": {},
     "output_type": "execute_result"
    }
   ],
   "source": [
    "bool(1)"
   ]
  },
  {
   "cell_type": "code",
   "execution_count": 56,
   "id": "0a9af7f2",
   "metadata": {},
   "outputs": [
    {
     "data": {
      "text/plain": [
       "False"
      ]
     },
     "execution_count": 56,
     "metadata": {},
     "output_type": "execute_result"
    }
   ],
   "source": [
    "bool('')"
   ]
  },
  {
   "cell_type": "markdown",
   "id": "37764cef",
   "metadata": {},
   "source": [
    "#### integer\n",
    "\n",
    "- 소수점 없음\n",
    "- default 양수, 음수는 앞에 -를 붙인다.\n",
    "숫자 앞에는 0을 붙일 수 없다. 예: 05\n",
    "    - 예외적으로 0bxxx. => 다른 진수 표현\n",
    "- 리터럴:4\n",
    "- 공백이 많아도 무시가 된다.\n",
    "- 10.000원 -> 10,000원 두개로 인식 => '_' 사용\n",
    "    - 예: 10_000"
   ]
  },
  {
   "cell_type": "code",
   "execution_count": 58,
   "id": "396d6f91",
   "metadata": {
    "scrolled": true
   },
   "outputs": [
    {
     "data": {
      "text/plain": [
       "-1"
      ]
     },
     "execution_count": 58,
     "metadata": {},
     "output_type": "execute_result"
    }
   ],
   "source": [
    "a = -9\n",
    "8 + a"
   ]
  },
  {
   "cell_type": "code",
   "execution_count": 59,
   "id": "b8729d89",
   "metadata": {},
   "outputs": [
    {
     "ename": "SyntaxError",
     "evalue": "leading zeros in decimal integer literals are not permitted; use an 0o prefix for octal integers (Temp/ipykernel_4288/2890110653.py, line 1)",
     "output_type": "error",
     "traceback": [
      "\u001b[1;36m  File \u001b[1;32m\"C:\\Users\\jiin\\AppData\\Local\\Temp/ipykernel_4288/2890110653.py\"\u001b[1;36m, line \u001b[1;32m1\u001b[0m\n\u001b[1;33m    a = 09\u001b[0m\n\u001b[1;37m         ^\u001b[0m\n\u001b[1;31mSyntaxError\u001b[0m\u001b[1;31m:\u001b[0m leading zeros in decimal integer literals are not permitted; use an 0o prefix for octal integers\n"
     ]
    }
   ],
   "source": [
    "a = 09"
   ]
  },
  {
   "cell_type": "code",
   "execution_count": 60,
   "id": "98e65bcb",
   "metadata": {},
   "outputs": [
    {
     "data": {
      "text/plain": [
       "-1"
      ]
     },
     "execution_count": 60,
     "metadata": {},
     "output_type": "execute_result"
    }
   ],
   "source": [
    "-9 + 8"
   ]
  },
  {
   "cell_type": "code",
   "execution_count": 61,
   "id": "ec104795",
   "metadata": {},
   "outputs": [
    {
     "name": "stdout",
     "output_type": "stream",
     "text": [
      "10000\n"
     ]
    }
   ],
   "source": [
    "a = 10_000\n",
    "print(a)"
   ]
  },
  {
   "cell_type": "markdown",
   "id": "7e5ec1a8",
   "metadata": {},
   "source": [
    "### 연산\n",
    "- 연산자operatior: +, -, \n",
    "- 피연산자operatior: 4, 5, ...\n",
    "- 수식(expression)"
   ]
  },
  {
   "cell_type": "code",
   "execution_count": 48,
   "id": "8b308898",
   "metadata": {},
   "outputs": [
    {
     "data": {
      "text/plain": [
       "262144"
      ]
     },
     "execution_count": 48,
     "metadata": {},
     "output_type": "execute_result"
    }
   ],
   "source": [
    "x=4\n",
    "y=9\n",
    "\n",
    "x + y\n",
    "x - y\n",
    "x * y\n",
    "x / 4\n",
    "\n",
    "#거듭제곡(exponential)\n",
    "x ** y\n"
   ]
  },
  {
   "cell_type": "markdown",
   "id": "13ccabf7",
   "metadata": {},
   "source": [
    "나눗셈이서 주의할 사항"
   ]
  },
  {
   "cell_type": "code",
   "execution_count": 49,
   "id": "9421750a",
   "metadata": {},
   "outputs": [
    {
     "data": {
      "text/plain": [
       "(0, 4, 0.4444444444444444)"
      ]
     },
     "execution_count": 49,
     "metadata": {},
     "output_type": "execute_result"
    }
   ],
   "source": [
    "#1. division by zero => 주의(y!=0)\n",
    "#2. 몫, 나머지\n",
    "x //y, x % y, x / y"
   ]
  },
  {
   "cell_type": "code",
   "execution_count": 50,
   "id": "4be23ab7",
   "metadata": {},
   "outputs": [
    {
     "data": {
      "text/plain": [
       "(0, 4)"
      ]
     },
     "execution_count": 50,
     "metadata": {},
     "output_type": "execute_result"
    }
   ],
   "source": [
    "divmod(x, y)\n",
    "# x = 몫, y = 나머지"
   ]
  },
  {
   "cell_type": "markdown",
   "id": "fb13eed5",
   "metadata": {},
   "source": [
    "#### 복합 대입연산자(compound assignment operatior)"
   ]
  },
  {
   "cell_type": "code",
   "execution_count": 65,
   "id": "6adfca28",
   "metadata": {},
   "outputs": [
    {
     "name": "stdout",
     "output_type": "stream",
     "text": [
      "5\n"
     ]
    }
   ],
   "source": [
    "a = 5\n",
    "a - 3\n",
    "print(a)"
   ]
  },
  {
   "cell_type": "code",
   "execution_count": 66,
   "id": "f78e8406",
   "metadata": {},
   "outputs": [],
   "source": [
    "a = a - 3\n",
    "#1. a-3 계산\n",
    "#2. 임시변수 temp = a - 3\n",
    "#. a = a - 3\n",
    "\n",
    "a -= 3"
   ]
  },
  {
   "cell_type": "code",
   "execution_count": 67,
   "id": "506261a0",
   "metadata": {},
   "outputs": [],
   "source": [
    "a += 3\n",
    "a -= 3\n",
    "a *= 3\n",
    "a /= 3"
   ]
  },
  {
   "cell_type": "code",
   "execution_count": 69,
   "id": "e72045ee",
   "metadata": {},
   "outputs": [
    {
     "ename": "SyntaxError",
     "evalue": "invalid syntax (Temp/ipykernel_4288/693332124.py, line 1)",
     "output_type": "error",
     "traceback": [
      "\u001b[1;36m  File \u001b[1;32m\"C:\\Users\\jiin\\AppData\\Local\\Temp/ipykernel_4288/693332124.py\"\u001b[1;36m, line \u001b[1;32m1\u001b[0m\n\u001b[1;33m    u = ? #값 초기화할 것, 그렇지 않으면 에러\u001b[0m\n\u001b[1;37m        ^\u001b[0m\n\u001b[1;31mSyntaxError\u001b[0m\u001b[1;31m:\u001b[0m invalid syntax\n"
     ]
    }
   ],
   "source": [
    "u = ? #값 초기화할 것, 그렇지 않으면 에러\n",
    "u = u + 1"
   ]
  },
  {
   "cell_type": "markdown",
   "id": "34744164",
   "metadata": {},
   "source": [
    "### Quiz 1.\n",
    "- 정수를 입력 받고 3의 배수인지 확인하세요.\n",
    "- 정수를 입력 받고 훌수인지 확인하세요."
   ]
  },
  {
   "cell_type": "code",
   "execution_count": 51,
   "id": "3f18379f",
   "metadata": {},
   "outputs": [
    {
     "name": "stdout",
     "output_type": "stream",
     "text": [
      "7\n",
      "False\n",
      "True\n"
     ]
    }
   ],
   "source": [
    "# if문 사용 코드\n",
    "num = int(input())\n",
    "\n",
    "if num % 3 == 0:\n",
    "    print(True)\n",
    "else:\n",
    "    print(False)\n",
    "    \n",
    "if num % 2 == 1:\n",
    "    print(True)\n",
    "else:\n",
    "    print(False)"
   ]
  },
  {
   "cell_type": "code",
   "execution_count": 80,
   "id": "9351ec8b",
   "metadata": {},
   "outputs": [
    {
     "name": "stdout",
     "output_type": "stream",
     "text": [
      "7\n"
     ]
    },
    {
     "data": {
      "text/plain": [
       "False"
      ]
     },
     "execution_count": 80,
     "metadata": {},
     "output_type": "execute_result"
    }
   ],
   "source": [
    "# if 문 안쓰는 코드\n",
    "\n",
    "num = int(input())\n",
    "\n",
    "num % 3 == 0"
   ]
  },
  {
   "cell_type": "code",
   "execution_count": 81,
   "id": "a654a96c",
   "metadata": {},
   "outputs": [
    {
     "name": "stdout",
     "output_type": "stream",
     "text": [
      "7\n"
     ]
    },
    {
     "data": {
      "text/plain": [
       "True"
      ]
     },
     "execution_count": 81,
     "metadata": {},
     "output_type": "execute_result"
    }
   ],
   "source": [
    "num = int(input())\n",
    "\n",
    "num % 2 == 1"
   ]
  },
  {
   "cell_type": "markdown",
   "id": "48e11dbb",
   "metadata": {},
   "source": [
    "### 지수 표현\n",
    "\n",
    "- e, E 둘다 가능하다\n",
    "- 앞부분은 float, int\n",
    "- 뒷부분은 int만 온다.\n",
    "    - 양수면 0 앞으로\n",
    "    - 음수면 0 뒤로(소수점)"
   ]
  },
  {
   "cell_type": "code",
   "execution_count": 52,
   "id": "e19ced73",
   "metadata": {},
   "outputs": [
    {
     "data": {
      "text/plain": [
       "1000000.0"
      ]
     },
     "execution_count": 52,
     "metadata": {},
     "output_type": "execute_result"
    }
   ],
   "source": [
    "1.0e6 # float"
   ]
  },
  {
   "cell_type": "code",
   "execution_count": 53,
   "id": "4ca3bf4b",
   "metadata": {},
   "outputs": [
    {
     "data": {
      "text/plain": [
       "0.000789"
      ]
     },
     "execution_count": 53,
     "metadata": {},
     "output_type": "execute_result"
    }
   ],
   "source": [
    "# 0.000789 => 지수표현\n",
    "7.89e-4"
   ]
  },
  {
   "cell_type": "markdown",
   "id": "e78079a8",
   "metadata": {},
   "source": [
    "### 조건문, if\n",
    "- code structure"
   ]
  },
  {
   "cell_type": "markdown",
   "id": "c5893f02",
   "metadata": {},
   "source": [
    "### 코드 짜는 틀\n",
    "- 주석 다는 법\n",
    "    - 설명하는 부분\n",
    "    - 목적: 의도를 표현한다, \n",
    "    - '#' hash, sharp, ... \n",
    "    - 시작된 부분부터 그 라인에 끝까지가 주석\n",
    "    - 문자열 안에 들어있는 해시는 문자열로 인식\n",
    "    - \"\"\"<주석>\"\"\"\n",
    "    \n",
    "- 라인 유지하기\n",
    "    - 들여쓰기, 공백 4개, 탭 1개\n",
    "    - 한 줄에 최대 80자 넘지 않게\n",
    "    - 백슬래시로 끊어준다(\\\\)"
   ]
  },
  {
   "cell_type": "code",
   "execution_count": 87,
   "id": "fc7ffa54",
   "metadata": {},
   "outputs": [],
   "source": [
    "a = 3 # 여기부터 라인 끝\n",
    "b = 2"
   ]
  },
  {
   "cell_type": "code",
   "execution_count": 88,
   "id": "f1421af7",
   "metadata": {},
   "outputs": [
    {
     "data": {
      "text/plain": [
       "'hey ###'"
      ]
     },
     "execution_count": 88,
     "metadata": {},
     "output_type": "execute_result"
    }
   ],
   "source": [
    "example = 'hey ###'\n",
    "example"
   ]
  },
  {
   "cell_type": "code",
   "execution_count": 90,
   "id": "bce32c31",
   "metadata": {},
   "outputs": [
    {
     "name": "stdout",
     "output_type": "stream",
     "text": [
      "hey ###\n"
     ]
    },
    {
     "data": {
      "text/plain": [
       "'\\n주석1\\n주석2\\n주석3\\n'"
      ]
     },
     "execution_count": 90,
     "metadata": {},
     "output_type": "execute_result"
    }
   ],
   "source": [
    "example = 'hey ###'\n",
    "print(example)\n",
    "\n",
    "\"\"\"\n",
    "주석1\n",
    "주석2\n",
    "주석3\n",
    "\"\"\"\n",
    "# 코드에 영향 미치지 않음"
   ]
  },
  {
   "cell_type": "code",
   "execution_count": 91,
   "id": "5563e4de",
   "metadata": {},
   "outputs": [
    {
     "ename": "SyntaxError",
     "evalue": "invalid syntax (Temp/ipykernel_4288/2001434079.py, line 1)",
     "output_type": "error",
     "traceback": [
      "\u001b[1;36m  File \u001b[1;32m\"C:\\Users\\jiin\\AppData\\Local\\Temp/ipykernel_4288/2001434079.py\"\u001b[1;36m, line \u001b[1;32m1\u001b[0m\n\u001b[1;33m    if ....:\u001b[0m\n\u001b[1;37m           ^\u001b[0m\n\u001b[1;31mSyntaxError\u001b[0m\u001b[1;31m:\u001b[0m invalid syntax\n"
     ]
    }
   ],
   "source": [
    "if <조건식>:\n",
    "    ###\n",
    "#공백 4개"
   ]
  },
  {
   "cell_type": "markdown",
   "id": "971d509a",
   "metadata": {},
   "source": [
    "- 조건 1개\n",
    "if <조건식>: <실행코드>"
   ]
  },
  {
   "cell_type": "code",
   "execution_count": 92,
   "id": "e2aa5545",
   "metadata": {},
   "outputs": [
    {
     "name": "stdout",
     "output_type": "stream",
     "text": [
      "Yaay!\n"
     ]
    }
   ],
   "source": [
    "if 4 != 9:\n",
    "    print('Yaay!')"
   ]
  },
  {
   "cell_type": "markdown",
   "id": "7e301700",
   "metadata": {},
   "source": [
    "- 조건 2개:\n",
    "    if <조건식1>:\n",
    "            <실행할 코드>\n",
    "    else:\n",
    "        <실행할 코드2>"
   ]
  },
  {
   "cell_type": "code",
   "execution_count": 94,
   "id": "3c0cbee2",
   "metadata": {},
   "outputs": [
    {
     "name": "stdout",
     "output_type": "stream",
     "text": [
      "Hey!\n"
     ]
    }
   ],
   "source": [
    "if 4 == 9:\n",
    "    print('Yaay!')\n",
    "else:\n",
    "    print('Hey!')"
   ]
  },
  {
   "cell_type": "markdown",
   "id": "055263e8",
   "metadata": {},
   "source": [
    "- 조건 3개 이상:\n",
    "     if <조건식1>:\n",
    "            <실행할 코드>\n",
    "    elif <조건식2>:\n",
    "            <실행할 코드3>\n",
    "            \n",
    "    ....\n",
    "    else:\n",
    "        <실행할 코드2>"
   ]
  },
  {
   "cell_type": "markdown",
   "id": "aa52be86",
   "metadata": {},
   "source": [
    "#### 비교연산자\n",
    "- x < y, x <= y\n",
    "- x > y, x >= y\n",
    "- x == y (값)\n",
    "- x != y (값)\n",
    "- x is y (값과 메모리 주소 모두 같아야 한다.)\n",
    "- x is not y"
   ]
  },
  {
   "cell_type": "markdown",
   "id": "038c6df5",
   "metadata": {},
   "source": [
    "### Quiz 1.\n",
    "- 학점 부여하기\n",
    "- 학점을 입력 받아서\n",
    "    - 90점 이상이면 A:\n",
    "    - 80, B\n",
    "    - 70, C\n",
    "    - 그외, D\n",
    "\n",
    "\n",
    "- 변수 설정 유의"
   ]
  },
  {
   "cell_type": "code",
   "execution_count": 56,
   "id": "cc4d7afc",
   "metadata": {},
   "outputs": [
    {
     "name": "stdout",
     "output_type": "stream",
     "text": [
      "점수를 입력하세요: 100\n",
      "점수는 100점, 학점은 A학점 입니다.\n"
     ]
    }
   ],
   "source": [
    "score = int(input(\"점수를 입력하세요: \"))\n",
    "\n",
    "if score >= 90: \n",
    "    grade = 'A'\n",
    "elif score >= 80:\n",
    "    grade = 'B'\n",
    "elif score >= 70:\n",
    "    grade = 'C'\n",
    "else:\n",
    "    grade = 'D'\n",
    "    \n",
    "print(f'점수는 {score}점, 학점은 {grade}학점 입니다.')"
   ]
  },
  {
   "cell_type": "markdown",
   "id": "b5c95c60",
   "metadata": {},
   "source": [
    "### Quiz 2.\n",
    "\n",
    "- 아이디와 비번 입력 받아서 둘다 일치하면 로그인하기\n",
    "- 아이디, 비번 각자 정해놓기\n",
    "- 일치하지 않을 때에는 창의적으로 어떤 걸 반환하기"
   ]
  },
  {
   "cell_type": "code",
   "execution_count": 111,
   "id": "5c8c6694",
   "metadata": {},
   "outputs": [
    {
     "name": "stdout",
     "output_type": "stream",
     "text": [
      "아이디를 입력하세요: youyedam\n",
      "비밀번호를 입력하세요: 1234\n",
      "로그인 성공!\n"
     ]
    }
   ],
   "source": [
    "write_id = input(\"아이디를 입력하세요: \")\n",
    "write_pw = input(\"비밀번호를 입력하세요: \")\n",
    "\n",
    "security_id = 'youyedam'\n",
    "security_pw = '1234'\n",
    "\n",
    "if write_id == security_id:\n",
    "    if write_pw == security_pw:\n",
    "        print('로그인 성공!')\n",
    "    else: \n",
    "        print('비밀번호가 일치하지 않습니다.')\n",
    "else:\n",
    "    print('아이디가 존재하지 않습니다.')"
   ]
  },
  {
   "cell_type": "markdown",
   "id": "9c243762",
   "metadata": {},
   "source": [
    "#### 논리연산자\n",
    "- 여러 조건식을 비교할 때\n",
    "- 예: 10 < x < 20\n",
    "    -  파이썬에서만 가능한 표현\n",
    "    - x > 10 혹은 x < 20\n",
    "\n",
    "- and, & : 둘 다 참일 때\n",
    "- or, | : 둘 중 하나만 참이어도 True\n",
    "- not : 참 -> False, 거짓 -> True"
   ]
  },
  {
   "cell_type": "markdown",
   "id": "7eecffaf",
   "metadata": {},
   "source": [
    "### Quiz 3.\n",
    "- quiz 1 확장판\n",
    "- 결석 횟수를 받아서 점수가 80점 이상인데 결석이 2번 이상이면 F, 나머지는 점수대로"
   ]
  },
  {
   "cell_type": "code",
   "execution_count": 55,
   "id": "2e6e4fb6",
   "metadata": {},
   "outputs": [
    {
     "name": "stdout",
     "output_type": "stream",
     "text": [
      "점수를 입력하세요: 100\n",
      "결석 횟수를 입력하세요: 2\n",
      "점수는 100점, 학점은 F학점 입니다.\n"
     ]
    }
   ],
   "source": [
    "score = int(input(\"점수를 입력하세요: \"))\n",
    "absence = int(input(\"결석 횟수를 입력하세요: \"))\n",
    "\n",
    "if score >= 90: \n",
    "    grade = 'A'\n",
    "elif score >= 80:\n",
    "    grade = 'B'\n",
    "elif score >= 70:\n",
    "    grade = 'C'\n",
    "else:\n",
    "    grade = 'D'\n",
    "\n",
    "if score >= 80 and absence >= 2 :\n",
    "    grade = 'F'\n",
    "    \n",
    "print(f'점수는 {score}점, 학점은 {grade}학점 입니다.')"
   ]
  }
 ],
 "metadata": {
  "kernelspec": {
   "display_name": "Python 3 (ipykernel)",
   "language": "python",
   "name": "python3"
  },
  "language_info": {
   "codemirror_mode": {
    "name": "ipython",
    "version": 3
   },
   "file_extension": ".py",
   "mimetype": "text/x-python",
   "name": "python",
   "nbconvert_exporter": "python",
   "pygments_lexer": "ipython3",
   "version": "3.9.7"
  }
 },
 "nbformat": 4,
 "nbformat_minor": 5
}
