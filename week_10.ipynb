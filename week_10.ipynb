{
 "cells": [
  {
   "cell_type": "markdown",
   "id": "22b8533a",
   "metadata": {},
   "source": [
    "### 10: 객체와 클래스\n",
    "- 객체를 구현하는 것 => 클래스\n",
    "- 객체 = object\n",
    "- 객체지향프로그래밍\n",
    "- 속성과 행동을 가지는 개념, 실존할 수도 있고, 아닐 수도 있는 것.\n",
    "    - 예: 자동차, 강아지, 꽃, ...thing\n",
    "    - 자동차 속성: 브랜드, 색, 속도, 모델, ... => 변수\n",
    "        - 행동: 가다, 서다, 회전, 주차, ... => 메소드 (함수)\n",
    "    - 강아지 속성: 이름, 종, 색 무게, ...\n",
    "        - 행동: 뛰다, 짖다, 자다, 핥다, ...\n",
    "        \n",
    "- 편의점 => \"고객이 편의점에서 과자를 샀다\"\n",
    "    => 고객(사람),          편의점,                             과자(물건)\n",
    "    - 돈              - 재고, 수익                        - 이름, 브랜드, 가격\n",
    "    - 물건 사다, 돈 내다    - 팔다, 수익 남기다, 물건 등록      - X\n",
    "    => 상호작용으로 코드를 구성하는 것"
   ]
  },
  {
   "cell_type": "markdown",
   "id": "ee9a0e40",
   "metadata": {},
   "source": [
    "## 클래스 선언\n",
    "- 첫 글자 대문자\n",
    "- nice car -> Nice_car (x)\n",
    "- NiceCar (o) 카멜 표기법\n",
    "- 그리고, 바로 ':'이 온다.\n",
    "- 아무 설정이 없다면 'pass'\n",
    "\n",
    "- 정의부, 선언부가 있다.\n",
    "    - 정의부 = 붕어빵 틀\n",
    "    - 선언부 = 붕어빵 "
   ]
  },
  {
   "cell_type": "code",
   "execution_count": 1,
   "id": "ba4eb659",
   "metadata": {},
   "outputs": [
    {
     "data": {
      "text/plain": [
       "<__main__.Car at 0x1cf45d21130>"
      ]
     },
     "execution_count": 1,
     "metadata": {},
     "output_type": "execute_result"
    }
   ],
   "source": [
    "# 정의부\n",
    "class Car: # 객체\n",
    "    pass\n",
    "\n",
    "# 선언부\n",
    "my_car = Car()\n",
    "my_car # instance == 붕어빵"
   ]
  },
  {
   "cell_type": "code",
   "execution_count": 2,
   "id": "d497bcc6",
   "metadata": {},
   "outputs": [],
   "source": [
    "my_car.name = 'bmw'\n",
    "my_car.color = 'white'"
   ]
  },
  {
   "cell_type": "code",
   "execution_count": 3,
   "id": "168ceea1",
   "metadata": {},
   "outputs": [
    {
     "data": {
      "text/plain": [
       "'bmw'"
      ]
     },
     "execution_count": 3,
     "metadata": {},
     "output_type": "execute_result"
    }
   ],
   "source": [
    "# 접근하는 방법\n",
    "my_car.name"
   ]
  },
  {
   "cell_type": "code",
   "execution_count": 4,
   "id": "9b9ba519",
   "metadata": {},
   "outputs": [],
   "source": [
    "class Car:\n",
    "    #1. 문제점: 자동차 종류는 많은데, 번경하기 번거로움\n",
    "    name = 'BMW'"
   ]
  },
  {
   "cell_type": "code",
   "execution_count": 5,
   "id": "6a5640d5",
   "metadata": {},
   "outputs": [
    {
     "data": {
      "text/plain": [
       "'BMW'"
      ]
     },
     "execution_count": 5,
     "metadata": {},
     "output_type": "execute_result"
    }
   ],
   "source": [
    "# 속성 정의\n",
    "your_car = Car()\n",
    "your_car.name"
   ]
  },
  {
   "cell_type": "code",
   "execution_count": 7,
   "id": "f73aa156",
   "metadata": {},
   "outputs": [
    {
     "data": {
      "text/plain": [
       "'Kia'"
      ]
     },
     "execution_count": 7,
     "metadata": {},
     "output_type": "execute_result"
    }
   ],
   "source": [
    "your_car.name ='Kia' # 바꿀 수 있음\n",
    "your_car.name"
   ]
  },
  {
   "cell_type": "code",
   "execution_count": 8,
   "id": "3ecfcd1b",
   "metadata": {},
   "outputs": [],
   "source": [
    "#2. init을 통해서, 객체를 만들 때 지정을 해주는 방법\n",
    "class Car:\n",
    "    def __init__(self, name): # 속성 초기화 함수\n",
    "        # 객체 만들 때 들어오는 값으로 이름을 설정하고 싶다.\n",
    "        self.name = name\n",
    "        # self == instance: 나 자신 (인스턴스 자신)"
   ]
  },
  {
   "cell_type": "code",
   "execution_count": 9,
   "id": "d5492975",
   "metadata": {},
   "outputs": [],
   "source": [
    "her_car = Car(name='Hyundai')"
   ]
  },
  {
   "cell_type": "code",
   "execution_count": 10,
   "id": "a667561b",
   "metadata": {},
   "outputs": [
    {
     "data": {
      "text/plain": [
       "'Hyundai'"
      ]
     },
     "execution_count": 10,
     "metadata": {},
     "output_type": "execute_result"
    }
   ],
   "source": [
    "her_car.name"
   ]
  },
  {
   "cell_type": "code",
   "execution_count": 11,
   "id": "3c455cf4",
   "metadata": {},
   "outputs": [
    {
     "data": {
      "text/plain": [
       "'Toyota'"
      ]
     },
     "execution_count": 11,
     "metadata": {},
     "output_type": "execute_result"
    }
   ],
   "source": [
    "car2 = Car('Toyota')\n",
    "car2.name"
   ]
  },
  {
   "cell_type": "markdown",
   "id": "2f032572",
   "metadata": {},
   "source": [
    "### 모델, 색 속성 추가해보기"
   ]
  },
  {
   "cell_type": "code",
   "execution_count": 19,
   "id": "20277a26",
   "metadata": {},
   "outputs": [],
   "source": [
    "class Car:\n",
    "    def __init__(self, name, model, color): \n",
    "        self.name = name\n",
    "        self.model = model\n",
    "        self.color = color"
   ]
  },
  {
   "cell_type": "code",
   "execution_count": 20,
   "id": "defdc0cf",
   "metadata": {},
   "outputs": [],
   "source": [
    "car3 = Car('Tico', 'Mini', 'Blue')"
   ]
  },
  {
   "cell_type": "code",
   "execution_count": 21,
   "id": "51b4abfc",
   "metadata": {},
   "outputs": [
    {
     "data": {
      "text/plain": [
       "'Tico'"
      ]
     },
     "execution_count": 21,
     "metadata": {},
     "output_type": "execute_result"
    }
   ],
   "source": [
    "car3.name"
   ]
  },
  {
   "cell_type": "code",
   "execution_count": 22,
   "id": "09e6d3ff",
   "metadata": {},
   "outputs": [
    {
     "data": {
      "text/plain": [
       "'Mini'"
      ]
     },
     "execution_count": 22,
     "metadata": {},
     "output_type": "execute_result"
    }
   ],
   "source": [
    "car3.model"
   ]
  },
  {
   "cell_type": "code",
   "execution_count": 23,
   "id": "2e9c0cb6",
   "metadata": {},
   "outputs": [
    {
     "data": {
      "text/plain": [
       "'Blue'"
      ]
     },
     "execution_count": 23,
     "metadata": {},
     "output_type": "execute_result"
    }
   ],
   "source": [
    "car3.color"
   ]
  },
  {
   "cell_type": "code",
   "execution_count": 40,
   "id": "54884e39",
   "metadata": {},
   "outputs": [],
   "source": [
    "# 클래스에 행동 추가하기\n",
    "\n",
    "class Car:\n",
    "    def __init__(self, name, model, color):\n",
    "        self.name = name\n",
    "        self.model = model\n",
    "        self.color = color\n",
    "        \n",
    "    def drive(self):\n",
    "        # 1. {브랜드 이름}가 출발합니다.\n",
    "        print(f'{self.name}가 출발합니다.')\n",
    "    \n",
    "    def stop(self):\n",
    "        print('차가 섭니다.')\n",
    "        \n",
    "    def change_color(self):\n",
    "        # 2. 컬러를 gray로 바꾼다.\n",
    "        self.color = 'gray'"
   ]
  },
  {
   "cell_type": "code",
   "execution_count": 41,
   "id": "daa9195b",
   "metadata": {},
   "outputs": [],
   "source": [
    "car3 = Car('Tico', 'Mini', 'Blue')"
   ]
  },
  {
   "cell_type": "code",
   "execution_count": 42,
   "id": "48eebefa",
   "metadata": {},
   "outputs": [
    {
     "name": "stdout",
     "output_type": "stream",
     "text": [
      "Tico가 출발합니다.\n"
     ]
    }
   ],
   "source": [
    "car3.drive()"
   ]
  },
  {
   "cell_type": "code",
   "execution_count": 43,
   "id": "7597cf9a",
   "metadata": {},
   "outputs": [
    {
     "name": "stdout",
     "output_type": "stream",
     "text": [
      "차가 섭니다.\n"
     ]
    }
   ],
   "source": [
    "car3.stop()"
   ]
  },
  {
   "cell_type": "code",
   "execution_count": 45,
   "id": "5a3baa93",
   "metadata": {},
   "outputs": [
    {
     "name": "stdout",
     "output_type": "stream",
     "text": [
      "gray\n"
     ]
    }
   ],
   "source": [
    "car3.change_color()\n",
    "print(car3.color)"
   ]
  },
  {
   "cell_type": "code",
   "execution_count": 56,
   "id": "d0a3ba3e",
   "metadata": {},
   "outputs": [],
   "source": [
    "class Car:\n",
    "    def __init__(self, name, model=None, color='black'):\n",
    "        self.name = name\n",
    "        self.model = model\n",
    "        self.color = color\n",
    "    \n",
    "    def drive(self):\n",
    "        # (차 이름)가 출발합니다.\n",
    "        print(f'{self.name}가 갑니다') # name만 사용 X\n",
    "    \n",
    "    def change_color(self, color): # 컬러가 들어오면 그 값으로 설정, 아니면 블랙으로 설정\n",
    "        self.color = color\n",
    "    \n",
    "    \n",
    "    # model을 생성할 때 안 넣어도 되게 설정하기 (''보다 None을 사용해야 함)"
   ]
  },
  {
   "cell_type": "code",
   "execution_count": 57,
   "id": "a6caa97d",
   "metadata": {},
   "outputs": [],
   "source": [
    "car4 = Car('Tico')"
   ]
  },
  {
   "cell_type": "code",
   "execution_count": 58,
   "id": "218bc8db",
   "metadata": {},
   "outputs": [],
   "source": [
    "car4.change_color('white')"
   ]
  },
  {
   "cell_type": "code",
   "execution_count": 59,
   "id": "95f81724",
   "metadata": {},
   "outputs": [
    {
     "data": {
      "text/plain": [
       "'white'"
      ]
     },
     "execution_count": 59,
     "metadata": {},
     "output_type": "execute_result"
    }
   ],
   "source": [
    "car4.color"
   ]
  },
  {
   "cell_type": "code",
   "execution_count": 60,
   "id": "f0c7a223",
   "metadata": {},
   "outputs": [
    {
     "name": "stdout",
     "output_type": "stream",
     "text": [
      "Tico가 갑니다\n"
     ]
    }
   ],
   "source": [
    "car4.drive()"
   ]
  },
  {
   "cell_type": "code",
   "execution_count": 61,
   "id": "63de6115",
   "metadata": {},
   "outputs": [
    {
     "data": {
      "text/plain": [
       "'white'"
      ]
     },
     "execution_count": 61,
     "metadata": {},
     "output_type": "execute_result"
    }
   ],
   "source": [
    "car4.color"
   ]
  },
  {
   "cell_type": "code",
   "execution_count": 64,
   "id": "7cd61624",
   "metadata": {},
   "outputs": [
    {
     "name": "stdout",
     "output_type": "stream",
     "text": [
      "None\n",
      "Forche\n"
     ]
    }
   ],
   "source": [
    "car5 = Car('Kia')\n",
    "print(car5.model)\n",
    "\n",
    "car5.model = 'Forche'\n",
    "print(car5.model)"
   ]
  },
  {
   "cell_type": "markdown",
   "id": "3ec4a290",
   "metadata": {},
   "source": [
    "### 캡슐화, 정보 은닉\n",
    "- public -> private 으로 바꾸는 작업\n",
    "- getter, setter"
   ]
  },
  {
   "cell_type": "code",
   "execution_count": 66,
   "id": "815a1089",
   "metadata": {},
   "outputs": [
    {
     "data": {
      "text/plain": [
       "'red'"
      ]
     },
     "execution_count": 66,
     "metadata": {},
     "output_type": "execute_result"
    }
   ],
   "source": [
    "class Fruit:\n",
    "    color = 'red'\n",
    "    \n",
    "kiwi = Fruit()\n",
    "kiwi.color"
   ]
  },
  {
   "cell_type": "code",
   "execution_count": 67,
   "id": "678eb36c",
   "metadata": {},
   "outputs": [
    {
     "data": {
      "text/plain": [
       "'black'"
      ]
     },
     "execution_count": 67,
     "metadata": {},
     "output_type": "execute_result"
    }
   ],
   "source": [
    "Fruit.color = 'black' # 밖에서 변경\n",
    "\n",
    "apple = Fruit()\n",
    "apple.color # 내가 알지 못한 사이 컬러가 바뀜."
   ]
  },
  {
   "cell_type": "markdown",
   "id": "aeb25ddd",
   "metadata": {},
   "source": [
    "#### get, set\n",
    "- getter: 클래스 내 객체 변수 반환\n",
    "- setter: == 변수 설정\n",
    "- 접근을 아예 못하게 하는 것은 아님"
   ]
  },
  {
   "cell_type": "code",
   "execution_count": 224,
   "id": "a4416499",
   "metadata": {},
   "outputs": [],
   "source": [
    "class Car:\n",
    "    def __init__(self, input_name):\n",
    "        self.name = input_name\n",
    "        \n",
    "    def get_name(self):\n",
    "        # 함수 반환\n",
    "        return self.name\n",
    "    \n",
    "    def set_name(self, input_name):\n",
    "        #return값 없음\n",
    "        self.name = input_name\n",
    "        \n",
    "c = Car('name1')"
   ]
  },
  {
   "cell_type": "code",
   "execution_count": 225,
   "id": "19b94449",
   "metadata": {},
   "outputs": [
    {
     "data": {
      "text/plain": [
       "'name1'"
      ]
     },
     "execution_count": 225,
     "metadata": {},
     "output_type": "execute_result"
    }
   ],
   "source": [
    "c.get_name()"
   ]
  },
  {
   "cell_type": "code",
   "execution_count": 226,
   "id": "04268ed4",
   "metadata": {},
   "outputs": [
    {
     "data": {
      "text/plain": [
       "'name2'"
      ]
     },
     "execution_count": 226,
     "metadata": {},
     "output_type": "execute_result"
    }
   ],
   "source": [
    "c.set_name('name2')\n",
    "c.name"
   ]
  },
  {
   "cell_type": "code",
   "execution_count": 227,
   "id": "3efb17a1",
   "metadata": {},
   "outputs": [
    {
     "data": {
      "text/plain": [
       "'name3'"
      ]
     },
     "execution_count": 227,
     "metadata": {},
     "output_type": "execute_result"
    }
   ],
   "source": [
    "c.name = 'name3'\n",
    "c.name"
   ]
  },
  {
   "cell_type": "code",
   "execution_count": 68,
   "id": "d9868fa9",
   "metadata": {},
   "outputs": [
    {
     "data": {
      "text/plain": [
       "'name_1'"
      ]
     },
     "execution_count": 68,
     "metadata": {},
     "output_type": "execute_result"
    }
   ],
   "source": [
    "# 2번 방법\n",
    "\n",
    "class Car:\n",
    "    def __init__(self, input_name):\n",
    "        self.hidden_name = input_name\n",
    "        \n",
    "    def get_name(self):\n",
    "        # 힘수 반환\n",
    "        return self.hidden_name\n",
    "    \n",
    "    def set_name(self, input_name):\n",
    "        #return값 없음\n",
    "        self.hidden_name = input_name\n",
    "        \n",
    "    # name을 지정해주고, property 사용    \n",
    "    name = property(get_name, set_name)\n",
    "    \n",
    "d = Car('name_1')\n",
    "d.name"
   ]
  },
  {
   "cell_type": "code",
   "execution_count": 69,
   "id": "fad15f46",
   "metadata": {},
   "outputs": [],
   "source": [
    "# 3번 방법\n",
    "\n",
    "class Car:\n",
    "    def __init__(self, input_name):\n",
    "        self.hidden_name = input_name\n",
    "    # decorator\n",
    "    @property # getter\n",
    "    def name(self):\n",
    "        # 변수반환\n",
    "        return self.hidden_name\n",
    "    \n",
    "    @name.setter # setter\n",
    "    def name(self, input_name):\n",
    "        #return값 없음\n",
    "        self.hidden_name = input_name"
   ]
  },
  {
   "cell_type": "code",
   "execution_count": 70,
   "id": "66aec516",
   "metadata": {},
   "outputs": [
    {
     "data": {
      "text/plain": [
       "'name a'"
      ]
     },
     "execution_count": 70,
     "metadata": {},
     "output_type": "execute_result"
    }
   ],
   "source": [
    "e = Car('name a')\n",
    "e.name"
   ]
  },
  {
   "cell_type": "code",
   "execution_count": 71,
   "id": "6ad62992",
   "metadata": {},
   "outputs": [
    {
     "data": {
      "text/plain": [
       "'name a'"
      ]
     },
     "execution_count": 71,
     "metadata": {},
     "output_type": "execute_result"
    }
   ],
   "source": [
    "e.hidden_name"
   ]
  },
  {
   "cell_type": "code",
   "execution_count": 237,
   "id": "b6e8fe91",
   "metadata": {},
   "outputs": [],
   "source": [
    "# 4번 방법 - 완전 가려야 할 때\n",
    "\n",
    "class Car:\n",
    "    def __init__(self, input_name):\n",
    "        self.__name = input_name\n",
    "    # decorator\n",
    "    @property\n",
    "    def name(self):\n",
    "        # 변수반환\n",
    "        return self.__name\n",
    "    \n",
    "    @name.setter\n",
    "    def name(self, input_name):\n",
    "        self.__name = input_name"
   ]
  },
  {
   "cell_type": "code",
   "execution_count": 238,
   "id": "680019bc",
   "metadata": {},
   "outputs": [
    {
     "ename": "AttributeError",
     "evalue": "'Car' object has no attribute '__name'",
     "output_type": "error",
     "traceback": [
      "\u001b[1;31m---------------------------------------------------------------------------\u001b[0m",
      "\u001b[1;31mAttributeError\u001b[0m                            Traceback (most recent call last)",
      "\u001b[1;32m~\\AppData\\Local\\Temp/ipykernel_14832/229484777.py\u001b[0m in \u001b[0;36m<module>\u001b[1;34m\u001b[0m\n\u001b[0;32m      1\u001b[0m \u001b[0mf\u001b[0m \u001b[1;33m=\u001b[0m \u001b[0mCar\u001b[0m\u001b[1;33m(\u001b[0m\u001b[1;34m'name b'\u001b[0m\u001b[1;33m)\u001b[0m\u001b[1;33m\u001b[0m\u001b[1;33m\u001b[0m\u001b[0m\n\u001b[1;32m----> 2\u001b[1;33m \u001b[0mf\u001b[0m\u001b[1;33m.\u001b[0m\u001b[0m__name\u001b[0m\u001b[1;33m\u001b[0m\u001b[1;33m\u001b[0m\u001b[0m\n\u001b[0m",
      "\u001b[1;31mAttributeError\u001b[0m: 'Car' object has no attribute '__name'"
     ]
    }
   ],
   "source": [
    "f = Car('name b')\n",
    "f.__name"
   ]
  },
  {
   "cell_type": "code",
   "execution_count": 72,
   "id": "b3927534",
   "metadata": {},
   "outputs": [
    {
     "data": {
      "text/plain": [
       "10"
      ]
     },
     "execution_count": 72,
     "metadata": {},
     "output_type": "execute_result"
    }
   ],
   "source": [
    "class Circle:\n",
    "    def __init__(self, radius):\n",
    "        self.radius = radius\n",
    "        \n",
    "    @property # 메소드를 통해 속성을 만드는 도구\n",
    "    def parameter(self):\n",
    "        return self.radius * 2\n",
    "\n",
    "ex = Circle(5)\n",
    "ex.parameter"
   ]
  },
  {
   "cell_type": "code",
   "execution_count": 73,
   "id": "f43e9cb1",
   "metadata": {},
   "outputs": [
    {
     "data": {
      "text/plain": [
       "38"
      ]
     },
     "execution_count": 73,
     "metadata": {},
     "output_type": "execute_result"
    }
   ],
   "source": [
    "ex.radius = 19\n",
    "ex.parameter"
   ]
  },
  {
   "cell_type": "markdown",
   "id": "2e94a810",
   "metadata": {},
   "source": [
    "### 실습\n",
    "- 메모장, 메모 구현하기\n",
    "- 메모장\n",
    "    - 속성: 제목, 페이지번호, 메모\n",
    "    - 메모 추가하다, 메모 삭제하다, 페이지번호 확인하다\n",
    "- 메모\n",
    "    - 속성: 글귀\n",
    "    - 행동: 쓰다, 지우다\n",
    "    \n",
    "- 사용:\n",
    "    - 메모 쓴다\n",
    "    - 메모장에 추가\n",
    "    - 페이지 번호가 늘어난다\n",
    "    - 메모 삭제\n",
    "    - 페이지 번호 줄어든다\n",
    "    - 메모장> 제목만 은닉시킨다\n"
   ]
  },
  {
   "cell_type": "code",
   "execution_count": 100,
   "id": "a90a9aa9",
   "metadata": {
    "scrolled": true
   },
   "outputs": [
    {
     "name": "stdout",
     "output_type": "stream",
     "text": [
      "page | 0\n",
      "우리 모두 스스로가 원하는 리더가 됩시다\n",
      "page | 1\n",
      "모두가 함께 앞으로 나아가면 성공은 저절로 따라옵니다\n",
      "page | 2\n",
      "혼자서는 작은 한 방울이지만 함께 모이면 바다를 이룹니다\n",
      "\n",
      "page | 0\n",
      "우리 모두 스스로가 원하는 리더가 됩시다\n",
      "page | 1\n",
      "혼자서는 작은 한 방울이지만 함께 모이면 바다를 이룹니다\n",
      "\n",
      "page | 0\n",
      "우리 모두 스스로가 원하는 리더가 됩시다\n",
      "page | 1\n",
      "혼자서는 작은 한 방울이지만 함께 모이면 바다를 이룹니다\n",
      "\n",
      "page | 0\n",
      "우리 모두 스스로가 원하는 리더가 됩시다\n",
      "\n",
      "1\n"
     ]
    }
   ],
   "source": [
    "class Notebook:\n",
    "    def __init__(self, title, memo=[], page=0):\n",
    "        self.__title = title\n",
    "        self.memo = memo\n",
    "        self.page = page\n",
    "    \n",
    "    @property\n",
    "    def title(self):\n",
    "        return self.__title\n",
    "    \n",
    "    def add_note(self, note=[]):\n",
    "        self.memo.extend(note)\n",
    "        self.page += len(note)\n",
    "        \n",
    "    def erase_note(self, note):\n",
    "        self.memo.remove(note)\n",
    "        self.page -= 1\n",
    "        \n",
    "    def get_page_num(self):\n",
    "        return self.page\n",
    "    \n",
    "    def show_notebook(self):\n",
    "        for page, line in enumerate(self.memo):\n",
    "            print(f'page | {page}')\n",
    "            print(line)\n",
    "        \n",
    "class Note:\n",
    "    def __init__(self, memo=[]):\n",
    "        self.memo = memo\n",
    "    \n",
    "    def write(self, sent):\n",
    "        self.memo.append(sent)\n",
    "        \n",
    "    def erase(self, sent):\n",
    "        self.memo.remove(sent)\n",
    "        \n",
    "    def show_note(self):\n",
    "        for page, line in enumerate(self.memo):\n",
    "            print(f'page | {page}')\n",
    "            print(line)\n",
    "        \n",
    "        \n",
    "# 사용\n",
    "line1 = '우리 모두 스스로가 원하는 리더가 됩시다'\n",
    "line2 = '모두가 함께 앞으로 나아가면 성공은 저절로 따라옵니다'\n",
    "line3 = '혼자서는 작은 한 방울이지만 함께 모이면 바다를 이룹니다'\n",
    "\n",
    "# 메모 추가\n",
    "my_note = Note()\n",
    "my_note.write(line1)\n",
    "my_note.write(line2)\n",
    "my_note.write(line3)\n",
    "my_note.show_note()\n",
    "print()\n",
    "\n",
    "# 메모 삭제\n",
    "my_note.erase(line2)\n",
    "my_note.show_note()\n",
    "print()\n",
    "\n",
    "# 메모장에 추가\n",
    "my_book = Notebook('메모장')\n",
    "my_book.add_note(my_note.memo)\n",
    "my_book.show_notebook()\n",
    "print()\n",
    "\n",
    "# 메모장 삭제\n",
    "my_book.erase_note(line3)\n",
    "my_book.show_notebook()\n",
    "print()\n",
    "\n",
    "# 페이지 번호 확인하기\n",
    "print(my_book.get_page_num())\n",
    "        "
   ]
  },
  {
   "cell_type": "code",
   "execution_count": null,
   "id": "0f0f78a3",
   "metadata": {},
   "outputs": [],
   "source": []
  }
 ],
 "metadata": {
  "kernelspec": {
   "display_name": "Python 3 (ipykernel)",
   "language": "python",
   "name": "python3"
  },
  "language_info": {
   "codemirror_mode": {
    "name": "ipython",
    "version": 3
   },
   "file_extension": ".py",
   "mimetype": "text/x-python",
   "name": "python",
   "nbconvert_exporter": "python",
   "pygments_lexer": "ipython3",
   "version": "3.9.7"
  }
 },
 "nbformat": 4,
 "nbformat_minor": 5
}
